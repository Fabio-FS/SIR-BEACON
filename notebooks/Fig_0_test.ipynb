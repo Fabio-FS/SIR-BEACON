{
 "cells": [
  {
   "cell_type": "code",
   "execution_count": 4,
   "metadata": {},
   "outputs": [
    {
     "name": "stdout",
     "output_type": "stream",
     "text": [
      "The autoreload extension is already loaded. To reload it, use:\n",
      "  %reload_ext autoreload\n"
     ]
    }
   ],
   "source": [
    "%load_ext autoreload\n",
    "%autoreload 2"
   ]
  },
  {
   "cell_type": "code",
   "execution_count": 10,
   "metadata": {},
   "outputs": [],
   "source": [
    "from src.models.SIRM import sweep_pol_SPB_SIRM, sweep_pol_mean_SIRM\n",
    "from src.models.SIRM_D import sweep_pol_SPB_SIRM_D, sweep_pol_mean_SIRM_D\n",
    "from src.utils.distributions import pol_to_alpha, homogeneous_distribution\n",
    "from plot_functions import *\n",
    "import numpy as np\n",
    "\n",
    "\n",
    "import matplotlib.pyplot as plt\n",
    "import seaborn as sns\n",
    "import os\n",
    "\n",
    "path_Plot_with_labels = \"../figures/with_labels/\"\n",
    "path_Plot_without_labels = \"../figures/no_labels/\"\n",
    "\n",
    "if not os.path.exists(path_Plot_with_labels):\n",
    "    os.makedirs(path_Plot_with_labels)\n",
    "\n",
    "if not os.path.exists(path_Plot_without_labels):\n",
    "    os.makedirs(path_Plot_without_labels)\n",
    "def ALPHAS(Np):\n",
    "    return pol_to_alpha(np.linspace(1/Np/2, 1-1/Np/2, Np)/4)\n",
    "\n",
    "\n",
    "\n",
    "my_hot_r = discretize_cmaps('hot_r', 10)\n",
    "my_hot_r.set_bad('gray')\n",
    "\n",
    "my_vir_r = discretize_cmaps('viridis_r', 10)\n",
    "my_vir_r.set_bad('gray')"
   ]
  },
  {
   "cell_type": "code",
   "execution_count": 11,
   "metadata": {},
   "outputs": [],
   "source": [
    "# color palettes\n",
    "\n",
    "CP1 = ['#7b3294','#c2a5cf','#000','#a6dba0','#008837']\n",
    "CP1 = ['#d9f0a3','#78c679','#000','#238443','#004529']      # MEAN\n",
    "CP2 = ['#fdbb84','#fc8d59','#ef6548','#d7301f','#990000']   # POL\n",
    "CP3 = ['#a6bddb','#74a9cf','#000','#0570b0','#034e7b']      # HOM"
   ]
  },
  {
   "cell_type": "code",
   "execution_count": 12,
   "metadata": {},
   "outputs": [],
   "source": [
    "NP = 100\n",
    "NS = 100\n",
    "\n",
    "susc_max_range={\"m\": 0.2, \"M\": 0.6, \"n\": NS}\n",
    "pol_range={\"m\": 0, \"M\": 1, \"n\": NP}\n",
    "\n",
    "results = sweep_pol_SPB_SIRM(\n",
    "    susc_max_range=susc_max_range,\n",
    "    pol_range=pol_range,\n",
    "    h=0,\n",
    "    dT=1,\n",
    "    T=1000,\n",
    "    batch_size=1000,\n",
    "    N_COMPARTMENTS = 100,\n",
    "    SPB_exponent=1\n",
    ")\n",
    "\n",
    "(S_final, I_final, R_final), R0, OH = results\n",
    "S = np.sum(S_final, axis=1)\n",
    "I = np.sum(I_final, axis=1)\n",
    "R = np.sum(R_final, axis=1)\n",
    "\n",
    "S = S.reshape(NP, NS).transpose()\n",
    "I = I.reshape(NP, NS).transpose()\n",
    "R = R.reshape(NP, NS).transpose()\n",
    "R0 = R0.reshape(NP, NS).transpose()\n",
    "OH = OH.reshape(NP, NS).transpose()\n",
    "\n",
    "FIG_A_RI = R + I\n",
    "FIG_A_R0 = R0\n",
    "FIG_A_OH = OH"
   ]
  },
  {
   "cell_type": "code",
   "execution_count": 13,
   "metadata": {},
   "outputs": [],
   "source": [
    "NP = 100\n",
    "NS = 100\n",
    "\n",
    "susc_max_range={\"m\": 0.2, \"M\": 0.6, \"n\": NS}\n",
    "pol_range={\"m\": 0, \"M\": 1, \"n\": NP}\n",
    "\n",
    "results = sweep_pol_SPB_SIRM_D(\n",
    "    susc_max_range=susc_max_range,\n",
    "    pol_range=pol_range,\n",
    "    dT=1,\n",
    "    T=1000,\n",
    "    batch_size=1000,\n",
    "    N_COMPARTMENTS = 100,\n",
    "    SPB_exponent=1\n",
    ")\n",
    "\n",
    "(S_final, I_final, R_final), R0, OH = results\n",
    "S = np.sum(S_final, axis=1)\n",
    "I = np.sum(I_final, axis=1)\n",
    "R = np.sum(R_final, axis=1)\n",
    "\n",
    "S = S.reshape(NP, NS).transpose()\n",
    "I = I.reshape(NP, NS).transpose()\n",
    "R = R.reshape(NP, NS).transpose()\n",
    "R0 = R0.reshape(NP, NS).transpose()\n",
    "OH = OH.reshape(NP, NS).transpose()\n",
    "\n",
    "FIG_B_RI = R + I\n",
    "FIG_B_R0 = R0\n",
    "FIG_B_OH = OH"
   ]
  },
  {
   "cell_type": "code",
   "execution_count": 16,
   "metadata": {},
   "outputs": [
    {
     "name": "stderr",
     "output_type": "stream",
     "text": [
      "No artists with labels found to put in legend.  Note that artists whose label start with an underscore are ignored when legend() is called with no argument.\n",
      "No artists with labels found to put in legend.  Note that artists whose label start with an underscore are ignored when legend() is called with no argument.\n"
     ]
    },
    {
     "data": {
      "image/png": "[encoded data removed]",
      "text/plain": [
       "<Figure size 457.201x167.323 with 4 Axes>"
      ]
     },
     "metadata": {},
     "output_type": "display_data"
    },
    {
     "data": {
      "image/png": "[encoded data removed]",
      "text/plain": [
       "<Figure size 228.6x167.323 with 1 Axes>"
      ]
     },
     "metadata": {},
     "output_type": "display_data"
    },
    {
     "data": {
      "image/png": "[encoded data removed]",
      "text/plain": [
       "<Figure size 228.6x167.323 with 1 Axes>"
      ]
     },
     "metadata": {},
     "output_type": "display_data"
    }
   ],
   "source": [
    "beta_1 = np.linspace(0.2, 0.6, NS)\n",
    "pol = np.linspace(0+1/NP/2,1-1/NP/2, NP)/4\n",
    "name = \"I(pol,beta)_SIRB.pdf\"\n",
    "\n",
    "\n",
    "fig, ax = plt.subplots(1,2, figsize=(2*Lx, Ly))\n",
    "\n",
    "\n",
    "cax = ax[0].imshow(FIG_A_RI, cmap =  my_hot_r, aspect = \"auto\", origin = \"lower\", extent = [0,1,0.2,0.6], vmin = 0, vmax = 1)\n",
    "cbar = fig.colorbar(cax, ax = ax[0])\n",
    "CS = ax[0].contour(pol*4, beta_1,FIG_A_RI, levels = [0.25, 0.5, 0.75], linewidths = 1, colors = \"black\", linestyles = \"dashed\")\n",
    "\n",
    "cax = ax[1].imshow(FIG_A_R0, cmap =  my_vir_r, aspect = \"auto\", origin = \"lower\", extent = [0,1,0.2,0.6])\n",
    "cbar = fig.colorbar(cax, ax = ax[1])\n",
    "\n",
    "CS = ax[1].contour(pol*4, beta_1,FIG_A_R0, levels = [1, 1.5, 2, 2.5], linewidths = 1, colors = \"black\", linestyles = \"dashed\")\n",
    "\n",
    "\n",
    "fig.tight_layout()\n",
    "\n",
    "\n",
    "name = \"I(pol,beta)_SIRB.pdf\"\n",
    "\n",
    "fig, ax = plt.subplots(figsize=(Lx, Ly))\n",
    "cax = ax.imshow(FIG_A_RI, cmap =  my_hot_r, aspect = \"auto\", origin = \"lower\", extent = [0,1,0.2,0.6], vmin = 0, vmax = 1)\n",
    "cbar = fig.colorbar(cax, ax = ax)\n",
    "CS = ax.contour(pol*4, beta_1,FIG_A_RI, levels = [0.25, 0.5, 0.75], linewidths = 1, colors = \"black\", linestyles = \"dashed\")\n",
    "CS = ax.contour(pol*4, beta_1,FIG_A_R0, levels = [1.5, 2, 2.5], linewidths = 0.5, colors = \"black\")\n",
    "fig.tight_layout()\n",
    "double_savefig(fig, ax, name, path_Plot_with_labels, path_Plot_without_labels, cbar=cbar)\n",
    "\n",
    "name = \"R0(pol,beta)_SIRB.pdf\"\n",
    "\n",
    "fig, ax = plt.subplots(figsize=(Lx, Ly))\n",
    "cax = ax.imshow(FIG_A_R0, cmap =  my_vir_r, aspect = \"auto\", origin = \"lower\", extent = [0,1,0.2,0.6])\n",
    "cbar = fig.colorbar(cax, ax = ax)\n",
    "CS = ax.contour(pol*4, beta_1,FIG_A_R0, levels = [1, 1.5, 2, 2.5], linewidths = 1, colors = \"black\", linestyles = \"dashed\")\n",
    "CS = ax.contour(pol*4, beta_1,FIG_A_R0, levels = [1.5, 2, 2.5], linewidths = 0.5, colors = \"black\")\n",
    "fig.tight_layout()\n",
    "double_savefig(fig, ax, name, path_Plot_with_labels, path_Plot_without_labels, cbar=cbar)"
   ]
  },
  {
   "cell_type": "code",
   "execution_count": 15,
   "metadata": {},
   "outputs": [
    {
     "name": "stderr",
     "output_type": "stream",
     "text": [
      "No artists with labels found to put in legend.  Note that artists whose label start with an underscore are ignored when legend() is called with no argument.\n",
      "No artists with labels found to put in legend.  Note that artists whose label start with an underscore are ignored when legend() is called with no argument.\n"
     ]
    },
    {
     "data": {
      "image/png": "[encoded data removed]",
      "text/plain": [
       "<Figure size 457.201x167.323 with 4 Axes>"
      ]
     },
     "metadata": {},
     "output_type": "display_data"
    },
    {
     "data": {
      "image/png": "[encoded data removed]",
      "text/plain": [
       "<Figure size 228.6x167.323 with 1 Axes>"
      ]
     },
     "metadata": {},
     "output_type": "display_data"
    },
    {
     "data": {
      "image/png": "[encoded data removed]",
      "text/plain": [
       "<Figure size 228.6x167.323 with 1 Axes>"
      ]
     },
     "metadata": {},
     "output_type": "display_data"
    }
   ],
   "source": [
    "beta_1 = np.linspace(0.2, 0.6, NS)\n",
    "pol = np.linspace(0+1/NP/2,1-1/NP/2, NP)/4\n",
    "name = \"I(pol,beta)_SIRB.pdf\"\n",
    "\n",
    "\n",
    "fig, ax = plt.subplots(1,2, figsize=(2*Lx, Ly))\n",
    "\n",
    "\n",
    "cax = ax[0].imshow(FIG_B_RI, cmap =  my_hot_r, aspect = \"auto\", origin = \"lower\", extent = [0,1,0.2,0.6], vmin = 0, vmax = 1)\n",
    "cbar = fig.colorbar(cax, ax = ax[0])\n",
    "CS = ax[0].contour(pol*4, beta_1,FIG_B_RI, levels = [0.25, 0.5, 0.75], linewidths = 1, colors = \"black\", linestyles = \"dashed\")\n",
    "\n",
    "cax = ax[1].imshow(FIG_B_R0, cmap =  my_vir_r, aspect = \"auto\", origin = \"lower\", extent = [0,1,0.2,0.6])\n",
    "cbar = fig.colorbar(cax, ax = ax[1])\n",
    "\n",
    "CS = ax[1].contour(pol*4, beta_1,FIG_B_R0, levels = [1, 1.5, 2, 2.5], linewidths = 1, colors = \"black\", linestyles = \"dashed\")\n",
    "\n",
    "\n",
    "fig.tight_layout()\n",
    "\n",
    "\n",
    "name = \"I(pol,beta)_SIRB.pdf\"\n",
    "\n",
    "fig, ax = plt.subplots(figsize=(Lx, Ly))\n",
    "cax = ax.imshow(FIG_B_RI, cmap =  my_hot_r, aspect = \"auto\", origin = \"lower\", extent = [0,1,0.2,0.6], vmin = 0, vmax = 1)\n",
    "cbar = fig.colorbar(cax, ax = ax)\n",
    "CS = ax.contour(pol*4, beta_1,FIG_B_RI, levels = [0.25, 0.5, 0.75], linewidths = 1, colors = \"black\", linestyles = \"dashed\")\n",
    "CS = ax.contour(pol*4, beta_1,FIG_B_R0, levels = [1.5, 2, 2.5], linewidths = 0.5, colors = \"black\")\n",
    "fig.tight_layout()\n",
    "double_savefig(fig, ax, name, path_Plot_with_labels, path_Plot_without_labels, cbar=cbar)\n",
    "\n",
    "name = \"R0(pol,beta)_SIRB.pdf\"\n",
    "\n",
    "fig, ax = plt.subplots(figsize=(Lx, Ly))\n",
    "cax = ax.imshow(FIG_B_R0, cmap =  my_vir_r, aspect = \"auto\", origin = \"lower\", extent = [0,1,0.2,0.6])\n",
    "cbar = fig.colorbar(cax, ax = ax)\n",
    "CS = ax.contour(pol*4, beta_1,FIG_B_R0, levels = [1, 1.5, 2, 2.5], linewidths = 1, colors = \"black\", linestyles = \"dashed\")\n",
    "CS = ax.contour(pol*4, beta_1,FIG_B_R0, levels = [1.5, 2, 2.5], linewidths = 0.5, colors = \"black\")\n",
    "fig.tight_layout()\n",
    "double_savefig(fig, ax, name, path_Plot_with_labels, path_Plot_without_labels, cbar=cbar)"
   ]
  },
  {
   "cell_type": "code",
   "execution_count": 50,
   "metadata": {},
   "outputs": [
    {
     "data": {
      "image/png": "[encoded data removed]",
      "text/plain": [
       "<Figure size 685.801x167.323 with 6 Axes>"
      ]
     },
     "metadata": {},
     "output_type": "display_data"
    }
   ],
   "source": [
    "fig, axs = plt.subplots(1,3, figsize=(3*Lx, Ly))\n",
    "im0 = axs[0].imshow(FIG_A_RI, cmap =  my_hot_r, aspect = \"auto\", origin = \"lower\", extent = [0,1,0.2,0.6], vmin = 0, vmax = 1)\n",
    "im1 = axs[1].imshow(FIG_B_RI, cmap =  my_hot_r, aspect = \"auto\", origin = \"lower\", extent = [0,1,0.2,0.6], vmin = 0, vmax = 1)\n",
    "im2 = axs[2].imshow(FIG_A_RI - FIG_B_RI, cmap =  \"RdBu_r\", aspect = \"auto\", origin = \"lower\", extent = [0,1,0.2,0.6], vmin = -0.1, vmax = 0.1, interpolation = \"none\")\n",
    "# plot contour lines in axs2\n",
    "\n",
    "cs = axs[2].contour(pol*4, beta_1, FIG_A_RI - FIG_B_RI, levels = [0], linewidths = 1, colors = \"black\", linestyles = \"solid\")\n",
    "\n",
    "# add colorbar to axs2\n",
    "cbar = fig.colorbar(im0, ax=axs[0])\n",
    "cbar = fig.colorbar(im1, ax=axs[1])\n",
    "cbar = fig.colorbar(im2, ax=axs[2])\n",
    "\n",
    "\n",
    "fig.tight_layout()"
   ]
  },
  {
   "cell_type": "markdown",
   "metadata": {},
   "source": [
    "# Here what Viola requested"
   ]
  },
  {
   "cell_type": "code",
   "execution_count": 112,
   "metadata": {},
   "outputs": [],
   "source": [
    "NP = 1000\n",
    "NS = 1\n",
    "N_COMPARTMENTS = 100\n",
    "\n",
    "susc_max_range={\"m\": 0.5, \"M\": 0.5, \"n\": NS}\n",
    "pol_range={\"m\": 0, \"M\": 1, \"n\": NP}\n",
    "\n",
    "results = sweep_pol_SPB_SIRM_D(\n",
    "    susc_max_range=susc_max_range,\n",
    "    pol_range=pol_range,\n",
    "    dT=1,\n",
    "    T=1000,\n",
    "    batch_size=1000,\n",
    "    N_COMPARTMENTS = N_COMPARTMENTS,\n",
    "    SPB_exponent=1\n",
    ")\n",
    "\n",
    "(S_final, I_final, R_final), _, _ = results\n",
    "\n",
    "S = S_final.reshape(NP, N_COMPARTMENTS).transpose()\n",
    "I = I_final.reshape(NP, N_COMPARTMENTS).transpose()\n",
    "R = R_final.reshape(NP, N_COMPARTMENTS).transpose()\n",
    "\n",
    "Sf = np.zeros((N_COMPARTMENTS, NP))\n",
    "If = np.zeros((N_COMPARTMENTS, NP))\n",
    "Rf = np.zeros((N_COMPARTMENTS, NP))\n",
    "for i in range(NP):\n",
    "\n",
    "    N_i = S_final[i,:] + I_final[i,:] + R_final[i,:]\n",
    "    Sf[:,i] = S_final[i,:]/N_i\n",
    "    If[:,i] = I_final[i,:]/N_i\n",
    "    Rf[:,i] = R_final[i,:]/N_i\n",
    "\n",
    "# normalize them: N_i = S\n",
    "\n",
    "RI_D = Rf + If\n",
    "\n",
    "\n",
    "\n",
    "\n",
    "results = sweep_pol_SPB_SIRM(\n",
    "    susc_max_range=susc_max_range,\n",
    "    pol_range=pol_range,\n",
    "    dT=1,\n",
    "    T=1000,\n",
    "    batch_size=1000,\n",
    "    N_COMPARTMENTS = N_COMPARTMENTS,\n",
    "    SPB_exponent=1\n",
    ")\n",
    "\n",
    "(S_final, I_final, R_final), _, _ = results\n",
    "\n",
    "S = S_final.reshape(NP, N_COMPARTMENTS).transpose()\n",
    "I = I_final.reshape(NP, N_COMPARTMENTS).transpose()\n",
    "R = R_final.reshape(NP, N_COMPARTMENTS).transpose()\n",
    "\n",
    "Sf = np.zeros((N_COMPARTMENTS, NP))\n",
    "If = np.zeros((N_COMPARTMENTS, NP))\n",
    "Rf = np.zeros((N_COMPARTMENTS, NP))\n",
    "for i in range(NP):\n",
    "\n",
    "    N_i = S_final[i,:] + I_final[i,:] + R_final[i,:]\n",
    "    Sf[:,i] = S_final[i,:]/N_i\n",
    "    If[:,i] = I_final[i,:]/N_i\n",
    "    Rf[:,i] = R_final[i,:]/N_i\n",
    "\n",
    "# normalize them: N_i = S\n",
    "\n",
    "\n",
    "RI = Rf + If\n"
   ]
  },
  {
   "cell_type": "code",
   "execution_count": 113,
   "metadata": {},
   "outputs": [
    {
     "data": {
      "image/png": "[encoded data removed]",
      "text/plain": [
       "<Figure size 457.201x167.323 with 4 Axes>"
      ]
     },
     "metadata": {},
     "output_type": "display_data"
    }
   ],
   "source": [
    "RI.shape\n",
    "fig, axs = plt.subplots(1,2, figsize=(2*Lx, Ly))\n",
    "\n",
    "im0 = axs[0].imshow(RI_D, cmap =  my_hot_r, aspect = \"auto\", origin = \"lower\", extent = [0,1,0,1], vmin = 0, vmax = 1)\n",
    "cbar = fig.colorbar(im0, ax = axs[0])\n",
    "\n",
    "im1 = axs[1].imshow(RI, cmap =  my_hot_r, aspect = \"auto\", origin = \"lower\", extent = [0,1,0,1], vmin = 0, vmax = 1)\n",
    "cbar = fig.colorbar(im1, ax = axs[1])\n",
    "\n",
    "fig.tight_layout()"
   ]
  },
  {
   "cell_type": "code",
   "execution_count": 114,
   "metadata": {},
   "outputs": [
    {
     "name": "stderr",
     "output_type": "stream",
     "text": [
      "No artists with labels found to put in legend.  Note that artists whose label start with an underscore are ignored when legend() is called with no argument.\n"
     ]
    },
    {
     "data": {
      "image/png": "[encoded data removed]",
      "text/plain": [
       "<Figure size 228.6x167.323 with 1 Axes>"
      ]
     },
     "metadata": {},
     "output_type": "display_data"
    }
   ],
   "source": [
    "name = \"RI_fraction_SIRM.pdf\"\n",
    "fig, ax = plt.subplots(figsize=(Lx, Ly))\n",
    "cax = ax.imshow(RI, cmap =  my_hot_r, aspect = \"auto\", origin = \"lower\", extent = [0,1,0,1], vmin = 0, vmax = 1, interpolation = \"none\")\n",
    "cbar = fig.colorbar(cax, ax = ax)\n",
    "\n",
    "double_savefig(fig, ax, name, path_Plot_with_labels, path_Plot_without_labels, cbar=cbar)"
   ]
  },
  {
   "cell_type": "code",
   "execution_count": 84,
   "metadata": {},
   "outputs": [
    {
     "data": {
      "image/png": "[encoded data removed]",
      "text/plain": [
       "<Figure size 457.201x167.323 with 3 Axes>"
      ]
     },
     "metadata": {},
     "output_type": "display_data"
    }
   ],
   "source": [
    "fig, ax = plt.subplots(1,2, figsize=(2*Lx, Ly))\n",
    "im0 = ax[0].imshow(RI_D, cmap =  my_hot_r, aspect = \"auto\", origin = \"lower\", extent = [0,1,0,1], vmin = 0, vmax = 1)\n",
    "cbar = fig.colorbar(im0, ax = ax[0])"
   ]
  },
  {
   "cell_type": "code",
   "execution_count": 52,
   "metadata": {},
   "outputs": [
    {
     "data": {
      "text/plain": [
       "Array(4.1058693, dtype=float32)"
      ]
     },
     "execution_count": 52,
     "metadata": {},
     "output_type": "execute_result"
    }
   ],
   "source": [
    "S"
   ]
  },
  {
   "cell_type": "code",
   "execution_count": null,
   "metadata": {},
   "outputs": [],
   "source": [
    "RI_0 = FIG_A_RI\n",
    "RI_1 = FIG_B_RI "
   ]
  }
 ],
 "metadata": {
  "kernelspec": {
   "display_name": "Optimal",
   "language": "python",
   "name": "python3"
  },
  "language_info": {
   "codemirror_mode": {
    "name": "ipython",
    "version": 3
   },
   "file_extension": ".py",
   "mimetype": "text/x-python",
   "name": "python",
   "nbconvert_exporter": "python",
   "pygments_lexer": "ipython3",
   "version": "3.11.4"
  }
 },
 "nbformat": 4,
 "nbformat_minor": 2
}
