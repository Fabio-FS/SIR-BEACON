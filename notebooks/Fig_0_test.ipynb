{
 "cells": [
  {
   "cell_type": "code",
   "execution_count": 1,
   "metadata": {},
   "outputs": [],
   "source": [
    "%load_ext autoreload\n",
    "%autoreload 2"
   ]
  },
  {
   "cell_type": "code",
   "execution_count": 2,
   "metadata": {},
   "outputs": [],
   "source": [
    "from src.models.mask_SIR import sweep_pol_mask_maskSIR\n",
    "from src.models.mask_SIR_D import sweep_pol_mask_maskSIRD\n",
    "from src.utils.distributions import pol_to_alpha, homogeneous_distribution\n",
    "from plot_functions import *\n",
    "import numpy as np\n",
    "\n",
    "import matplotlib.pyplot as plt\n",
    "import seaborn as sns\n",
    "import os\n",
    "\n",
    "path_Plot_with_labels = \"../figures/with_labels/\"\n",
    "path_Plot_without_labels = \"../figures/no_labels/\"\n",
    "\n",
    "if not os.path.exists(path_Plot_with_labels):\n",
    "    os.makedirs(path_Plot_with_labels)\n",
    "\n",
    "if not os.path.exists(path_Plot_without_labels):\n",
    "    os.makedirs(path_Plot_without_labels)\n",
    "def ALPHAS(Np):\n",
    "    return pol_to_alpha(np.linspace(1/Np/2, 1-1/Np/2, Np)/4)\n",
    "\n",
    "\n",
    "\n",
    "my_hot_r = discretize_cmaps('hot_r', 10)\n",
    "my_hot_r.set_bad('gray')\n",
    "\n",
    "my_vir_r = discretize_cmaps('viridis_r', 10)\n",
    "my_vir_r.set_bad('gray')"
   ]
  },
  {
   "cell_type": "code",
   "execution_count": 3,
   "metadata": {},
   "outputs": [],
   "source": [
    "# color palettes\n",
    "\n",
    "CP1 = ['#7b3294','#c2a5cf','#000','#a6dba0','#008837']\n",
    "CP1 = ['#d9f0a3','#78c679','#000','#238443','#004529']      # MEAN\n",
    "CP2 = ['#fdbb84','#fc8d59','#ef6548','#d7301f','#990000']   # POL\n",
    "CP3 = ['#a6bddb','#74a9cf','#000','#0570b0','#034e7b']      # HOM"
   ]
  },
  {
   "cell_type": "code",
   "execution_count": 4,
   "metadata": {},
   "outputs": [
    {
     "name": "stderr",
     "output_type": "stream",
     "text": [
      "No GPU/TPU found, falling back to CPU. (Set TF_CPP_MIN_LOG_LEVEL=0 and rerun for more info.)\n"
     ]
    }
   ],
   "source": [
    "NP = 50\n",
    "NS = 50\n",
    "\n",
    "mask_max_range={\"m\": 0, \"M\": 1, \"n\": NS}  # Range for maximum mask-wearing\n",
    "pol_range={\"m\": 0, \"M\": 1, \"n\": NP}\n",
    "\n",
    "results = sweep_pol_mask_maskSIRD(\n",
    "    mask_max_range=mask_max_range,    # Changed from susc_max_range\n",
    "    pol_range=pol_range,\n",
    "    dT=0.1,\n",
    "    T=1000,\n",
    "    beta_M=0.2,                       # Added: maximum base susceptibility\n",
    "    batch_size=1000,\n",
    "    N_COMPARTMENTS=100,\n",
    "    SPB_exponent=1\n",
    ")\n",
    "\n",
    "(S_final, I_final, R_final), R0, OH = results\n",
    "S = np.sum(S_final, axis=1)\n",
    "I = np.sum(I_final, axis=1)\n",
    "R = np.sum(R_final, axis=1)\n",
    "\n",
    "S = S.reshape(NP, NS).transpose()\n",
    "I = I.reshape(NP, NS).transpose()\n",
    "R = R.reshape(NP, NS).transpose()\n",
    "R0 = R0.reshape(NP, NS).transpose()\n",
    "OH = OH.reshape(NP, NS).transpose()\n",
    "\n",
    "FIG_A_RI = R + I"
   ]
  },
  {
   "cell_type": "code",
   "execution_count": 5,
   "metadata": {},
   "outputs": [],
   "source": [
    "NP = 50\n",
    "NS = 50\n",
    "\n",
    "mask_max_range={\"m\": 0, \"M\": 1, \"n\": NS}  # Range for maximum mask-wearing\n",
    "pol_range={\"m\": 0, \"M\": 1, \"n\": NP}\n",
    "\n",
    "results = sweep_pol_mask_maskSIR(\n",
    "    mask_max_range=mask_max_range,    # Changed from susc_max_range\n",
    "    pol_range=pol_range,\n",
    "    h=0,\n",
    "    dT=0.1,\n",
    "    T=1000,\n",
    "    beta_M=0.2,                       # Added: maximum base susceptibility\n",
    "    batch_size=1000,\n",
    "    N_COMPARTMENTS=100,\n",
    "    SPB_exponent=1\n",
    ")\n",
    "\n",
    "(S_final, I_final, R_final), R0, OH = results\n",
    "S = np.sum(S_final, axis=1)\n",
    "I = np.sum(I_final, axis=1)\n",
    "R = np.sum(R_final, axis=1)\n",
    "\n",
    "S = S.reshape(NP, NS).transpose()\n",
    "I = I.reshape(NP, NS).transpose()\n",
    "R = R.reshape(NP, NS).transpose()\n",
    "R0 = R0.reshape(NP, NS).transpose()\n",
    "OH = OH.reshape(NP, NS).transpose()\n",
    "\n",
    "FIG_B_RI = R + I"
   ]
  },
  {
   "cell_type": "code",
   "execution_count": 6,
   "metadata": {},
   "outputs": [
    {
     "data": {
      "image/png": "[encoded data removed]",
      "text/plain": [
       "<Figure size 685.801x167.323 with 6 Axes>"
      ]
     },
     "metadata": {},
     "output_type": "display_data"
    }
   ],
   "source": [
    "pol = homogeneous_distribution(NP, 0, 1)\n",
    "mu = homogeneous_distribution(NS, 0, 1)\n",
    "\n",
    "fig, axs = plt.subplots(1,3, figsize=(3*Lx, Ly))\n",
    "im0 = axs[0].imshow(FIG_A_RI, cmap =  my_hot_r, aspect = \"auto\", origin = \"lower\", extent = [0,1,0,1], vmin = 0, vmax = 1)\n",
    "im1 = axs[1].imshow(FIG_B_RI, cmap =  my_hot_r, aspect = \"auto\", origin = \"lower\", extent = [0,1,0,1], vmin = 0, vmax = 1)\n",
    "im2 = axs[2].imshow(FIG_A_RI - FIG_B_RI, cmap =  \"RdBu_r\", aspect = \"auto\", origin = \"lower\", extent = [0,1,0,1],  interpolation = \"none\")\n",
    "# plot contour lines in axs2\n",
    "\n",
    "cs = axs[2].contour(pol, mu, FIG_A_RI - FIG_B_RI, levels = [0], linewidths = 1, colors = \"black\", linestyles = \"solid\")\n",
    "\n",
    "# add colorbar to axs2\n",
    "cbar = fig.colorbar(im0, ax=axs[0])\n",
    "cbar = fig.colorbar(im1, ax=axs[1])\n",
    "cbar = fig.colorbar(im2, ax=axs[2])\n",
    "\n",
    "fig.tight_layout()"
   ]
  },
  {
   "cell_type": "markdown",
   "metadata": {},
   "source": [
    "# Here what Viola requested"
   ]
  },
  {
   "cell_type": "code",
   "execution_count": 7,
   "metadata": {},
   "outputs": [],
   "source": [
    "NP = 100\n",
    "NS = 1\n",
    "N_COMPARTMENTS = 100\n",
    "mask_max_range={\"m\": 0, \"M\": 2, \"n\": NS}  #  I want the mask wearing to be 1.\n",
    "pol_range={\"m\": 0, \"M\": 1, \"n\": NP}\n",
    "pols = homogeneous_distribution(NP, 0, 1)\n",
    "\n",
    "results = sweep_pol_mask_maskSIR(\n",
    "    mask_max_range=mask_max_range,    # Changed from susc_max_range\n",
    "    pol_range=pol_range,\n",
    "    dT=0.1,\n",
    "    T=1000,\n",
    "    beta_M=0.25,                       # Added: maximum base susceptibility\n",
    "    batch_size=1000,\n",
    "    N_COMPARTMENTS=N_COMPARTMENTS,\n",
    "    SPB_exponent=1\n",
    ")\n",
    "\n",
    "(S_final, I_final, R_final), _, _ = results\n",
    "\n",
    "S = S_final.reshape(NP, N_COMPARTMENTS).transpose()\n",
    "I = I_final.reshape(NP, N_COMPARTMENTS).transpose()\n",
    "R = R_final.reshape(NP, N_COMPARTMENTS).transpose()\n",
    "\n",
    "Sf = np.zeros((N_COMPARTMENTS, NP))\n",
    "If = np.zeros((N_COMPARTMENTS, NP))\n",
    "Rf = np.zeros((N_COMPARTMENTS, NP))\n",
    "for i in range(NP):\n",
    "\n",
    "    N_i = S_final[i,:] + I_final[i,:] + R_final[i,:]\n",
    "    Sf[:,i] = S_final[i,:]/N_i\n",
    "    If[:,i] = I_final[i,:]/N_i\n",
    "    Rf[:,i] = R_final[i,:]/N_i\n",
    "\n",
    "# normalize them: N_i = S\n",
    "\n",
    "\n",
    "RI = Rf + If"
   ]
  },
  {
   "cell_type": "code",
   "execution_count": 8,
   "metadata": {},
   "outputs": [],
   "source": [
    "results = sweep_pol_mask_maskSIRD(\n",
    "    mask_max_range=mask_max_range,    # Changed from susc_max_range\n",
    "    pol_range=pol_range,\n",
    "    dT=0.1,\n",
    "    T=1000,\n",
    "    beta_M=0.25,                       # Added: maximum base susceptibility\n",
    "    batch_size=100,\n",
    "    N_COMPARTMENTS=N_COMPARTMENTS,\n",
    "    SPB_exponent=1\n",
    ")\n",
    "\n",
    "(S_final, I_final, R_final), _, _ = results\n",
    "\n",
    "S = S_final.reshape(NP, N_COMPARTMENTS).transpose()\n",
    "I = I_final.reshape(NP, N_COMPARTMENTS).transpose()\n",
    "R = R_final.reshape(NP, N_COMPARTMENTS).transpose()\n",
    "\n",
    "Sf = np.zeros((N_COMPARTMENTS, NP))\n",
    "If = np.zeros((N_COMPARTMENTS, NP))\n",
    "Rf = np.zeros((N_COMPARTMENTS, NP))\n",
    "for i in range(NP):\n",
    "\n",
    "    N_i = S_final[i,:] + I_final[i,:] + R_final[i,:]\n",
    "    Sf[:,i] = S_final[i,:]/N_i\n",
    "    If[:,i] = I_final[i,:]/N_i\n",
    "    Rf[:,i] = R_final[i,:]/N_i\n",
    "\n",
    "# normalize them: N_i = S\n",
    "\n",
    "RI_D = Rf + If"
   ]
  },
  {
   "cell_type": "code",
   "execution_count": 9,
   "metadata": {},
   "outputs": [
    {
     "data": {
      "image/png": "[encoded data removed]",
      "text/plain": [
       "<Figure size 914.402x334.646 with 4 Axes>"
      ]
     },
     "metadata": {},
     "output_type": "display_data"
    }
   ],
   "source": [
    "RI.shape\n",
    "fig, axs = plt.subplots(1,2, figsize=(4*Lx, 2*Ly))\n",
    "\n",
    "im0 = axs[0].imshow(RI_D, cmap =  my_hot_r, aspect = \"auto\", origin = \"lower\", extent = [0,1,0,1], vmin = 0, vmax = 1)\n",
    "# change the fontsize of the xticks and yticks\n",
    "axs[0].set_xticks([0,0.5,1])\n",
    "axs[0].set_yticks([0,0.5,1])\n",
    "axs[0].set_yticklabels([0,0.5,1], fontsize = 20)\n",
    "axs[0].set_xticklabels([0,0.5,1], fontsize = 20)\n",
    "cbar = fig.colorbar(im0, ax = axs[0])\n",
    "cbar.ax.set_yticks([0,0.5,1])\n",
    "cbar.ax.set_yticklabels([0,0.5,1], fontsize = 20)\n",
    "\n",
    "\n",
    "im1 = axs[1].imshow(RI, cmap =  my_hot_r, aspect = \"auto\", origin = \"lower\", extent = [0,1,0,1], vmin = 0, vmax = 1)\n",
    "cbar = fig.colorbar(im1, ax = axs[1])\n",
    "\n",
    "# change the fontsize of the xticks and yticks\n",
    "axs[1].set_xticks([0,0.5,1])\n",
    "axs[1].set_yticks([0,0.5,1])\n",
    "axs[1].set_yticklabels([0,0.5,1], fontsize = 20)\n",
    "axs[1].set_xticklabels([0,0.5,1], fontsize = 20)\n",
    "cbar.ax.set_yticks([0,0.5,1])\n",
    "\n",
    "cbar.ax.set_yticklabels([0,0.5,1], fontsize = 20)\n",
    "\n",
    "fig.tight_layout()"
   ]
  },
  {
   "cell_type": "code",
   "execution_count": 18,
   "metadata": {},
   "outputs": [
    {
     "ename": "TypeError",
     "evalue": "double_savefig() missing 1 required positional argument: 'path_Plot_without_labels'",
     "output_type": "error",
     "traceback": [
      "\u001b[1;31m---------------------------------------------------------------------------\u001b[0m",
      "\u001b[1;31mTypeError\u001b[0m                                 Traceback (most recent call last)",
      "Cell \u001b[1;32mIn[18], line 8\u001b[0m\n\u001b[0;32m      6\u001b[0m fig\u001b[38;5;241m.\u001b[39mpatch\u001b[38;5;241m.\u001b[39mset_visible(\u001b[38;5;28;01mFalse\u001b[39;00m)\n\u001b[0;32m      7\u001b[0m name \u001b[38;5;241m=\u001b[39m \u001b[38;5;124m\"\u001b[39m\u001b[38;5;124mRI_fraction_SIR_masks.pdf\u001b[39m\u001b[38;5;124m\"\u001b[39m\n\u001b[1;32m----> 8\u001b[0m double_savefig(fig, name, path_Plot_with_labels, path_Plot_without_labels)\n",
      "\u001b[1;31mTypeError\u001b[0m: double_savefig() missing 1 required positional argument: 'path_Plot_without_labels'"
     ]
    },
    {
     "data": {
      "image/png": "[encoded data removed]",
      "text/plain": [
       "<Figure size 103.909x167.323 with 2 Axes>"
      ]
     },
     "metadata": {},
     "output_type": "display_data"
    }
   ],
   "source": [
    "fig, ax = plt.subplots(figsize=(Lx/2.2, Ly))\n",
    "cax = ax.imshow(np.flipud(RI), cmap = my_hot_r, aspect = \"auto\", origin = \"lower\", extent = [0,1,0,1], vmin = 0, vmax = 1, interpolation = \"none\")\n",
    "cbar = fig.colorbar(cax, ax = ax)\n",
    "ax.set_yticks([0,0.5,1])\n",
    "\n",
    "fig.patch.set_visible(False)\n",
    "name = \"RI_fraction_SIR_masks.pdf\"\n",
    "double_savefig(fig, name, path_Plot_with_labels, path_Plot_without_labels)"
   ]
  },
  {
   "cell_type": "code",
   "execution_count": 14,
   "metadata": {},
   "outputs": [
    {
     "data": {
      "text/plain": [
       "[<matplotlib.lines.Line2D at 0x2b35ab90f10>]"
      ]
     },
     "execution_count": 14,
     "metadata": {},
     "output_type": "execute_result"
    },
    {
     "data": {
      "image/png": "[encoded data removed]",
      "text/plain": [
       "<Figure size 457.201x167.323 with 2 Axes>"
      ]
     },
     "metadata": {},
     "output_type": "display_data"
    }
   ],
   "source": [
    "# now plot the sum of each figure for each column:\n",
    "\n",
    "fig, axs = plt.subplots(1,2, figsize=(2*Lx, Ly))\n",
    "\n",
    "axs[0].plot(np.sum(RI_D, axis = 0), label = \"SIRD\")\n",
    "axs[0].plot(np.sum(RI, axis = 0), label = \"SIR\")"
   ]
  },
  {
   "cell_type": "code",
   "execution_count": 11,
   "metadata": {},
   "outputs": [],
   "source": [
    "import matplotlib.pyplot as plt"
   ]
  },
  {
   "cell_type": "code",
   "execution_count": 12,
   "metadata": {},
   "outputs": [
    {
     "data": {
      "text/plain": [
       "(-40.0, 0.0)"
      ]
     },
     "execution_count": 12,
     "metadata": {},
     "output_type": "execute_result"
    },
    {
     "data": {
      "image/png": "[encoded data removed]",
      "text/plain": [
       "<Figure size 457.201x167.323 with 1 Axes>"
      ]
     },
     "metadata": {},
     "output_type": "display_data"
    }
   ],
   "source": [
    "D = np.sum(RI_D, axis = 0)\n",
    "C = np.sum(RI, axis = 0)\n",
    "\n",
    "fig, axs = plt.subplots(1,1, figsize=(2*Lx, Ly))\n",
    "\n",
    "\n",
    "\n",
    "axs.plot(pols,(C/D-1)*100, label = \"SIRD\")\n",
    "axs.set_xticks([0,0.5,1])\n",
    "axs.set_yticks([-40,-20,0])\n",
    "axs.set_xlim([0,1])\n",
    "axs.set_ylim([-40,0])"
   ]
  },
  {
   "cell_type": "code",
   "execution_count": null,
   "metadata": {},
   "outputs": [],
   "source": []
  },
  {
   "cell_type": "code",
   "execution_count": null,
   "metadata": {},
   "outputs": [],
   "source": []
  }
 ],
 "metadata": {
  "kernelspec": {
   "display_name": "Optimal",
   "language": "python",
   "name": "python3"
  },
  "language_info": {
   "codemirror_mode": {
    "name": "ipython",
    "version": 3
   },
   "file_extension": ".py",
   "mimetype": "text/x-python",
   "name": "python",
   "nbconvert_exporter": "python",
   "pygments_lexer": "ipython3",
   "version": "3.11.4"
  }
 },
 "nbformat": 4,
 "nbformat_minor": 2
}
