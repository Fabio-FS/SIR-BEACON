{
 "cells": [
  {
   "cell_type": "code",
   "execution_count": 1,
   "metadata": {},
   "outputs": [],
   "source": [
    "%load_ext autoreload\n",
    "%autoreload 2\n",
    "\n",
    "from src.models.SIRM import sweep_pol_SPB_SIRM, sweep_pol_mean_SIRM, sweep_hom_pol_SIRM, sweep_hom_SPB_SIRM\n",
    "from src.utils.distributions import pol_to_alpha, homogeneous_distribution\n",
    "from plot_functions import *\n",
    "import numpy as np\n",
    "\n",
    "\n",
    "import matplotlib.pyplot as plt\n",
    "import seaborn as sns\n",
    "import os\n",
    "\n",
    "path_Plot_with_labels = \"../figures/with_labels/\"\n",
    "path_Plot_without_labels = \"../figures/no_labels/\"\n",
    "\n",
    "if not os.path.exists(path_Plot_with_labels):\n",
    "    os.makedirs(path_Plot_with_labels)\n",
    "\n",
    "if not os.path.exists(path_Plot_without_labels):\n",
    "    os.makedirs(path_Plot_without_labels)\n",
    "def ALPHAS(Np):\n",
    "    return pol_to_alpha(np.linspace(1/Np/2, 1-1/Np/2, Np)/4)\n",
    "\n",
    "\n",
    "\n",
    "my_hot_r = discretize_cmaps('hot_r', 12)\n",
    "my_hot_r.set_bad('gray')\n",
    "\n",
    "my_vir_r = discretize_cmaps('viridis_r', 12)\n",
    "my_vir_r.set_bad('gray')"
   ]
  },
  {
   "cell_type": "code",
   "execution_count": 16,
   "metadata": {},
   "outputs": [],
   "source": [
    "# color palettes\n",
    "\n",
    "CP1 = ['#fdbb84','#fc8d59','#ef6548','#d7301f','#990000']   # POL\n",
    "CP2 = ['#d9f0a3','#addd8e','#78c679','#31a354','#006837']      # what varies is: MEAN\n",
    "CP3 = ['#d0d1e6','#a6bddb','#74a9cf','#2b8cbe','#045a8d']      # HOM"
   ]
  },
  {
   "cell_type": "code",
   "execution_count": null,
   "metadata": {},
   "outputs": [],
   "source": []
  },
  {
   "cell_type": "code",
   "execution_count": 44,
   "metadata": {},
   "outputs": [],
   "source": [
    "NP = 100\n",
    "NS = 100\n",
    "\n",
    "susc_max_range={\"m\": 0.2, \"M\": 0.6, \"n\": NS}\n",
    "pol_range={\"m\": 0, \"M\": 1, \"n\": NP}\n",
    "\n",
    "results = sweep_pol_SPB_SIRM(\n",
    "    susc_max_range=susc_max_range,\n",
    "    pol_range=pol_range,\n",
    "    h=0,\n",
    "    dT=1,\n",
    "    T=1000,\n",
    "    batch_size=1000,\n",
    "    N_COMPARTMENTS = 100,\n",
    "    SPB_exponent=1\n",
    ")\n",
    "\n",
    "(S_final, I_final, R_final), R0, OH = results\n",
    "S = np.sum(S_final, axis=1)\n",
    "I = np.sum(I_final, axis=1)\n",
    "R = np.sum(R_final, axis=1)\n",
    "\n",
    "S = S.reshape(NP, NS).transpose()\n",
    "I = I.reshape(NP, NS).transpose()\n",
    "R = R.reshape(NP, NS).transpose()\n",
    "R0 = R0.reshape(NP, NS).transpose()\n",
    "OH = OH.reshape(NP, NS).transpose()\n",
    "\n",
    "FIG_A_RI = R + I\n",
    "FIG_A_R0 = R0\n",
    "FIG_A_OH = OH"
   ]
  },
  {
   "cell_type": "code",
   "execution_count": 45,
   "metadata": {},
   "outputs": [
    {
     "data": {
      "image/png": "[encoded data removed]",
      "text/plain": [
       "<Figure size 457.201x167.323 with 4 Axes>"
      ]
     },
     "metadata": {},
     "output_type": "display_data"
    }
   ],
   "source": [
    "beta_1 = homogeneous_distribution(NS,0.6, 0.2)\n",
    "pol = homogeneous_distribution(NP,0,1)\n",
    "name = \"I(pol,beta)_SIRB.pdf\"\n",
    "\n",
    "fig, ax = plt.subplots(1,2, figsize=(2*Lx, Ly))\n",
    "\n",
    "cax = ax[0].imshow(FIG_A_RI, cmap =  my_hot_r, aspect = \"auto\", origin = \"lower\", extent = [0,1,0.2,0.6], vmin = 0, vmax = 1)\n",
    "cbar = fig.colorbar(cax, ax = ax[0])\n",
    "CS = ax[0].contour(pol, beta_1,np.flipud(FIG_A_RI), levels = [0.25, 0.5, 0.75], linewidths = 1, colors = \"black\", linestyles = \"dashed\")\n",
    "\n",
    "cax = ax[1].imshow(FIG_A_R0, cmap =  my_vir_r, aspect = \"auto\", origin = \"lower\", extent = [0,1,0.2,0.6])\n",
    "cbar = fig.colorbar(cax, ax = ax[1])\n",
    "\n",
    "CS = ax[1].contour(pol, beta_1,FIG_A_R0, levels = [1, 1.5, 2, 2.5], linewidths = 1, colors = \"black\", linestyles = \"dashed\")\n",
    "\n",
    "fig.tight_layout()"
   ]
  },
  {
   "cell_type": "code",
   "execution_count": 46,
   "metadata": {},
   "outputs": [
    {
     "name": "stderr",
     "output_type": "stream",
     "text": [
      "No artists with labels found to put in legend.  Note that artists whose label start with an underscore are ignored when legend() is called with no argument.\n"
     ]
    },
    {
     "data": {
      "image/png": "[encoded data removed]",
      "text/plain": [
       "<Figure size 228.6x167.323 with 1 Axes>"
      ]
     },
     "metadata": {},
     "output_type": "display_data"
    }
   ],
   "source": [
    "name = \"I(pol,beta)_SIRB.pdf\"\n",
    "\n",
    "fig, ax = plt.subplots(figsize=(Lx, Ly))\n",
    "cax = ax.imshow(FIG_A_RI, cmap =  my_hot_r, aspect = \"auto\", origin = \"lower\", extent = [0,1,0.2,0.6], vmin = 0, vmax = 1)\n",
    "cbar = fig.colorbar(cax, ax = ax)\n",
    "CS = ax.contour(pol, np.flipud(beta_1),FIG_A_RI, levels = [0.25, 0.5, 0.75], linewidths = 1, colors = \"black\", linestyles = \"dashed\")\n",
    "ax.set_xticks([0,0.5,1])\n",
    "\n",
    "double_savefig(fig, ax, name, path_Plot_with_labels, path_Plot_without_labels, cbar=cbar)"
   ]
  },
  {
   "cell_type": "code",
   "execution_count": 69,
   "metadata": {},
   "outputs": [
    {
     "name": "stderr",
     "output_type": "stream",
     "text": [
      "No artists with labels found to put in legend.  Note that artists whose label start with an underscore are ignored when legend() is called with no argument.\n"
     ]
    },
    {
     "data": {
      "image/png": "[encoded data removed]",
      "text/plain": [
       "<Figure size 228.6x167.323 with 1 Axes>"
      ]
     },
     "metadata": {},
     "output_type": "display_data"
    }
   ],
   "source": [
    "name = \"I(pol,beta)_SIRB_V2.pdf\"\n",
    "\n",
    "fig, ax = plt.subplots(figsize=(Lx, Ly))\n",
    "cax = ax.imshow(np.flipud(FIG_A_RI), cmap =  my_hot_r, aspect = \"auto\", origin = \"lower\", extent = [0,1,0.2,0.6], vmin = 0, vmax = 1)\n",
    "cbar = fig.colorbar(cax, ax = ax)\n",
    "CS = ax.contour(pol, np.flipud(beta_1),np.flipud(FIG_A_RI), levels = [0.25, 0.5, 0.75], linewidths = 1, colors = \"black\", linestyles = \"dashed\")\n",
    "ax.set_xticks([0,0.5,1])\n",
    "#CS = ax.contour(pol*4, beta_1,FIG_A_R0, levels = [1.5, 2, 2.5], linewidths = 0.5, colors = \"black\")\n",
    "\n",
    "fig.patch.set_visible(False)\n",
    "double_savefig(fig, ax, name, path_Plot_with_labels, path_Plot_without_labels, cbar=cbar)"
   ]
  },
  {
   "cell_type": "code",
   "execution_count": 86,
   "metadata": {},
   "outputs": [
    {
     "name": "stderr",
     "output_type": "stream",
     "text": [
      "No artists with labels found to put in legend.  Note that artists whose label start with an underscore are ignored when legend() is called with no argument.\n"
     ]
    },
    {
     "data": {
      "image/png": "[encoded data removed]",
      "text/plain": [
       "<Figure size 103.909x167.323 with 1 Axes>"
      ]
     },
     "metadata": {},
     "output_type": "display_data"
    }
   ],
   "source": [
    "name = \"R0(pol,beta)_SIRB.pdf\"\n",
    "\n",
    "fig, ax = plt.subplots(figsize=(Lx/2.2, Ly))\n",
    "cax = ax.imshow(FIG_A_R0, cmap =  my_vir_r, aspect = \"auto\", origin = \"lower\", extent = [0,1,0.2,0.6], vmin = 1, vmax = 3)\n",
    "cbar = fig.colorbar(cax, ax = ax)\n",
    "CS = ax.contour(pol, np.flipud(beta_1),FIG_A_RI, levels = [0.25, 0.5, 0.75], linewidths = 0.5, colors = \"black\", linestyles = \"dashed\")\n",
    "ax.set_xticks([0,0.5,1])\n",
    "\n",
    "fig.patch.set_visible(False)\n",
    "double_savefig(fig, ax, name, path_Plot_with_labels, path_Plot_without_labels, cbar=cbar)"
   ]
  },
  {
   "cell_type": "code",
   "execution_count": 93,
   "metadata": {},
   "outputs": [],
   "source": [
    "NP = 100\n",
    "NS = 1\n",
    "N_COMPARTMENTS = 100\n",
    "\n",
    "susc_max_range={\"m\": 0.5, \"M\": 0.5, \"n\": NS}\n",
    "pol_range={\"m\": 0, \"M\": 1, \"n\": NP}\n",
    "\n",
    "results = sweep_pol_SPB_SIRM(\n",
    "    susc_max_range=susc_max_range,\n",
    "    pol_range=pol_range,\n",
    "    dT=1,\n",
    "    T=1000,\n",
    "    batch_size=1000,\n",
    "    N_COMPARTMENTS = N_COMPARTMENTS,\n",
    "    SPB_exponent=1\n",
    ")\n",
    "\n",
    "(S_final, I_final, R_final), _, _ = results\n",
    "\n",
    "S = S_final.reshape(NP, N_COMPARTMENTS).transpose()\n",
    "I = I_final.reshape(NP, N_COMPARTMENTS).transpose()\n",
    "R = R_final.reshape(NP, N_COMPARTMENTS).transpose()\n",
    "\n",
    "Sf = np.zeros((N_COMPARTMENTS, NP))\n",
    "If = np.zeros((N_COMPARTMENTS, NP))\n",
    "Rf = np.zeros((N_COMPARTMENTS, NP))\n",
    "for i in range(NP):\n",
    "\n",
    "    N_i = S_final[i,:] + I_final[i,:] + R_final[i,:]\n",
    "    Sf[:,i] = S_final[i,:]/N_i\n",
    "    If[:,i] = I_final[i,:]/N_i\n",
    "    Rf[:,i] = R_final[i,:]/N_i\n",
    "\n",
    "# normalize them: N_i = S\n",
    "\n",
    "RI = Rf + If\n"
   ]
  },
  {
   "cell_type": "code",
   "execution_count": null,
   "metadata": {},
   "outputs": [],
   "source": []
  },
  {
   "cell_type": "code",
   "execution_count": 94,
   "metadata": {},
   "outputs": [
    {
     "name": "stderr",
     "output_type": "stream",
     "text": [
      "No artists with labels found to put in legend.  Note that artists whose label start with an underscore are ignored when legend() is called with no argument.\n"
     ]
    },
    {
     "data": {
      "image/png": "[encoded data removed]",
      "text/plain": [
       "<Figure size 103.909x167.323 with 1 Axes>"
      ]
     },
     "metadata": {},
     "output_type": "display_data"
    }
   ],
   "source": [
    "name = \"RI_fraction_SIRM.pdf\"\n",
    "fig, ax = plt.subplots(figsize=(Lx/2.2, Ly))\n",
    "cax = ax.imshow(np.flipud(RI), cmap =  my_hot_r, aspect = \"auto\", origin = \"lower\", extent = [0,1,0,1], vmin = 0, vmax = 1, interpolation = \"none\")\n",
    "cbar = fig.colorbar(cax, ax = ax)\n",
    "ax.set_xticks([0,0.5,1])\n",
    "ax.set_yticks([0,0.5,1])\n",
    "\n",
    "fig.patch.set_visible(False)\n",
    "double_savefig(fig, ax, name, path_Plot_with_labels, path_Plot_without_labels, cbar=cbar)"
   ]
  },
  {
   "cell_type": "code",
   "execution_count": 51,
   "metadata": {},
   "outputs": [],
   "source": [
    "NP = 100  # number of polarization points\n",
    "NM = 100  # number of mean points\n",
    "pol_range={\"m\": 0, \"M\": 1, \"n\": NP}  # polarization range\n",
    "mean_range={\"m\": 0.0, \"M\": 1.0, \"n\": NM}         # mean range\n",
    "    \n",
    "results = sweep_pol_mean_SIRM(\n",
    "    mean_range=mean_range,\n",
    "    pol_range=pol_range,\n",
    "    h=0,\n",
    "    dT=1,\n",
    "    T=1000,\n",
    "    susceptibility_rate=0.5,  # This replaces the susceptibility range\n",
    "    batch_size=1000,\n",
    "    SPB_exponent=1\n",
    ")\n",
    "\n",
    "(S_final, I_final, R_final), R0, OH = results\n",
    "S = np.sum(S_final, axis=1)\n",
    "I = np.sum(I_final, axis=1)\n",
    "R = np.sum(R_final, axis=1)\n",
    "\n",
    "# Reshape arrays\n",
    "S = np.flipud(S.reshape(NP, NM))\n",
    "I = np.flipud(I.reshape(NP, NM))\n",
    "R = np.flipud(R.reshape(NP, NM))\n",
    "R0 = np.flipud(R0.reshape(NP, NM))\n",
    "OH = np.flipud(OH.reshape(NP, NM))\n",
    "\n",
    "FIG_B_RI = np.flipud(R + I)\n",
    "FIG_B_R0 = np.flipud(R0)\n",
    "FIG_B_OH = np.flipud(OH)"
   ]
  },
  {
   "cell_type": "code",
   "execution_count": 52,
   "metadata": {},
   "outputs": [
    {
     "data": {
      "image/png": "[encoded data removed]",
      "text/plain": [
       "<Figure size 457.201x167.323 with 4 Axes>"
      ]
     },
     "metadata": {},
     "output_type": "display_data"
    }
   ],
   "source": [
    "# Create axis values\n",
    "mean_vals = homogeneous_distribution(NM, 0, 1)\n",
    "pol = homogeneous_distribution(NP, 0, 1)\n",
    "\n",
    "# Plotting\n",
    "fig, ax = plt.subplots(1,2, figsize=(2*Lx, Ly))\n",
    "\n",
    "cax = ax[0].imshow(FIG_B_RI,  cmap=my_hot_r,  aspect=\"auto\", origin=\"lower\", \n",
    "    extent=[0, 1, 0, 1],  # Note: changed to [0,1,0,1] since both axes are now in [0,1]\n",
    "    vmin=0, vmax=1)\n",
    "cbar = fig.colorbar(cax, ax=ax[0])\n",
    "\n",
    "CS = ax[0].contour(pol, mean_vals, FIG_B_RI, \n",
    "    levels=[0.25, 0.5, 0.75], linewidths=1, \n",
    "    colors=\"black\", linestyles=\"dashed\")\n",
    "\n",
    "cax = ax[1].imshow(FIG_B_R0, cmap=my_vir_r, aspect=\"auto\", origin=\"lower\",\n",
    "    extent=[0, 1, 0, 1], vmin = 1)  # Note: changed to [0,1,0,1] since both axes are now in [0,1]\n",
    "cbar = fig.colorbar(cax, ax=ax[1])\n",
    "CS = ax[1].contour(pol, mean_vals, FIG_B_R0, \n",
    "    levels=[1], linewidths=2, \n",
    "    colors=\"black\")\n",
    "CS = ax[0].contour(pol, mean_vals, FIG_B_R0, \n",
    "    levels=[1], linewidths=2, \n",
    "    colors=\"gray\")\n",
    "\n",
    "fig.tight_layout()"
   ]
  },
  {
   "cell_type": "code",
   "execution_count": 196,
   "metadata": {},
   "outputs": [
    {
     "data": {
      "image/png": "[encoded data removed]",
      "text/plain": [
       "<Figure size 228.6x55.7743 with 3 Axes>"
      ]
     },
     "metadata": {},
     "output_type": "display_data"
    }
   ],
   "source": [
    "from src.utils.distributions import pol_mean_to_ab\n",
    "from scipy.stats import beta\n",
    "import numpy as np\n",
    "\n",
    "LW = 0.85\n",
    "\n",
    "def betadistr(a,b, nx = 1000):\n",
    "    x = np.linspace(1/nx/2, 1-1/nx/2, nx)\n",
    "    return x, beta.pdf(x, a, b)\n",
    "\n",
    "def clean(ax):\n",
    "    ax.spines[['top','right']].set_visible(False)\n",
    "    ax.set_xticks([0, 0.5, 1])\n",
    "    ax.set_yticks([0, 5, 10])\n",
    "    ax.set_ylim(0, 5)\n",
    "    ax.set_xticklabels([])\n",
    "    ax.set_yticklabels([])\n",
    "\n",
    "fig, ax = plt.subplots(1,3, figsize=(Lx, Ly/3))\n",
    "\n",
    "\n",
    "a,b =pol_mean_to_ab(0.1, 0.1)\n",
    "x,y = betadistr(a,b)\n",
    "ax[0].plot(x, y, color = \"#1b9e77\", linewidth = LW)\n",
    "\n",
    "a,b = pol_mean_to_ab(0.1, 0.5)\n",
    "x,y = betadistr(a,b)\n",
    "ax[0].plot(x, y, color = \"#7570b3\", linewidth = LW)\n",
    "clean(ax[0])\n",
    "##################\n",
    "a,b = pol_mean_to_ab(1/3, 0.35)\n",
    "x,y = betadistr(a,b)\n",
    "ax[1].plot(x, y, color = \"#1b9e77\", linewidth = LW)\n",
    "\n",
    "a,b = pol_mean_to_ab(1/3, 0.5)\n",
    "x,y = betadistr(a,b)\n",
    "ax[1].plot(x, y, color = \"#7570b3\", linewidth = LW)\n",
    "clean(ax[1])\n",
    "########\n",
    "\n",
    "a,b = pol_mean_to_ab(0.9, 0.35)\n",
    "x,y = betadistr(a,b)\n",
    "ax[2].plot(x, y, color = \"#1b9e77\", linewidth = LW)\n",
    "\n",
    "a,b = pol_mean_to_ab(0.9, 0.5)\n",
    "x,y = betadistr(a,b)\n",
    "ax[2].plot(x, y, color = \"#7570b3\", linewidth = LW)\n",
    "clean(ax[2])\n",
    "\n",
    "\n",
    "fig.patch.set_visible(False)\n",
    "\n",
    "name = \"beta_distributions.pdf\"\n",
    "plt.savefig(path_Plot_with_labels + name, bbox_inches='tight')\n",
    "plt.savefig(path_Plot_without_labels + name, bbox_inches='tight')"
   ]
  },
  {
   "cell_type": "code",
   "execution_count": 224,
   "metadata": {},
   "outputs": [
    {
     "name": "stderr",
     "output_type": "stream",
     "text": [
      "No artists with labels found to put in legend.  Note that artists whose label start with an underscore are ignored when legend() is called with no argument.\n"
     ]
    },
    {
     "data": {
      "image/png": "[encoded data removed]",
      "text/plain": [
       "<Figure size 228.6x167.323 with 1 Axes>"
      ]
     },
     "metadata": {},
     "output_type": "display_data"
    }
   ],
   "source": [
    "col_pol_circles = [\"#1b9e77\", \"#7570b3\"]\n",
    "name = \"SIRB_B(m,p)_RI.pdf\"\n",
    "\n",
    "fig, ax = plt.subplots(figsize=(Lx, Ly))\n",
    "cax = ax.imshow(np.flipud(FIG_B_RI), cmap=my_hot_r, aspect=\"auto\", origin=\"lower\", extent=[0, 1, 0, 1], vmin=0, vmax=1, interpolation=\"none\")\n",
    "cbar = fig.colorbar(cax, ax=ax)\n",
    "#CS = ax.contour(h_vals, pol*4, FIG_C_RI, levels=[0.25, 0.5, 0.75], linewidths=1, colors=\"black\", linestyles=\"dashed\")\n",
    "CS = ax.contour(pol, mean_vals, np.flipud(FIG_B_RI), \n",
    "    levels=[0.25, 0.5, 0.75], linewidths=0.5, \n",
    "    colors=\"black\", linestyles=\"dashed\")\n",
    "Xs = np.array([0.1, 0.3, 0.5, 0.7, 0.9])\n",
    "Ys = np.zeros(5)+0.001\n",
    "\n",
    "#ax.plot(1-Xs, 1-Ys, 'o', color='black', markersize=1)\n",
    "#ax.plot(1-Ys, 1-Xs, 'o', color='black', markersize=1)\n",
    "\n",
    "Xs = np.array([0.1, 0.1, 1/3, 1/3, 0.9, 0.9])\n",
    "Ys = np.array([0.1, 0.5, 0.35, 0.5, 0.35, 0.5])\n",
    "Colors = [col_pol_circles[0], col_pol_circles[1],col_pol_circles[0], col_pol_circles[1],col_pol_circles[0], col_pol_circles[1]]\n",
    "\n",
    "ax.scatter(Xs, Ys, c=Colors, marker='o', s=30, zorder = 100,edgecolors='black')\n",
    "\n",
    "ax.set_xticks([0,0.5,1])\n",
    "ax.set_yticks([0,0.5,1])\n",
    "\n",
    "\n",
    "\n",
    "fig.patch.set_visible(False)\n",
    "double_savefig(fig, ax, name, path_Plot_with_labels, path_Plot_without_labels, cbar=cbar)"
   ]
  },
  {
   "cell_type": "code",
   "execution_count": 217,
   "metadata": {},
   "outputs": [
    {
     "name": "stderr",
     "output_type": "stream",
     "text": [
      "No artists with labels found to put in legend.  Note that artists whose label start with an underscore are ignored when legend() is called with no argument.\n"
     ]
    },
    {
     "data": {
      "image/png": "[encoded data removed]",
      "text/plain": [
       "<Figure size 103.909x167.323 with 1 Axes>"
      ]
     },
     "metadata": {},
     "output_type": "display_data"
    }
   ],
   "source": [
    "name = \"SIRB_B(m,p)_R0.pdf\"\n",
    "\n",
    "fig, ax = plt.subplots(figsize=(Lx/2.2, Ly))\n",
    "cax = ax.imshow(FIG_B_R0, cmap=my_vir_r, aspect=\"auto\", origin=\"lower\", extent=[0, 1, 0, 1], vmin = 1, vmax = 5, interpolation=\"none\")\n",
    "cbar = fig.colorbar(cax, ax=ax)\n",
    "#CS = ax.contour(h_vals, pol*4, FIG_C_RI, levels=[0.25, 0.5, 0.75], linewidths=1, colors=\"black\", linestyles=\"dashed\")\n",
    "CS = ax.contour(pol, mean_vals, FIG_B_RI, \n",
    "    levels=[0.25, 0.5, 0.75], linewidths=0.5, \n",
    "    colors=\"black\", linestyles=\"dashed\")\n",
    "\n",
    "ax.set_xticks([0,1])\n",
    "ax.set_yticks([0,0.5,1])\n",
    "\n",
    "fig.patch.set_visible(False)\n",
    "double_savefig(fig, ax, name, path_Plot_with_labels, path_Plot_without_labels, cbar=cbar)"
   ]
  },
  {
   "cell_type": "code",
   "execution_count": 17,
   "metadata": {},
   "outputs": [
    {
     "name": "stderr",
     "output_type": "stream",
     "text": [
      "No artists with labels found to put in legend.  Note that artists whose label start with an underscore are ignored when legend() is called with no argument.\n",
      "No artists with labels found to put in legend.  Note that artists whose label start with an underscore are ignored when legend() is called with no argument.\n"
     ]
    },
    {
     "name": "stdout",
     "output_type": "stream",
     "text": [
      "[0.1        0.29999998 0.5        0.6999999  0.9       ]\n"
     ]
    },
    {
     "data": {
      "image/png": "[encoded data removed]",
      "text/plain": [
       "<Figure size 228.6x167.323 with 1 Axes>"
      ]
     },
     "metadata": {},
     "output_type": "display_data"
    },
    {
     "data": {
      "image/png": "[encoded data removed]",
      "text/plain": [
       "<Figure size 103.909x167.323 with 1 Axes>"
      ]
     },
     "metadata": {},
     "output_type": "display_data"
    }
   ],
   "source": [
    "NP = 5  # number of polarization points\n",
    "NM = 500  # number of mean points\n",
    "pol_range={\"m\": 0.1, \"M\": 0.9, \"n\": NP} \n",
    "mean_range={\"m\": 0.0, \"M\": 1.0, \"n\": NM}         \n",
    "\n",
    "pols = homogeneous_distribution(NP, 0, 1)\n",
    "means = homogeneous_distribution(NM, 0, 1)\n",
    "\n",
    "#results = run_pol_mean_sweep_SIRT(\n",
    "results = sweep_pol_mean_SIRM(\n",
    "    mean_range=mean_range,\n",
    "    pol_range=pol_range,\n",
    "    h=0,\n",
    "    dT=1,\n",
    "    T=1000,\n",
    "    susceptibility_rate=0.6,  # This replaces the susceptibility range\n",
    "    batch_size=1000,\n",
    "    N_COMPARTMENTS = 100,\n",
    "    SPB_exponent=1\n",
    ")\n",
    "(S_final, I_final, R_final), R0, OH = results\n",
    "\n",
    "S = np.sum(S_final, axis=1)\n",
    "I = np.sum(I_final, axis=1)\n",
    "R = np.sum(R_final, axis=1)\n",
    "\n",
    "# Correct reshaping\n",
    "S = S.reshape(NM, NP).T  # Shape becomes (NP, NM)\n",
    "I = I.reshape(NM, NP).T\n",
    "R = R.reshape(NM, NP).T\n",
    "R0 = R0.reshape(NM, NP).T\n",
    "OH = OH.reshape(NM, NP).T\n",
    "\n",
    "temp = np.fliplr(R + I)\n",
    "\n",
    "\n",
    "# Plot each polarization value\n",
    "fig, ax = plt.subplots(figsize=(Lx, Ly))\n",
    "for i in range(NP):\n",
    "    ax.plot(means,(temp[i, :]), color = CP1[i])\n",
    "\n",
    "ax.set_ylim(0, 1)\n",
    "ax.set_xlim(0, 1)\n",
    "\n",
    "name = \"SIRB_B(m)_RI.pdf\"\n",
    "ax.set_xticks([0, 0.5, 1])\n",
    "ax.set_yticks([0, 0.5, 1])\n",
    "\n",
    "double_savefig(fig, ax, name, path_Plot_with_labels, path_Plot_without_labels)\n",
    "\n",
    "# find the index of the closest value to 0.5\n",
    "idx = (np.abs(means - 0.5)).argmin()\n",
    "\n",
    "fig, ax = plt.subplots(figsize=(Lx/2.2, Ly))\n",
    "for i in range(NP):\n",
    "    ax.plot(means, (temp[i, :]-temp[i, idx])/temp[i, idx]*100, color = CP1[i])\n",
    "\n",
    "# Add a horizontal line at 0\n",
    "ax.axhline(0, color='black', lw=1, ls='--')\n",
    "\n",
    "ax.set_ylim(-100, 50)\n",
    "ax.set_xlim(0, 1)\n",
    "\n",
    "name = \"SIRB_B(m)_RI100.pdf\"\n",
    "ax.set_xticks([0, 0.5, 1])\n",
    "ax.set_yticks([-100, -50, 0, 50])\n",
    "\n",
    "fig.patch.set_visible(False)\n",
    "double_savefig(fig, ax, name, path_Plot_with_labels, path_Plot_without_labels)\n",
    "\n",
    "print(pols)\n",
    "\n"
   ]
  },
  {
   "cell_type": "code",
   "execution_count": 18,
   "metadata": {},
   "outputs": [
    {
     "name": "stderr",
     "output_type": "stream",
     "text": [
      "No artists with labels found to put in legend.  Note that artists whose label start with an underscore are ignored when legend() is called with no argument.\n",
      "No artists with labels found to put in legend.  Note that artists whose label start with an underscore are ignored when legend() is called with no argument.\n"
     ]
    },
    {
     "name": "stdout",
     "output_type": "stream",
     "text": [
      "[0.1        0.29999998 0.5        0.6999999  0.9       ]\n"
     ]
    },
    {
     "data": {
      "image/png": "[encoded data removed]",
      "text/plain": [
       "<Figure size 228.6x167.323 with 1 Axes>"
      ]
     },
     "metadata": {},
     "output_type": "display_data"
    },
    {
     "data": {
      "image/png": "[encoded data removed]",
      "text/plain": [
       "<Figure size 103.909x167.323 with 1 Axes>"
      ]
     },
     "metadata": {},
     "output_type": "display_data"
    }
   ],
   "source": [
    "NP = 100    # number of polarization points\n",
    "NM = 5      # number of mean points\n",
    "pol_range={\"m\": 0, \"M\": 1, \"n\": NP}  \n",
    "mean_range={\"m\": 0, \"M\": 1, \"n\": NM}         \n",
    "\n",
    "pols = homogeneous_distribution(NP, 0, 1)\n",
    "means = homogeneous_distribution(NM, 0, 1)\n",
    "\n",
    "#results = run_pol_mean_sweep_SIRT(\n",
    "results = sweep_pol_mean_SIRM(\n",
    "    mean_range=mean_range,\n",
    "    pol_range=pol_range,\n",
    "    h=0,\n",
    "    dT=1,\n",
    "    T=1000,\n",
    "    susceptibility_rate=0.6,  # This replaces the susceptibility range\n",
    "    batch_size=1000,\n",
    "    N_COMPARTMENTS = 100,\n",
    "    SPB_exponent=1\n",
    ")\n",
    "(S_final, I_final, R_final), R0, OH = results\n",
    "\n",
    "S = np.sum(S_final, axis=1)\n",
    "I = np.sum(I_final, axis=1)\n",
    "R = np.sum(R_final, axis=1)\n",
    "\n",
    "# Correct reshaping\n",
    "S = S.reshape(NM, NP).T  # Shape becomes (NP, NM)\n",
    "I = I.reshape(NM, NP).T\n",
    "R = R.reshape(NM, NP).T\n",
    "R0 = R0.reshape(NM, NP).T\n",
    "OH = OH.reshape(NM, NP).T\n",
    "\n",
    "temp = R + I\n",
    "\n",
    "# Plot each polarization value\n",
    "fig, ax = plt.subplots(figsize=(Lx, Ly))\n",
    "for i in range(NM):\n",
    "    ax.plot(pols, temp[:,i], color = CP2[i])\n",
    "\n",
    "ax.set_ylim(0, 1)\n",
    "ax.set_xlim(0, 1)\n",
    "ax.set_xticks([0, 0.5, 1])\n",
    "ax.set_yticks([0, 0.5, 1])\n",
    "name = \"SIRB_B(p)_RI.pdf\"\n",
    "\n",
    "fig.patch.set_visible(False)\n",
    "double_savefig(fig, ax, name, path_Plot_with_labels, path_Plot_without_labels)\n",
    "\n",
    "fig, ax = plt.subplots(figsize=(Lx/2.2, Ly))\n",
    "for i in range(NM):\n",
    "    ax.plot(pols, (temp[:,i]-temp[0,i])/temp[0,i]*100, color = CP2[i])\n",
    "\n",
    "# Add a horizontal line at 0\n",
    "ax.axhline(0, color='black', lw=1, ls='--')\n",
    "\n",
    "ax.set_ylim(-50, 100)\n",
    "\n",
    "ax.set_xlim(0, 1)\n",
    "ax.set_xticks([0, 0.5, 1])\n",
    "ax.set_yticks([-50, 0, 50, 100])\n",
    "name = \"SIRB_B(p)_RI100.pdf\"\n",
    "\n",
    "fig.patch.set_visible(False)\n",
    "double_savefig(fig, ax, name, path_Plot_with_labels, path_Plot_without_labels)\n",
    "\n",
    "print(means)"
   ]
  },
  {
   "cell_type": "code",
   "execution_count": 172,
   "metadata": {},
   "outputs": [
    {
     "name": "stdout",
     "output_type": "stream",
     "text": [
      "0.6054999999999999 1.1245000000000003\n",
      "1.0000000000000002 1.0\n"
     ]
    },
    {
     "data": {
      "image/png": "[encoded data removed]",
      "text/plain": [
       "<Figure size 228.6x55.7743 with 3 Axes>"
      ]
     },
     "metadata": {},
     "output_type": "display_data"
    }
   ],
   "source": [
    "\n",
    "\n",
    "\n"
   ]
  },
  {
   "cell_type": "code",
   "execution_count": null,
   "metadata": {},
   "outputs": [],
   "source": []
  },
  {
   "cell_type": "code",
   "execution_count": null,
   "metadata": {},
   "outputs": [],
   "source": []
  },
  {
   "cell_type": "code",
   "execution_count": 225,
   "metadata": {},
   "outputs": [],
   "source": [
    "NP = 100  # number of polarization points\n",
    "NH = 100  # number of homophily points\n",
    "h_range={\"m\": -10.0, \"M\": 10.0, \"n\": NH}\n",
    "pol_range ={\"m\": 0, \"M\": 1, \"n\": NP}\n",
    "results = sweep_hom_pol_SIRM(\n",
    "    h_range=h_range,     # homophily range\n",
    "    pol_range=pol_range,  # polarization range\n",
    "    dT=1,\n",
    "    T=1000,\n",
    "    recovery_rate=0.1,\n",
    "    susceptibility_rate=0.35,  \n",
    "    batch_size=1000\n",
    ")\n",
    "\n",
    "(S_final, I_final, R_final), R0, OH = results\n",
    "S = np.sum(S_final, axis=1)\n",
    "I = np.sum(I_final, axis=1)\n",
    "R = np.sum(R_final, axis=1)\n",
    "\n",
    "# Reshape arrays\n",
    "S = S.reshape(NP, NH)  # No transpose needed\n",
    "I = I.reshape(NP, NH)\n",
    "R = R.reshape(NP, NH)\n",
    "R0 = R0.reshape(NP, NH)\n",
    "OH = OH.reshape(NP, NH)\n",
    "\n",
    "FIG_C_RI = R + I\n",
    "FIG_C_R0 = R0\n",
    "FIG_C_OH = OH"
   ]
  },
  {
   "cell_type": "code",
   "execution_count": 226,
   "metadata": {},
   "outputs": [
    {
     "data": {
      "image/png": "[encoded data removed]",
      "text/plain": [
       "<Figure size 457.201x167.323 with 4 Axes>"
      ]
     },
     "metadata": {},
     "output_type": "display_data"
    }
   ],
   "source": [
    "h_vals = homogeneous_distribution(NH, h_range[\"m\"], h_range[\"M\"])\n",
    "pol = homogeneous_distribution(NP, 0, 1)\n",
    "\n",
    "# Plotting\n",
    "\n",
    "fig, ax = plt.subplots(1,2, figsize=(2*Lx, Ly))\n",
    "\n",
    "cax = ax[0].imshow(FIG_C_RI, cmap=my_hot_r, aspect=\"auto\", origin=\"lower\", \n",
    "    extent=[h_range[\"m\"], h_range[\"M\"], 0, 1],  # Note: changed extent to match h and pol ranges\n",
    "    vmin=0, vmax=1, interpolation=\"none\")\n",
    "cbar = fig.colorbar(cax, ax=ax[0])\n",
    "\n",
    "cax = ax[1].imshow(FIG_C_R0, cmap=my_vir_r, aspect=\"auto\", origin=\"lower\",\n",
    "    extent=[h_range[\"m\"], h_range[\"M\"], 0, 1],  # Note: changed extent to match h and pol ranges\n",
    "    vmin=1, vmax = 10)\n",
    "cbar = fig.colorbar(cax, ax=ax[1])\n",
    "\n",
    "CS = ax[1].contour(h_vals, pol, FIG_C_R0,  # Note: transpose to match the expected orientation\n",
    "    levels=[1], linewidths=2, colors=\"black\")\n",
    "CS = ax[0].contour(h_vals, pol, FIG_C_R0,  # Note: transpose to match the expected orientation\n",
    "    levels=[1], linewidths=2, colors=\"black\")\n",
    "\n",
    "\n",
    "\n",
    "fig.tight_layout()"
   ]
  },
  {
   "cell_type": "code",
   "execution_count": 237,
   "metadata": {},
   "outputs": [
    {
     "name": "stderr",
     "output_type": "stream",
     "text": [
      "No artists with labels found to put in legend.  Note that artists whose label start with an underscore are ignored when legend() is called with no argument.\n"
     ]
    },
    {
     "data": {
      "image/png": "[encoded data removed]",
      "text/plain": [
       "<Figure size 228.6x167.323 with 1 Axes>"
      ]
     },
     "metadata": {},
     "output_type": "display_data"
    }
   ],
   "source": [
    "name = \"SIRB_(h,p)_RI.pdf\"\n",
    "\n",
    "fig, ax = plt.subplots(figsize=(Lx, Ly))\n",
    "cax = ax.imshow(FIG_C_RI, cmap=my_hot_r, aspect=\"auto\", origin=\"lower\", extent=[-10, 10, 0, 1], vmin=0, vmax=1, interpolation=\"none\")\n",
    "cbar = fig.colorbar(cax, ax=ax)\n",
    "CS = ax.contour(h_vals, pol, FIG_C_RI, levels=[0.25, 0.5, 0.75], linewidths=1, colors=\"black\", linestyles=\"dashed\")\n",
    "CS = ax.contour(h_vals, pol, FIG_C_R0, levels=[1], linewidths=2, colors=\"gray\")\n",
    "\n",
    "ax.set_xticks([-10, -5, 0, 5, 10])\n",
    "ax.set_yticks([0, 0.5, 1])\n",
    "\n",
    "fig.patch.set_visible(False)\n",
    "double_savefig(fig, ax, name, path_Plot_with_labels, path_Plot_without_labels, cbar=cbar)"
   ]
  },
  {
   "cell_type": "code",
   "execution_count": null,
   "metadata": {},
   "outputs": [
    {
     "name": "stderr",
     "output_type": "stream",
     "text": [
      "No artists with labels found to put in legend.  Note that artists whose label start with an underscore are ignored when legend() is called with no argument.\n"
     ]
    },
    {
     "data": {
      "image/png": "[encoded data removed]",
      "text/plain": [
       "<Figure size 103.909x167.323 with 1 Axes>"
      ]
     },
     "metadata": {},
     "output_type": "display_data"
    },
    {
     "ename": "",
     "evalue": "",
     "output_type": "error",
     "traceback": [
      "\u001b[1;31mThe Kernel crashed while executing code in the current cell or a previous cell. \n",
      "\u001b[1;31mPlease review the code in the cell(s) to identify a possible cause of the failure. \n",
      "\u001b[1;31mClick <a href='https://aka.ms/vscodeJupyterKernelCrash'>here</a> for more info. \n",
      "\u001b[1;31mView Jupyter <a href='command:jupyter.viewOutput'>log</a> for further details."
     ]
    }
   ],
   "source": [
    "name = \"SIRB_(h,p)_R0.pdf\"\n",
    "\n",
    "fig, ax = plt.subplots(figsize=(Lx/2.2, Ly))\n",
    "cax = ax.imshow(FIG_C_R0, cmap=my_vir_r, aspect=\"auto\", origin=\"lower\", extent=[-10, 10, 0, 1], vmin=1, vmax=10, interpolation=\"none\")\n",
    "cbar = fig.colorbar(cax, ax=ax)\n",
    "CS = ax.contour(h_vals, pol, FIG_C_RI, levels=[0.25, 0.5, 0.75], linewidths=1, colors=\"black\", linestyles=\"dashed\")\n",
    "CS = ax.contour(h_vals, pol, FIG_C_R0, levels=[1], linewidths=2, colors=\"gray\")\n",
    "\n",
    "ax.set_xticks([-10, 0,  10])\n",
    "ax.set_yticks([])\n",
    "fig.patch.set_visible(False)\n",
    "double_savefig(fig, ax, name, path_Plot_with_labels, path_Plot_without_labels, cbar=cbar)"
   ]
  },
  {
   "cell_type": "code",
   "execution_count": 21,
   "metadata": {},
   "outputs": [
    {
     "name": "stderr",
     "output_type": "stream",
     "text": [
      "No artists with labels found to put in legend.  Note that artists whose label start with an underscore are ignored when legend() is called with no argument.\n"
     ]
    },
    {
     "data": {
      "image/png": "[encoded data removed]",
      "text/plain": [
       "<Figure size 228.6x167.323 with 1 Axes>"
      ]
     },
     "metadata": {},
     "output_type": "display_data"
    },
    {
     "data": {
      "image/png": "[encoded data removed]",
      "text/plain": [
       "<Figure size 103.909x167.323 with 1 Axes>"
      ]
     },
     "metadata": {},
     "output_type": "display_data"
    }
   ],
   "source": [
    "NP = 100  # number of polarization points\n",
    "NH = 5  # number of homophily points\n",
    "\n",
    "h_range={\"m\": -10.0, \"M\": 10.0, \"n\": NH}\n",
    "pol_range = {\"m\": 0, \"M\": 1, \"n\": NP}\n",
    "pols = homogeneous_distribution(NP, 0, 1)\n",
    "\n",
    "results = sweep_hom_pol_SIRM(\n",
    "    h_range=h_range,     # homophily range\n",
    "    pol_range=pol_range,  # polarization range\n",
    "    dT=1,\n",
    "    T=1000,\n",
    "    recovery_rate=0.1,\n",
    "    susceptibility_rate=0.35,  \n",
    "    batch_size=1000\n",
    ")\n",
    "\n",
    "(S_final, I_final, R_final), R0, OH = results\n",
    "S = np.sum(S_final, axis=1)\n",
    "I = np.sum(I_final, axis=1)\n",
    "R = np.sum(R_final, axis=1)\n",
    "\n",
    "# Reshape arrays\n",
    "S = S.reshape(NP, NH)  # No transpose needed\n",
    "I = I.reshape(NP, NH)\n",
    "R = R.reshape(NP, NH)\n",
    "R0 = R0.reshape(NP, NH)\n",
    "OH = OH.reshape(NP, NH)\n",
    "\n",
    "temp = R + I\n",
    "\n",
    "# Plot each polarization value\n",
    "fig, ax = plt.subplots(figsize=(Lx, Ly))\n",
    "for i in range(NH):\n",
    "    ax.plot(pols, temp[:, i], color = CP2[i])\n",
    "\n",
    "ax.set_ylim(0, 1)\n",
    "ax.set_xlim(0, 1)\n",
    "ax.set_xticks([0, 0.5, 1])\n",
    "ax.set_yticks([0, 0.5, 1])\n",
    "\n",
    "name = \"SIRB_C_(p)_RI.pdf\"\n",
    "\n",
    "fig.patch.set_visible(False)\n",
    "double_savefig(fig, ax, name, path_Plot_with_labels, path_Plot_without_labels)\n",
    "\n",
    "fig, ax = plt.subplots(figsize=(Lx/2.2, Ly))\n",
    "for i in range(NH):\n",
    "    ax.plot(pols, (temp[:,i]-temp[0,i])/temp[0,i]*100, color = CP2[i])\n",
    "\n",
    "# Add a horizontal line at 0\n",
    "ax.axhline(0, color='black', lw=1, ls='--')\n",
    "\n",
    "ax.set_ylim(-100, 50)\n",
    "ax.set_xlim(0, 1)\n",
    "ax.set_xticks([0, 0.5, 1])\n",
    "ax.set_yticks([-100, -50, 0, 50])\n",
    "\n",
    "name = \"SIRB_C_(p)_RI100.pdf\"\n",
    "\n",
    "fig.patch.set_visible(False)\n",
    "#double_savefig(fig, ax, name, path_Plot_with_labels, path_Plot_without_labels)\n"
   ]
  },
  {
   "cell_type": "code",
   "execution_count": 20,
   "metadata": {},
   "outputs": [
    {
     "name": "stderr",
     "output_type": "stream",
     "text": [
      "No artists with labels found to put in legend.  Note that artists whose label start with an underscore are ignored when legend() is called with no argument.\n"
     ]
    },
    {
     "data": {
      "image/png": "[encoded data removed]",
      "text/plain": [
       "<Figure size 228.6x167.323 with 1 Axes>"
      ]
     },
     "metadata": {},
     "output_type": "display_data"
    },
    {
     "data": {
      "image/png": "[encoded data removed]",
      "text/plain": [
       "<Figure size 103.909x167.323 with 1 Axes>"
      ]
     },
     "metadata": {},
     "output_type": "display_data"
    }
   ],
   "source": [
    "NP = 5  # number of polarization points\n",
    "NH = 100  # number of homophily points\n",
    "\n",
    "\n",
    "\n",
    "h_range={\"m\": -10.0, \"M\": 10.0, \"n\": NH}\n",
    "pol_range = {\"m\": 0, \"M\": 1, \"n\": NP}\n",
    "pols = homogeneous_distribution(NP, 0, 1)\n",
    "homs = homogeneous_distribution(NH, h_range['m'], h_range['M'])\n",
    "results = sweep_hom_pol_SIRM(\n",
    "    h_range=h_range,     # homophily range\n",
    "    pol_range=pol_range,  # polarization range\n",
    "    dT=1,\n",
    "    T=1000,\n",
    "    recovery_rate=0.1,\n",
    "    susceptibility_rate=0.35,  \n",
    "    batch_size=1000\n",
    ")\n",
    "\n",
    "(S_final, I_final, R_final), R0, OH = results\n",
    "S = np.sum(S_final, axis=1)\n",
    "I = np.sum(I_final, axis=1)\n",
    "R = np.sum(R_final, axis=1)\n",
    "\n",
    "# Reshape arrays\n",
    "S = S.reshape(NP, NH)  # No transpose needed\n",
    "I = I.reshape(NP, NH)\n",
    "R = R.reshape(NP, NH)\n",
    "R0 = R0.reshape(NP, NH)\n",
    "OH = OH.reshape(NP, NH)\n",
    "\n",
    "temp = R + I\n",
    "\n",
    "# Plot each polarization value\n",
    "fig, ax = plt.subplots(figsize=(Lx, Ly))\n",
    "for i in range(NP):\n",
    "    ax.plot(homs, temp[i, :], color = CP3[i])\n",
    "\n",
    "ax.set_ylim(0, 1)\n",
    "ax.set_xlim(-10, 10)\n",
    "ax.set_xticks([-10, 0, 10])\n",
    "ax.set_yticks([0, 0.5, 1])\n",
    "\n",
    "name = \"SIRB_C_(h)_RI.pdf\"\n",
    "\n",
    "fig.patch.set_visible(False)\n",
    "double_savefig(fig, ax, name, path_Plot_with_labels, path_Plot_without_labels)\n",
    "\n",
    "\n",
    "# find the index of homs closest value to 0\n",
    "idx = (np.abs(homs - 0)).argmin()\n",
    "\n",
    "fig, ax = plt.subplots(figsize=(Lx/2.2, Ly))\n",
    "for i in range(NP):\n",
    "    ax.plot(homs, (temp[i,:]-temp[i,idx])/temp[i,idx]*100, color = CP3[i])\n",
    "\n",
    "# Add a horizontal line at 0\n",
    "ax.axhline(0, color='black', lw=1, ls='--')\n",
    "ax.set_xlim(-10, 10)\n",
    "ax.set_ylim(-100, 50)\n",
    "\n",
    "ax.set_xticks([-10, 0, 10])\n",
    "ax.set_yticks([-100, -50, 0, 50])\n",
    "\n",
    "name = \"SIRB_C_(h)_RI100.pdf\"\n",
    "\n",
    "fig.patch.set_visible(False)\n",
    "#double_savefig(fig, ax, name, path_Plot_with_labels, path_Plot_without_labels)"
   ]
  },
  {
   "cell_type": "code",
   "execution_count": 234,
   "metadata": {},
   "outputs": [],
   "source": [
    "from src.utils.Contact_Matrix import create_contact_matrix\n",
    "from jax import numpy as jnp\n",
    "\n",
    "Cm10 = create_contact_matrix(100, -10, jnp.array([0.1, 0.2, 0.3, 0.4, 0.5, 0.6, 0.7, 0.8]))\n",
    "Cm5 = create_contact_matrix(100, -5, jnp.array([0.1, 0.2, 0.3, 0.4, 0.5, 0.6, 0.7, 0.8]))\n",
    "Cm25 = create_contact_matrix(100, -2.5, jnp.array([0.1, 0.2, 0.3, 0.4, 0.5, 0.6, 0.7, 0.8]))\n",
    "C0 = create_contact_matrix(100, 0, jnp.array([0.1, 0.2, 0.3, 0.4, 0.5, 0.6, 0.7, 0.8]))\n",
    "Cp25 = create_contact_matrix(100, 2.5, jnp.array([0.1, 0.2, 0.3, 0.4, 0.5, 0.6, 0.7, 0.8]))\n",
    "Cp5 = create_contact_matrix(100, 5, jnp.array([0.1, 0.2, 0.3, 0.4, 0.5, 0.6, 0.7, 0.8]))\n",
    "Cp10 = create_contact_matrix(100, 10, jnp.array([0.1, 0.2, 0.3, 0.4, 0.5, 0.6, 0.7, 0.8]))\n",
    "\n",
    "names = [\"Cm10\", \"Cm5\", \"C0\", \"Cp5\", \"Cp10\"]\n",
    "titles = [\"h = -10\", \"h = -5\",  \"h = 0\",  \"h = 5\", \"h = 10\"]"
   ]
  },
  {
   "cell_type": "code",
   "execution_count": 236,
   "metadata": {},
   "outputs": [
    {
     "name": "stderr",
     "output_type": "stream",
     "text": [
      "No artists with labels found to put in legend.  Note that artists whose label start with an underscore are ignored when legend() is called with no argument.\n",
      "No artists with labels found to put in legend.  Note that artists whose label start with an underscore are ignored when legend() is called with no argument.\n",
      "No artists with labels found to put in legend.  Note that artists whose label start with an underscore are ignored when legend() is called with no argument.\n",
      "No artists with labels found to put in legend.  Note that artists whose label start with an underscore are ignored when legend() is called with no argument.\n",
      "No artists with labels found to put in legend.  Note that artists whose label start with an underscore are ignored when legend() is called with no argument.\n"
     ]
    },
    {
     "data": {
      "image/png": "[encoded data removed]",
      "text/plain": [
       "<Figure size 114.3x114.3 with 1 Axes>"
      ]
     },
     "metadata": {},
     "output_type": "display_data"
    },
    {
     "data": {
      "image/png": "[encoded data removed]",
      "text/plain": [
       "<Figure size 114.3x114.3 with 1 Axes>"
      ]
     },
     "metadata": {},
     "output_type": "display_data"
    },
    {
     "data": {
      "image/png": "[encoded data removed]",
      "text/plain": [
       "<Figure size 114.3x114.3 with 1 Axes>"
      ]
     },
     "metadata": {},
     "output_type": "display_data"
    },
    {
     "data": {
      "image/png": "[encoded data removed]",
      "text/plain": [
       "<Figure size 114.3x114.3 with 1 Axes>"
      ]
     },
     "metadata": {},
     "output_type": "display_data"
    },
    {
     "data": {
      "image/png": "[encoded data removed]",
      "text/plain": [
       "<Figure size 114.3x114.3 with 1 Axes>"
      ]
     },
     "metadata": {},
     "output_type": "display_data"
    }
   ],
   "source": [
    "for i in range(5):\n",
    "    fig, ax = plt.subplots(figsize=(Lx/2, Lx/2))\n",
    "    cax = ax.imshow(eval(names[i]), cmap=\"RdBu_r\", aspect=\"auto\", origin=\"lower\", vmin=0, vmax=8, extent=[0, 1, 0, 1])\n",
    "    cbar = fig.colorbar(cax, ax=ax)\n",
    "    CS = ax.contour(jnp.linspace(0,1,100),jnp.linspace(0,1,100), eval(names[i]), levels=[1, 3 , 6], linewidths=1, colors=\"black\")\n",
    "    ax.set_title(titles[i])\n",
    "    ax.set_xlim(0, 1)\n",
    "    ax.set_ylim(0, 1)\n",
    "    name = names[i] + \".pdf\"\n",
    "    fig.patch.set_visible(False)\n",
    "    double_savefig(fig, ax, name, path_Plot_with_labels, path_Plot_without_labels, cbar=cbar)\n",
    "\n"
   ]
  },
  {
   "cell_type": "code",
   "execution_count": 232,
   "metadata": {},
   "outputs": [
    {
     "data": {
      "image/png": "[encoded data removed]",
      "text/plain": [
       "<Figure size 914.402x10 with 2 Axes>"
      ]
     },
     "metadata": {},
     "output_type": "display_data"
    }
   ],
   "source": [
    "import matplotlib.pyplot as plt\n",
    "import matplotlib as mpl\n",
    "\n",
    "fig = plt.figure(figsize=(Lx*4, 0.1))\n",
    "\n",
    "# Remove all margins and padding\n",
    "fig.patch.set_visible(False)\n",
    "\n",
    "# Create an invisible axes with zero size\n",
    "ax = fig.add_axes([0, 0, 0, 0])\n",
    "ax.set_visible(False)\n",
    "\n",
    "# Create the colorbar axes explicitly\n",
    "cbar_ax = fig.add_axes([0.1, 0.1, 0.2, 0.8])  # [left, bottom, width, height]\n",
    "\n",
    "# Create the colorbar using your original mappable\n",
    "norm = mpl.colors.Normalize(vmin=0, vmax=1)\n",
    "sm = plt.cm.ScalarMappable(cmap='RdBu_r', norm=norm)\n",
    "sm.set_array([])\n",
    "\n",
    "cbar = plt.colorbar(sm, cax=cbar_ax, orientation='horizontal')\n",
    "cbar.set_ticks([0, 0.5, 1])\n",
    "cbar.set_ticklabels([])\n",
    "\n",
    "name = \"CM_colorbar.pdf\"\n",
    "fig.savefig(path_Plot_with_labels + name, bbox_inches='tight')\n",
    "fig.savefig(path_Plot_without_labels + name, bbox_inches='tight')"
   ]
  },
  {
   "cell_type": "code",
   "execution_count": 127,
   "metadata": {},
   "outputs": [
    {
     "data": {
      "text/plain": [
       "[<matplotlib.lines.Line2D at 0x13d4d8e17d0>]"
      ]
     },
     "execution_count": 127,
     "metadata": {},
     "output_type": "execute_result"
    },
    {
     "data": {
      "image/png": "[encoded data removed]",
      "text/plain": [
       "<Figure size 228.6x167.323 with 1 Axes>"
      ]
     },
     "metadata": {},
     "output_type": "display_data"
    }
   ],
   "source": [
    "# generate beta distributions:\n",
    "\n",
    "from scipy.stats import beta\n",
    "import numpy as np\n",
    "import matplotlib.pyplot as plt\n",
    "a, b = 5, 5\n",
    "x = np.linspace(1/100/2, 1-1/100/2, 100)\n",
    "y = beta.pdf(x, a, b)\n",
    "y5 = y/np.sum(y)\n",
    "\n",
    "a, b = 2, 5\n",
    "y = beta.pdf(x, a, b)\n",
    "y1 = y/np.sum(y)\n",
    "\n",
    "a, b = 0.5, 5\n",
    "y = beta.pdf(x, a, b)\n",
    "y05 = y/np.sum(y)\n",
    "\n",
    "fig, ax = plt.subplots(figsize=(Lx, Ly))\n",
    "ax.plot(x, y5, label=\"a=5, b=5\", color = \"#6e016b\")\n",
    "ax.plot(x, y1, label=\"a=1, b=1\", color = \"#8c6bb1\")\n",
    "ax.plot(x, y05, label=\"a=0.5, b=0.5\", color = \"#9ebcda\")"
   ]
  },
  {
   "cell_type": "code",
   "execution_count": null,
   "metadata": {},
   "outputs": [],
   "source": []
  },
  {
   "cell_type": "code",
   "execution_count": null,
   "metadata": {},
   "outputs": [],
   "source": []
  },
  {
   "cell_type": "code",
   "execution_count": null,
   "metadata": {},
   "outputs": [],
   "source": []
  },
  {
   "cell_type": "code",
   "execution_count": null,
   "metadata": {},
   "outputs": [],
   "source": []
  }
 ],
 "metadata": {
  "kernelspec": {
   "display_name": "Optimal",
   "language": "python",
   "name": "python3"
  },
  "language_info": {
   "codemirror_mode": {
    "name": "ipython",
    "version": 3
   },
   "file_extension": ".py",
   "mimetype": "text/x-python",
   "name": "python",
   "nbconvert_exporter": "python",
   "pygments_lexer": "ipython3",
   "version": "3.11.4"
  }
 },
 "nbformat": 4,
 "nbformat_minor": 2
}
