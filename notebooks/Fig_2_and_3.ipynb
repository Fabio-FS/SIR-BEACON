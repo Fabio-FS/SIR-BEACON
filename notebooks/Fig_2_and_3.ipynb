{
 "cells": [
  {
   "cell_type": "code",
   "execution_count": 1,
   "metadata": {},
   "outputs": [],
   "source": [
    "%load_ext autoreload\n",
    "%autoreload 2\n",
    "\n",
    "import matplotlib.pyplot as plt\n",
    "from matplotlib.patches import Ellipse\n",
    "\n",
    "from src.models import SIRM, SIRT, SIRV\n",
    "#from helps import *\n",
    "from src.utils.visualization.used import *"
   ]
  },
  {
   "cell_type": "code",
   "execution_count": 2,
   "metadata": {},
   "outputs": [],
   "source": [
    "NB = 100\n",
    "NP = 100\n",
    "\n",
    "homophilic_tendency = {\"m\": 0, \"M\": 6, \"n\": NB}\n",
    "pol_range = {\"m\": 0, \"M\": 1, \"n\": NP}\n",
    "\n",
    "P = [0.1, 0.5, 0.9]\n"
   ]
  },
  {
   "cell_type": "code",
   "execution_count": 3,
   "metadata": {},
   "outputs": [],
   "source": [
    "# visualization parameters\n",
    "\n",
    "colors_X = ['#66c2a4', '#238b45','#00441b']  # fixed polarization\n",
    "colors_Y = ['#67001f', '#e7298a', '#df65b0'] # fixed homophily\n",
    "my_map = discretize_cmaps(\"hot_r\",21)\n",
    "my_map.set_bad(color='gray')\n",
    "cmaps = [my_map]\n",
    "contour_values = [[0.25, 0.5, 0.75]]\n",
    "contour_colors = [['#000','#000','#000']]\n",
    "final_params={\n",
    "        'Lx': Lx,  # Figure width in inches\n",
    "        'Ly': Ly,  # Figure height in inches\n",
    "        'xticks': [0, 0.5, 1.0],\n",
    "        'yticks': [0, 3, 6],\n",
    "        'xlim': [0, 1],\n",
    "        'ylim': [0, 6]\n",
    "    }"
   ]
  },
  {
   "cell_type": "code",
   "execution_count": 4,
   "metadata": {},
   "outputs": [],
   "source": [
    "temp = read_json(\"./parameters.json\")\n",
    "mus, taus, xis, PARAMS = temp[\"mus\"], temp[\"taus\"], temp[\"xis\"], temp[\"PARAMS\"]"
   ]
  },
  {
   "cell_type": "code",
   "execution_count": 5,
   "metadata": {},
   "outputs": [],
   "source": [
    "figsize = [from_mm_to_in(45), from_mm_to_in(45)]"
   ]
  },
  {
   "cell_type": "code",
   "execution_count": 6,
   "metadata": {},
   "outputs": [
    {
     "name": "stderr",
     "output_type": "stream",
     "text": [
      "No GPU/TPU found, falling back to CPU. (Set TF_CPP_MIN_LOG_LEVEL=0 and rerun for more info.)\n"
     ]
    }
   ],
   "source": [
    "path_1_M = \"figures/Fig_1/I(pol,hom)_M.pdf\"\n",
    "\n",
    "NB_final = 100\n",
    "\n",
    "pol_range = {\"m\": 0, \"M\": 1, \"n\": NB_final}\n",
    "homophilic_tendency = {\"m\": 0, \"M\": 6, \"n\": NB_final}\n",
    "\n",
    "\n",
    "temp = PARAMS[\"beta_M\"]\n",
    "PARAMS[\"beta_M\"] = 0.2\n",
    "\n",
    "PARAMS[\"fixed_mean\"] = 0.5\n",
    "RM_1 = sweep_two_parameters(\n",
    "    model_module=SIRM,\n",
    "    param1_name=\"beta_params\",           # parameter 1 name\n",
    "    param1_range=pol_range,    # parameter 1 range\n",
    "    param2_name=\"homophilic_tendency\",      # parameter 2 name\n",
    "    param2_range=homophilic_tendency,         # parameter 2 range\n",
    "    custom_base_params=PARAMS,\n",
    "    simulated_days=1000,\n",
    "    population_size=5,\n",
    "    batch_size=1000\n",
    ")\n",
    "PARAMS[\"beta_M\"] = temp\n"
   ]
  },
  {
   "cell_type": "code",
   "execution_count": 8,
   "metadata": {},
   "outputs": [
    {
     "name": "stdout",
     "output_type": "stream",
     "text": [
      "{'x_values': Array([0.005     , 0.015     , 0.025     , 0.035     , 0.045     ,\n",
      "       0.055     , 0.06500001, 0.075     , 0.085     , 0.09500001,\n",
      "       0.105     , 0.115     , 0.125     , 0.135     , 0.14500001,\n",
      "       0.155     , 0.165     , 0.17500001, 0.185     , 0.19500001,\n",
      "       0.20500001, 0.215     , 0.22500001, 0.23500001, 0.245     ,\n",
      "       0.255     , 0.26500002, 0.275     , 0.285     , 0.29500002,\n",
      "       0.305     , 0.315     , 0.32500002, 0.335     , 0.345     ,\n",
      "       0.35500002, 0.365     , 0.375     , 0.38500002, 0.395     ,\n",
      "       0.405     , 0.41500002, 0.425     , 0.435     , 0.44500002,\n",
      "       0.455     , 0.465     , 0.47500002, 0.485     , 0.495     ,\n",
      "       0.505     , 0.515     , 0.52500004, 0.535     , 0.545     ,\n",
      "       0.555     , 0.565     , 0.57500005, 0.58500004, 0.59499997,\n",
      "       0.605     , 0.61500007, 0.625     , 0.635     , 0.64500004,\n",
      "       0.65500003, 0.665     , 0.675     , 0.685     , 0.69500005,\n",
      "       0.70500004, 0.715     , 0.725     , 0.7350001 , 0.745     ,\n",
      "       0.755     , 0.76500005, 0.77500004, 0.785     , 0.795     ,\n",
      "       0.805     , 0.81500006, 0.82500005, 0.835     , 0.845     ,\n",
      "       0.8550001 , 0.865     , 0.875     , 0.88500005, 0.89500004,\n",
      "       0.90500003, 0.915     , 0.925     , 0.93500006, 0.94500005,\n",
      "       0.955     , 0.96500003, 0.9750001 , 0.985     , 0.995     ],      dtype=float32), 'y_values': Array([0.03      , 0.09      , 0.14999999, 0.21      , 0.26999998,\n",
      "       0.32999998, 0.39      , 0.45      , 0.51      , 0.56999993,\n",
      "       0.62999994, 0.68999994, 0.74999994, 0.80999994, 0.86999995,\n",
      "       0.92999995, 0.98999995, 1.05      , 1.1099999 , 1.17      ,\n",
      "       1.2299999 , 1.29      , 1.3499999 , 1.41      , 1.4699999 ,\n",
      "       1.53      , 1.5899999 , 1.65      , 1.7099999 , 1.77      ,\n",
      "       1.8299999 , 1.89      , 1.9499999 , 2.01      , 2.07      ,\n",
      "       2.1299999 , 2.1899998 , 2.25      , 2.31      , 2.37      ,\n",
      "       2.4299998 , 2.49      , 2.55      , 2.61      , 2.6699998 ,\n",
      "       2.73      , 2.79      , 2.85      , 2.9099998 , 2.9699998 ,\n",
      "       3.03      , 3.09      , 3.1499999 , 3.2099998 , 3.27      ,\n",
      "       3.33      , 3.3899999 , 3.4499998 , 3.51      , 3.57      ,\n",
      "       3.6299999 , 3.6899998 , 3.75      , 3.81      , 3.87      ,\n",
      "       3.9299998 , 3.9899998 , 4.0499997 , 4.11      , 4.17      ,\n",
      "       4.23      , 4.29      , 4.35      , 4.41      , 4.4700003 ,\n",
      "       4.5299997 , 4.59      , 4.65      , 4.71      , 4.77      ,\n",
      "       4.83      , 4.89      , 4.9500003 , 5.0099998 , 5.07      ,\n",
      "       5.1299996 , 5.19      , 5.25      , 5.31      , 5.37      ,\n",
      "       5.4300003 , 5.49      , 5.55      , 5.6099997 , 5.67      ,\n",
      "       5.73      , 5.79      , 5.85      , 5.91      , 5.97      ],      dtype=float32), 'vmin': 0, 'vmax': 1}\n"
     ]
    },
    {
     "data": {
      "image/png": "[encoded data removed]",
      "text/plain": [
       "<Figure size 177.165x177.165 with 1 Axes>"
      ]
     },
     "metadata": {},
     "output_type": "display_data"
    },
    {
     "data": {
      "image/png": "[encoded data removed]",
      "text/plain": [
       "<Figure size 177.165x177.165 with 1 Axes>"
      ]
     },
     "metadata": {},
     "output_type": "display_data"
    },
    {
     "data": {
      "image/png": "[encoded data removed]",
      "text/plain": [
       "<Figure size 177.165x177.165 with 1 Axes>"
      ]
     },
     "metadata": {},
     "output_type": "display_data"
    }
   ],
   "source": [
    "matrix_data, plot_params = analyze_matrix(RM_1, \"infections\")\n",
    "print(plot_params)\n",
    "# Create the plot (using unpacked parameters)\n",
    "fig_R_M_1 = plot_matrix(\n",
    "    data=matrix_data,\n",
    "    **plot_params,  # Unpack all the extracted parameters\n",
    "    cmap=cmaps[0],  # Using the first colormap\n",
    "    figsize = figsize,\n",
    "    contour_values = [0.25, 0.3, 0.35],\n",
    "    xticks = [0,0.5,1],\n",
    "    yticks = [0,3,6],\n",
    "    save_path = path_1_M\n",
    ")\n",
    "\n",
    "# Plot for fixed homophily values (horizontal slices)\n",
    "fig1 = plot_slices(\n",
    "    matrix_data=matrix_data,\n",
    "    plot_params=plot_params,\n",
    "    slice_values=[0, 3, 6],  # homophily values \n",
    "    slice_dimension=\"y\",\n",
    "    model_module=SIRM,        # For baseline calculation\n",
    "    model_params=PARAMS,      # For baseline calculation\n",
    "    colors=colors_Y,\n",
    "    output_path=\"figures/Fig_1/I(pol)_M.pdf\",\n",
    "    figsize = figsize,\n",
    ")\n",
    "\n",
    "\n",
    "# Plot for fixed polarization values (vertical slices)\n",
    "fig2 = plot_slices(\n",
    "    matrix_data=matrix_data,\n",
    "    plot_params=plot_params,\n",
    "    slice_values=[0.1, 0.5, 0.9],  # polarization values\n",
    "    slice_dimension=\"x\", \n",
    "    model_module=SIRM,\n",
    "    model_params=PARAMS,\n",
    "    colors=colors_X,\n",
    "    output_path=\"figures/Fig_1/I(hom)_M.pdf\",\n",
    "    figsize = figsize,\n",
    ")\n"
   ]
  },
  {
   "cell_type": "code",
   "execution_count": 73,
   "metadata": {},
   "outputs": [],
   "source": [
    "path_1_T = \"figures/Fig_1/I(pol,hom)_T.pdf\"\n",
    "\n",
    "\n",
    "PARAMS[\"fixed_mean\"] = 0.5\n",
    "RT_1 = sweep_two_parameters(\n",
    "    model_module=SIRT,\n",
    "    param1_name=\"beta_params\",           # parameter 1 name\n",
    "    param1_range=pol_range,    # parameter 1 range\n",
    "    param2_name=\"homophilic_tendency\",      # parameter 2 name\n",
    "    param2_range=homophilic_tendency,         # parameter 2 range\n",
    "    custom_base_params=PARAMS,\n",
    "    simulated_days=1000,\n",
    "    population_size=5,\n",
    "    batch_size=1000\n",
    ")\n"
   ]
  },
  {
   "cell_type": "code",
   "execution_count": 74,
   "metadata": {},
   "outputs": [
    {
     "data": {
      "image/png": "[encoded data removed]",
      "text/plain": [
       "<Figure size 177.165x177.165 with 1 Axes>"
      ]
     },
     "metadata": {},
     "output_type": "display_data"
    },
    {
     "data": {
      "image/png": "[encoded data removed]",
      "text/plain": [
       "<Figure size 177.165x177.165 with 1 Axes>"
      ]
     },
     "metadata": {},
     "output_type": "display_data"
    },
    {
     "data": {
      "image/png": "[encoded data removed]",
      "text/plain": [
       "<Figure size 177.165x177.165 with 1 Axes>"
      ]
     },
     "metadata": {},
     "output_type": "display_data"
    }
   ],
   "source": [
    "matrix_data_T1, plot_params_T1 = analyze_matrix(RT_1, \"infections\")\n",
    "\n",
    "# Create the plot (using unpacked parameters)\n",
    "fig_R_T_1 = plot_matrix(\n",
    "    data=matrix_data_T1,\n",
    "    **plot_params_T1,  # Unpack all the extracted parameters\n",
    "    cmap=cmaps[0],\n",
    "    figsize = figsize,\n",
    "    contour_values = [0.25, 0.5, 0.75],\n",
    "    xticks = [0,0.5,1],\n",
    "    yticks = [0,3,6],\n",
    "    save_path = path_1_T,\n",
    ")\n",
    "\n",
    "\n",
    "\n",
    "# Plot for fixed homophily values (horizontal slices)\n",
    "fig1 = plot_slices(\n",
    "    matrix_data=matrix_data_T1,\n",
    "    plot_params=plot_params_T1,\n",
    "    slice_values=[0, 3, 6],  # homophily values \n",
    "    slice_dimension=\"y\",\n",
    "    model_module=SIRT,        # For baseline calculation\n",
    "    model_params=PARAMS,      # For baseline calculation\n",
    "    colors=colors_Y,\n",
    "    output_path=\"figures/Fig_1/I(pol)_T.pdf\",\n",
    "    figsize = figsize,\n",
    ")\n",
    "\n",
    "# Plot for fixed polarization values (vertical slices)\n",
    "fig2 = plot_slices(\n",
    "    matrix_data=matrix_data_T1,\n",
    "    plot_params=plot_params_T1,\n",
    "    slice_values=[0.1,0.5, 0.9],  # polarization values\n",
    "    slice_dimension=\"x\", \n",
    "    model_module=SIRT,\n",
    "    model_params=PARAMS,\n",
    "    colors=colors_X,\n",
    "    output_path=\"figures/Fig_1/I(hom)_T.pdf\",\n",
    "    figsize = figsize,\n",
    ")"
   ]
  },
  {
   "cell_type": "code",
   "execution_count": 75,
   "metadata": {},
   "outputs": [],
   "source": [
    "path_1_V = \"figures/Fig_1/I(pol,hom)_V.pdf\"\n",
    "\n",
    "\n",
    "PARAMS[\"fixed_mean\"] = 0.5\n",
    "RV_1 = sweep_two_parameters(\n",
    "    model_module=SIRV,\n",
    "    param1_name=\"beta_params\",           # parameter 1 name\n",
    "    param1_range=pol_range,    # parameter 1 range\n",
    "    param2_name=\"homophilic_tendency\",      # parameter 2 name\n",
    "    param2_range=homophilic_tendency,         # parameter 2 range\n",
    "    custom_base_params=PARAMS,\n",
    "    simulated_days=1000,\n",
    "    population_size=5,\n",
    "    batch_size=1000\n",
    ")"
   ]
  },
  {
   "cell_type": "code",
   "execution_count": 76,
   "metadata": {},
   "outputs": [
    {
     "data": {
      "image/png": "[encoded data removed]",
      "text/plain": [
       "<Figure size 177.165x177.165 with 1 Axes>"
      ]
     },
     "metadata": {},
     "output_type": "display_data"
    },
    {
     "data": {
      "image/png": "[encoded data removed]",
      "text/plain": [
       "<Figure size 177.165x177.165 with 1 Axes>"
      ]
     },
     "metadata": {},
     "output_type": "display_data"
    },
    {
     "data": {
      "image/png": "[encoded data removed]",
      "text/plain": [
       "<Figure size 177.165x177.165 with 1 Axes>"
      ]
     },
     "metadata": {},
     "output_type": "display_data"
    }
   ],
   "source": [
    "matrix_data_V1, plot_params_V1 = analyze_matrix(RV_1, \"infections\")\n",
    "\n",
    "# Create the plot (using unpacked parameters)\n",
    "fig_R_V_1 = plot_matrix(\n",
    "    data=matrix_data_V1,\n",
    "    **plot_params_V1,  # Unpack all the extracted parameters\n",
    "    cmap=cmaps[0],\n",
    "    figsize = figsize,\n",
    "    contour_values = [0.25, 0.5, 0.75],\n",
    "    xticks = [0,0.5,1],\n",
    "    yticks = [0,3,6],\n",
    "    save_path = path_1_V\n",
    ")\n",
    "\n",
    "# Plot for fixed homophily values (horizontal slices)\n",
    "fig1 = plot_slices(\n",
    "    matrix_data=matrix_data_V1,\n",
    "    plot_params=plot_params_V1,\n",
    "    slice_values=[0, 3, 6],  # homophily values \n",
    "    slice_dimension=\"y\",\n",
    "    model_module=SIRV,        # For baseline calculation\n",
    "    model_params=PARAMS,      # For baseline calculation\n",
    "    colors=colors_Y,\n",
    "    output_path=\"figures/Fig_1/I(pol)_V.pdf\",\n",
    "    figsize = figsize,\n",
    ")\n",
    "\n",
    "\n",
    "# Plot for fixed polarization values (vertical slices)\n",
    "fig2 = plot_slices(\n",
    "    matrix_data=matrix_data_V1,\n",
    "    plot_params=plot_params_V1,\n",
    "    slice_values=[0.1, 0.5, 0.9],  # polarization values\n",
    "    slice_dimension=\"x\", \n",
    "    model_module=SIRV,\n",
    "    model_params=PARAMS,\n",
    "    colors=colors_X,\n",
    "    output_path=\"figures/Fig_1/I(hom)_V.pdf\",\n",
    "    figsize = figsize,\n",
    ")"
   ]
  },
  {
   "cell_type": "code",
   "execution_count": null,
   "metadata": {},
   "outputs": [],
   "source": []
  },
  {
   "cell_type": "code",
   "execution_count": null,
   "metadata": {},
   "outputs": [],
   "source": []
  }
 ],
 "metadata": {
  "kernelspec": {
   "display_name": "Optimal",
   "language": "python",
   "name": "python3"
  },
  "language_info": {
   "codemirror_mode": {
    "name": "ipython",
    "version": 3
   },
   "file_extension": ".py",
   "mimetype": "text/x-python",
   "name": "python",
   "nbconvert_exporter": "python",
   "pygments_lexer": "ipython3",
   "version": "3.11.4"
  }
 },
 "nbformat": 4,
 "nbformat_minor": 2
}
