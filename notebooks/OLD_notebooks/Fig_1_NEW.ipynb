{
 "cells": [
  {
   "cell_type": "code",
   "execution_count": 8,
   "metadata": {},
   "outputs": [
    {
     "name": "stdout",
     "output_type": "stream",
     "text": [
      "The autoreload extension is already loaded. To reload it, use:\n",
      "  %reload_ext autoreload\n"
     ]
    }
   ],
   "source": [
    "%load_ext autoreload\n",
    "%autoreload 2\n",
    "\n",
    "import matplotlib.pyplot as plt\n",
    "\n",
    "\n",
    "from src.models import SIRM, SIRT, SIRV\n",
    "from src.utils.batch_sweep import sweep_one_parameter, sweep_two_parameters\n",
    "from src.utils.visualization.heatmaps import plot_compartment_heatmap2\n",
    "from src.utils.visualization.core import create_standalone_colorbar, Lx, Ly\n",
    "from src.utils.visualization.common import plot_polarization_vs_percent_change_publication"
   ]
  },
  {
   "cell_type": "code",
   "execution_count": 2,
   "metadata": {},
   "outputs": [],
   "source": [
    "NB = 100\n",
    "NP = 100\n",
    "\n",
    "\n",
    "pol_range = {\"m\": 0, \"M\": 1, \"n\": NP}\n",
    "\n",
    "mask_max_range = {\"m\": 0, \"M\": 1, \"n\": NB}\n",
    "testing_max_range = {\"m\": 0, \"M\": 2/6, \"n\": NB}  # Max testing rate from 0 to 0.1\n",
    "\n",
    "\n",
    "custom_base_params = {\n",
    "        'beta_M': 0.2,\n",
    "        'recovery_rate': 0.1,\n",
    "        'dT': 1,\n",
    "        'SPB_exponent': 1,\n",
    "        # parameters for SIRM\n",
    "        'mu_min': 0,\n",
    "        # parameters for SIRT\n",
    "        'testing_rate_min': 0,        # Set minimum testing rate to 0\n",
    "        # parameters for SIRV\n",
    "        'vaccination_rate_min': 0,        # Set minimum VR to 0\n",
    "    }\n"
   ]
  },
  {
   "cell_type": "code",
   "execution_count": null,
   "metadata": {},
   "outputs": [],
   "source": []
  },
  {
   "cell_type": "code",
   "execution_count": 3,
   "metadata": {},
   "outputs": [
    {
     "name": "stderr",
     "output_type": "stream",
     "text": [
      "No GPU/TPU found, falling back to CPU. (Set TF_CPP_MIN_LOG_LEVEL=0 and rerun for more info.)\n"
     ]
    }
   ],
   "source": [
    "results_MASKS = sweep_two_parameters(\n",
    "    model_module=SIRM,\n",
    "    param1_name=\"mu_max\",           # parameter 1 name\n",
    "    param1_range=mask_max_range,    # parameter 1 range\n",
    "    param2_name=\"beta_params\",      # parameter 2 name\n",
    "    param2_range=pol_range,         # parameter 2 range\n",
    "    custom_base_params=custom_base_params,\n",
    "    simulated_days=1000,\n",
    "    population_size=100,\n",
    "    batch_size=1000\n",
    ")"
   ]
  },
  {
   "cell_type": "code",
   "execution_count": 4,
   "metadata": {},
   "outputs": [],
   "source": [
    "# Run parameter sweep for SIRT model\n",
    "results_TESTS = sweep_two_parameters(\n",
    "    model_module=SIRT,\n",
    "    param1_name=\"testing_rate_max\",     # Use testing_rate_max as the parameter to sweep\n",
    "    param1_range=testing_max_range,     \n",
    "    param2_name=\"beta_params\",          \n",
    "    param2_range=pol_range,            \n",
    "    custom_base_params=custom_base_params,\n",
    "    simulated_days=1000,\n",
    "    population_size=100,\n",
    "    batch_size=1000\n",
    ")"
   ]
  },
  {
   "cell_type": "code",
   "execution_count": 5,
   "metadata": {},
   "outputs": [],
   "source": [
    "MM = 0.015\n",
    "vaccination_max_range = {\"m\": 0, \"M\": MM, \"n\": NB}  # Max vaccination rate from 0 to 1/3\n",
    "\n",
    "results_VACCINATIONS = sweep_two_parameters(\n",
    "    model_module=SIRV,\n",
    "    param1_name=\"vaccination_rate_max\",     # Use vaccination_rate_max as the parameter to sweep\n",
    "    param1_range=vaccination_max_range,     \n",
    "    param2_name=\"beta_params\",          \n",
    "    param2_range=pol_range,            \n",
    "    custom_base_params=custom_base_params,\n",
    "    simulated_days=1000,\n",
    "    population_size=100,\n",
    "    batch_size=1000\n",
    ")"
   ]
  },
  {
   "cell_type": "code",
   "execution_count": 6,
   "metadata": {},
   "outputs": [
    {
     "ename": "NameError",
     "evalue": "name 'print_sweep_results' is not defined",
     "output_type": "error",
     "traceback": [
      "\u001b[1;31m---------------------------------------------------------------------------\u001b[0m",
      "\u001b[1;31mNameError\u001b[0m                                 Traceback (most recent call last)",
      "Cell \u001b[1;32mIn[6], line 1\u001b[0m\n\u001b[1;32m----> 1\u001b[0m print_sweep_results(results_MASKS)\n\u001b[0;32m      2\u001b[0m print_sweep_results(results_TESTS)\n\u001b[0;32m      3\u001b[0m print_sweep_results(results_VACCINATIONS)\n",
      "\u001b[1;31mNameError\u001b[0m: name 'print_sweep_results' is not defined"
     ]
    }
   ],
   "source": [
    "print_sweep_results(results_MASKS)\n",
    "print_sweep_results(results_TESTS)\n",
    "print_sweep_results(results_VACCINATIONS)"
   ]
  },
  {
   "cell_type": "code",
   "execution_count": null,
   "metadata": {},
   "outputs": [],
   "source": [
    "hot21 = discretize_cmaps(\"hot_r\",21)\n",
    "vir21 = discretize_cmaps(\"viridis_r\",21)\n",
    "fig2 = plot_multiple_metrics(results_MASKS, metrics=[\"infections\", \"r0\"],\n",
    "                             cmaps = [hot21,  vir21])\n",
    "fig2 = plot_multiple_metrics(results_TESTS, metrics=[\"infections\",  \"r0\"],\n",
    "                             cmaps = [hot21,  vir21])\n",
    "fig2 = plot_multiple_metrics(results_VACCINATIONS, metrics=[\"infections\",  \"V\", \"r0\"],\n",
    "                             cmaps = [hot21, hot21, vir21])\n"
   ]
  },
  {
   "cell_type": "code",
   "execution_count": null,
   "metadata": {},
   "outputs": [
    {
     "data": {
      "image/png": "[encoded data removed]",
      "text/plain": [
       "<Figure size 183.2x172.8 with 1 Axes>"
      ]
     },
     "metadata": {},
     "output_type": "display_data"
    },
    {
     "data": {
      "image/png": "[encoded data removed]",
      "text/plain": [
       "<Figure size 183.2x172.8 with 1 Axes>"
      ]
     },
     "metadata": {},
     "output_type": "display_data"
    },
    {
     "data": {
      "image/png": "[encoded data removed]",
      "text/plain": [
       "<Figure size 183.2x172.8 with 1 Axes>"
      ]
     },
     "metadata": {},
     "output_type": "display_data"
    }
   ],
   "source": [
    "metrics = [\"infections\"]\n",
    "cmaps = [discretize_cmaps(\"hot_r\",21)]\n",
    "contour_values = [[0.25, 0.5, 0.75]]\n",
    "contour_colors = [['#000','#000','#000']]\n",
    "final_params={\n",
    "        'Lx': Lx/1.25,  # Figure width in inches\n",
    "        'Ly': Ly/1.25,  # Figure height in inches\n",
    "        'xticks': [0, 0.5, 1.0],\n",
    "        'yticks': [0, 0.5,1],\n",
    "        'xlim': [0, 1],\n",
    "        'ylim': [0, 1]\n",
    "    }\n",
    "\n",
    "fig_R_M = plot_multiple_metrics(\n",
    "    results_MASKS, \n",
    "    metrics=metrics,\n",
    "    cmaps=cmaps, \n",
    "    contour_values=contour_values,\n",
    "    contour_colors=contour_colors,\n",
    "    final_params=final_params,\n",
    "    save_path=\"./figures/FIG_1/I(pol,mask).pdf\"\n",
    ")\n",
    "\n",
    "final_params[\"ylim\"] = [0, 1/3]\n",
    "final_params[\"yticks\"] = [0, 1/6, 1/3]\n",
    "\n",
    "fig_3 = plot_multiple_metrics(\n",
    "    results_TESTS,\n",
    "    metrics=metrics,\n",
    "    cmaps=cmaps, \n",
    "    contour_values=contour_values,\n",
    "    contour_colors=contour_colors,\n",
    "    final_params=final_params,\n",
    "    save_path=\"./figures/FIG_1/I(pol,test).pdf\"\n",
    ")\n",
    "final_params[\"ylim\"] = [0, MM]\n",
    "final_params[\"yticks\"] = [0, MM/2, MM]\n",
    "\n",
    "fig_4 = plot_multiple_metrics(\n",
    "    results_VACCINATIONS,\n",
    "    metrics=metrics,\n",
    "    cmaps=cmaps, \n",
    "    contour_values=contour_values,\n",
    "    contour_colors=contour_colors,\n",
    "    final_params=final_params,\n",
    "    save_path=\"./figures/FIG_1/I(pol,vacc).pdf\"\n",
    ")"
   ]
  },
  {
   "cell_type": "code",
   "execution_count": null,
   "metadata": {},
   "outputs": [
    {
     "data": {
      "image/png": "[encoded data removed]",
      "text/plain": [
       "<Figure size 229x172.8 with 1 Axes>"
      ]
     },
     "metadata": {},
     "output_type": "display_data"
    },
    {
     "data": {
      "image/png": "[encoded data removed]",
      "text/plain": [
       "<Figure size 229x172.8 with 1 Axes>"
      ]
     },
     "metadata": {},
     "output_type": "display_data"
    },
    {
     "data": {
      "image/png": "[encoded data removed]",
      "text/plain": [
       "<Figure size 229x172.8 with 1 Axes>"
      ]
     },
     "metadata": {},
     "output_type": "display_data"
    }
   ],
   "source": [
    "metrics = [\"r0\"]\n",
    "cmaps = [discretize_cmaps(\"viridis_r\",21)]\n",
    "contour_values = [[1, 1.5]]\n",
    "contour_colors = [['#000','#000','#000']]\n",
    "final_params={\n",
    "        'Lx': Lx,  # Figure width in inches\n",
    "        'Ly': Ly/1.25,  # Figure height in inches\n",
    "        'xticks': [0, 0.5, 1.0],\n",
    "        'yticks': [0, 0.5,1],\n",
    "        'xlim': [0, 1],\n",
    "        'ylim': [0, 1]\n",
    "    }\n",
    "\n",
    "final_params['vmin'] = 1\n",
    "final_params['vmax'] = 2\n",
    "fig_R_M = plot_multiple_metrics(\n",
    "    results_MASKS, \n",
    "    metrics=metrics,\n",
    "    cmaps=cmaps, \n",
    "    contour_values=contour_values,\n",
    "    contour_colors=contour_colors,\n",
    "    final_params=final_params,\n",
    "    save_path=\"./figures/FIG_1/R0(pol,mask).pdf\"\n",
    ")\n",
    "\n",
    "final_params[\"ylim\"] = [0, 1/3]\n",
    "final_params[\"yticks\"] = [0, 1/6, 1/3]\n",
    "\n",
    "fig_3 = plot_multiple_metrics(\n",
    "    results_TESTS,\n",
    "    metrics=metrics,\n",
    "    cmaps=cmaps, \n",
    "    contour_values=contour_values,\n",
    "    contour_colors=contour_colors,\n",
    "    final_params=final_params,\n",
    "    save_path=\"./figures/FIG_1/R0(pol,test).pdf\"\n",
    ")\n",
    "final_params[\"ylim\"] = [0, MM]\n",
    "final_params[\"yticks\"] = [0, MM/2, MM]\n",
    "\n",
    "fig_4 = plot_multiple_metrics(\n",
    "    results_VACCINATIONS,\n",
    "    metrics=metrics,\n",
    "    cmaps=cmaps, \n",
    "    contour_values=contour_values,\n",
    "    contour_colors=contour_colors,\n",
    "    final_params=final_params,\n",
    "    save_path=\"./figures/FIG_1/R0(pol,vacc).pdf\"\n",
    ")"
   ]
  },
  {
   "cell_type": "code",
   "execution_count": null,
   "metadata": {},
   "outputs": [],
   "source": [
    "from src.utils.batch_sweep import sweep_one_parameter\n",
    "from src.utils.visualization.heatmaps import plot_compartment_heatmap2"
   ]
  },
  {
   "cell_type": "code",
   "execution_count": null,
   "metadata": {},
   "outputs": [
    {
     "name": "stderr",
     "output_type": "stream",
     "text": [
      "No GPU/TPU found, falling back to CPU. (Set TF_CPP_MIN_LOG_LEVEL=0 and rerun for more info.)\n"
     ]
    }
   ],
   "source": [
    "custom_base_params = {\n",
    "        'beta_M': 0.2,\n",
    "        'recovery_rate': 0.1,\n",
    "        'dT': 1,\n",
    "        'SPB_exponent': 1,\n",
    "        # parameters for SIRM\n",
    "        'mu_min': 0,\n",
    "        'mu_max': 0.5,\n",
    "        # parameters for SIRT\n",
    "        'testing_rate_min': 0,        # Set minimum testing rate to 0\n",
    "        'testing_rate_max': 1/6,      # Set maximum testing rate to 2/7\n",
    "        # parameters for SIRV\n",
    "        'vaccination_rate_min': 0,        # Set minimum VR to 0\n",
    "        'vaccination_rate_max': 0.0075    # Set maximum VR to 0.015\n",
    "    }\n",
    "\n",
    "NP = 100\n",
    "pol_range = {\"m\": 0, \"M\": 1, \"n\": NP}\n",
    "\n",
    "results_M = sweep_one_parameter(\n",
    "    model_module=SIRM,\n",
    "    param_name=\"beta_params\",  # This is how polarization is referenced in the code\n",
    "    param_range=pol_range,\n",
    "    simulated_days=1000,  # Simulate for 1000 days to reach steady state\n",
    "    custom_base_params=custom_base_params,\n",
    "    population_size=100  # 100 compartments as you requested\n",
    ")\n",
    "\n",
    "results_T = sweep_one_parameter(\n",
    "    model_module=SIRT,\n",
    "    param_name=\"beta_params\",  # This is how polarization is referenced in the code\n",
    "    param_range=pol_range,\n",
    "    simulated_days=1000,  # Simulate for 1000 days to reach steady state\n",
    "    custom_base_params=custom_base_params,\n",
    "    population_size=100  # 100 compartments as you requested\n",
    ")\n",
    "\n",
    "results_V = sweep_one_parameter(\n",
    "    model_module=SIRV,\n",
    "    param_name=\"beta_params\",  # This is how polarization is referenced in the code\n",
    "    param_range=pol_range,\n",
    "    simulated_days=1000,  # Simulate for 1000 days to reach steady state\n",
    "    custom_base_params=custom_base_params,\n",
    "    population_size=100  # 100 compartments as you requested\n",
    ")\n"
   ]
  },
  {
   "cell_type": "code",
   "execution_count": null,
   "metadata": {},
   "outputs": [
    {
     "data": {
      "image/png": "[encoded data removed]",
      "text/plain": [
       "<Figure size 114.5x172.8 with 1 Axes>"
      ]
     },
     "metadata": {},
     "output_type": "display_data"
    },
    {
     "data": {
      "image/png": "[encoded data removed]",
      "text/plain": [
       "<Figure size 114.5x172.8 with 1 Axes>"
      ]
     },
     "metadata": {},
     "output_type": "display_data"
    },
    {
     "data": {
      "image/png": "[encoded data removed]",
      "text/plain": [
       "<Figure size 114.5x172.8 with 1 Axes>"
      ]
     },
     "metadata": {},
     "output_type": "display_data"
    }
   ],
   "source": [
    "# Define publication parameters\n",
    "final_params = {\n",
    "    'Lx': Lx/2,  # Standard figure width\n",
    "    'Ly': Ly/1.25,  # Standard figure height\n",
    "    'xticks': [0, 1.0],  # Custom x-tick positions\n",
    "    'yticks': [0,  50,  99],  # Custom y-tick positions\n",
    "    'xlim': [0, 1],  # x-axis limits\n",
    "    'ylim': [0, 99],  # y-axis limits\n",
    "    'vmin': 0,  # Minimum color value\n",
    "    'vmax': 1  # Maximum color value (adjust based on expected infection levels)\n",
    "}\n",
    "\n",
    "contour_values = [0.2, 0.3, 0.4, 0.5, 0.6]\n",
    "contour_colors = ['#000','#000','#000']\n",
    "# Create publication-ready heatmap\n",
    "fig = plot_compartment_heatmap2(\n",
    "    \n",
    "    results=results_M,\n",
    "    compartment=\"R\",\n",
    "    cmap=\"plasma_r\",\n",
    "    discretize=True,  # Use discrete color levels\n",
    "    n_colors=21,      # Number of discrete colors\n",
    "    final_params=final_params,\n",
    "    contour_values = contour_values,\n",
    "    contour_colors = contour_colors,\n",
    "    save_path=\"figures/Fig_1/I_PC_M.png\"  # Optional: save the figure\n",
    ")\n",
    "\n",
    "# Create publication-ready heatmap\n",
    "fig = plot_compartment_heatmap2(\n",
    "    \n",
    "    results=results_T,\n",
    "    compartment=\"R\",\n",
    "    cmap=\"plasma_r\",\n",
    "    discretize=True,  # Use discrete color levels\n",
    "    n_colors=21,      # Number of discrete colors\n",
    "    final_params=final_params,\n",
    "    contour_values = contour_values,\n",
    "    contour_colors = contour_colors,\n",
    "    save_path=\"figures/Fig_1/I_PC_T.png\"  # Optional: save the figure\n",
    ")\n",
    "\n",
    "# Create publication-ready heatmap\n",
    "fig = plot_compartment_heatmap2(\n",
    "    \n",
    "    results=results_V,\n",
    "    compartment=\"R\",\n",
    "    cmap=\"plasma_r\",\n",
    "    discretize=True,  # Use discrete color levels\n",
    "    n_colors=21,      # Number of discrete colors\n",
    "    final_params=final_params,\n",
    "    contour_values = contour_values,\n",
    "    contour_colors = contour_colors,\n",
    "    save_path=\"figures/Fig_1/I_PC_V.png\"  # Optional: save the figure\n",
    ")\n",
    "\n",
    "plt.show()"
   ]
  },
  {
   "cell_type": "code",
   "execution_count": null,
   "metadata": {},
   "outputs": [
    {
     "data": {
      "image/png": "[encoded data removed]",
      "text/plain": [
       "<Figure size 114.5x172.8 with 1 Axes>"
      ]
     },
     "metadata": {},
     "output_type": "display_data"
    }
   ],
   "source": [
    "# First, import the new model\n",
    "from src.models import SIRM_isolated\n",
    "\n",
    "# Then use the same parameters as before\n",
    "custom_base_params = {\n",
    "    'beta_M': 0.2,\n",
    "    'recovery_rate': 0.1,\n",
    "    'dT': 1,\n",
    "    'SPB_exponent': 1,\n",
    "    # parameters for SIRM/SIRM_isolated\n",
    "    'mu_min': 0,\n",
    "    'mu_max': 0.5,\n",
    "    # parameters for SIRT\n",
    "    'testing_rate_min': 0,        # Set minimum testing rate to 0\n",
    "    'testing_rate_max': 1/6,      # Set maximum testing rate to 2/7\n",
    "    # parameters for SIRV\n",
    "    'vaccination_rate_min': 0,        # Set minimum VR to 0\n",
    "    'vaccination_rate_max': 0.0075    # Set maximum VR to 0.015\n",
    "}\n",
    "\n",
    "NP = 100\n",
    "pol_range = {\"m\": 0, \"M\": 1, \"n\": NP}\n",
    "\n",
    "# Run the sweep with SIRM_isolated instead of SIRM\n",
    "results_M_isolated = sweep_one_parameter(\n",
    "    model_module=SIRM_isolated,\n",
    "    param_name=\"beta_params\",  # Still using polarization the same way\n",
    "    param_range=pol_range,\n",
    "    simulated_days=1000,  # Simulate for 1000 days to reach steady state\n",
    "    custom_base_params=custom_base_params,\n",
    "    population_size=100  # 100 compartments as requested\n",
    ")\n",
    "\n",
    "# Generate the visualization using the same approach\n",
    "# Define publication parameters\n",
    "final_params = {\n",
    "    'Lx': Lx/2,  # Standard figure width\n",
    "    'Ly': Ly/1.25,  # Standard figure height\n",
    "    'xticks': [0, 1.0],  # Custom x-tick positions\n",
    "    'yticks': [0,  50,  99],  # Custom y-tick positions\n",
    "    'xlim': [0, 1],  # x-axis limits\n",
    "    'ylim': [0, 99],  # y-axis limits\n",
    "    'vmin': 0,  # Minimum color value\n",
    "    'vmax': 1  # Maximum color value\n",
    "}\n",
    "\n",
    "contour_values = [0.25, 0.5, 0.75]\n",
    "contour_colors = ['#000','#000','#000']\n",
    "\n",
    "# Create publication-ready heatmap for isolated model\n",
    "fig_isolated = plot_compartment_heatmap2(\n",
    "    results=results_M_isolated,\n",
    "    compartment=\"R\",\n",
    "    cmap=\"plasma_r\",\n",
    "    discretize=True,  # Use discrete color levels\n",
    "    n_colors=21,      # Number of discrete colors\n",
    "    final_params=final_params,\n",
    "    contour_values=contour_values,\n",
    "    contour_colors=contour_colors,\n",
    "    save_path=\"figures/Fig_1/I_PC_M_isolated.png\"  # Save with a different name\n",
    ")"
   ]
  },
  {
   "cell_type": "code",
   "execution_count": 9,
   "metadata": {},
   "outputs": [
    {
     "data": {
      "image/png": "[encoded data removed]",
      "text/plain": [
       "<Figure size 27x216 with 1 Axes>"
      ]
     },
     "metadata": {},
     "output_type": "display_data"
    },
    {
     "data": {
      "image/png": "[encoded data removed]",
      "text/plain": [
       "<Figure size 27x216 with 1 Axes>"
      ]
     },
     "metadata": {},
     "output_type": "display_data"
    },
    {
     "data": {
      "image/png": "[encoded data removed]",
      "text/plain": [
       "<Figure size 27x216 with 1 Axes>"
      ]
     },
     "metadata": {},
     "output_type": "display_data"
    }
   ],
   "source": [
    "cbar_fig = create_standalone_colorbar(\n",
    "    cmap_name='plasma_r',\n",
    "    vmin=0,\n",
    "    vmax=1,\n",
    "    height=Ly,\n",
    "    width=Ly/8,\n",
    "    ticks=[0, 0.5, 1],\n",
    "    ticklabels=[],\n",
    "    save_path='figures/Fig_1/plasma_r_colorbar.pdf'\n",
    ")\n",
    "\n",
    "cbar_fig = create_standalone_colorbar(\n",
    "    cmap_name='hot_r',\n",
    "    vmin=0,\n",
    "    vmax=1,\n",
    "    height=Ly,\n",
    "    width=Ly/8,\n",
    "    ticks=[0, 0.5, 1],\n",
    "    ticklabels=[],\n",
    "    save_path='figures/Fig_1/hot_r_colorbar.pdf'\n",
    ")\n",
    "\n",
    "cbar_fig = create_standalone_colorbar(\n",
    "    cmap_name='viridis_r',\n",
    "    vmin=0,\n",
    "    vmax=1,\n",
    "    height=Ly,\n",
    "    width=Ly/8,\n",
    "    ticks=[0, 0.5, 1],\n",
    "    ticklabels=[],\n",
    "    save_path='figures/Fig_1/viridis_r_colorbar.pdf'\n",
    ")\n"
   ]
  },
  {
   "cell_type": "code",
   "execution_count": null,
   "metadata": {},
   "outputs": [],
   "source": []
  }
 ],
 "metadata": {
  "kernelspec": {
   "display_name": "Optimal",
   "language": "python",
   "name": "python3"
  },
  "language_info": {
   "codemirror_mode": {
    "name": "ipython",
    "version": 3
   },
   "file_extension": ".py",
   "mimetype": "text/x-python",
   "name": "python",
   "nbconvert_exporter": "python",
   "pygments_lexer": "ipython3",
   "version": "3.11.4"
  }
 },
 "nbformat": 4,
 "nbformat_minor": 2
}
