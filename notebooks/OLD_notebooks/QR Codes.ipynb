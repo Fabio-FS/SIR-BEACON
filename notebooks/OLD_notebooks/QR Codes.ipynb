{
 "cells": [
  {
   "cell_type": "code",
   "execution_count": 1,
   "metadata": {},
   "outputs": [
    {
     "name": "stdout",
     "output_type": "stream",
     "text": [
      "QR code has been created as 'physics_paper_qrcode.png'\n"
     ]
    }
   ],
   "source": [
    "import qrcode\n",
    "\n",
    "# Link to encode in the QR code\n",
    "url = \"https://iopscience.iop.org/article/10.1088/1361-6633/ad90ef/meta\"\n",
    "\n",
    "# Create QR code instance\n",
    "qr = qrcode.QRCode(\n",
    "    version=1,\n",
    "    error_correction=qrcode.constants.ERROR_CORRECT_L,\n",
    "    box_size=10,\n",
    "    border=4,\n",
    ")\n",
    "\n",
    "# Add data to the QR code\n",
    "qr.add_data(url)\n",
    "qr.make(fit=True)\n",
    "\n",
    "# Create an image from the QR code\n",
    "img = qr.make_image(fill_color=\"black\", back_color=\"white\")\n",
    "\n",
    "# Save the image\n",
    "img.save(\"physics_paper_qrcode.png\")\n",
    "\n",
    "print(\"QR code has been created as 'physics_paper_qrcode.png'\")"
   ]
  },
  {
   "cell_type": "code",
   "execution_count": null,
   "metadata": {},
   "outputs": [],
   "source": [
    "https://github.com/Fabio-FS/SIR-BEACON"
   ]
  },
  {
   "cell_type": "code",
   "execution_count": 3,
   "metadata": {},
   "outputs": [],
   "source": [
    "# Link to encode in the QR code\n",
    "url = \"fabio.sartori@kit.edu\"\n",
    "\n",
    "# Create QR code instance\n",
    "qr = qrcode.QRCode(\n",
    "    version=1,\n",
    "    error_correction=qrcode.constants.ERROR_CORRECT_L,\n",
    "    box_size=10,\n",
    "    border=4,\n",
    ")\n",
    "\n",
    "# Add data to the QR code\n",
    "qr.add_data(url)\n",
    "qr.make(fit=True)\n",
    "\n",
    "# Create an image from the QR code\n",
    "img = qr.make_image(fill_color=\"black\", back_color=\"white\")\n",
    "\n",
    "# Save the image\n",
    "img.save(\"BEACON_REPO.png\")\n"
   ]
  },
  {
   "cell_type": "code",
   "execution_count": null,
   "metadata": {},
   "outputs": [],
   "source": []
  }
 ],
 "metadata": {
  "kernelspec": {
   "display_name": "qr_env",
   "language": "python",
   "name": "python3"
  },
  "language_info": {
   "codemirror_mode": {
    "name": "ipython",
    "version": 3
   },
   "file_extension": ".py",
   "mimetype": "text/x-python",
   "name": "python",
   "nbconvert_exporter": "python",
   "pygments_lexer": "ipython3",
   "version": "3.13.2"
  }
 },
 "nbformat": 4,
 "nbformat_minor": 2
}
