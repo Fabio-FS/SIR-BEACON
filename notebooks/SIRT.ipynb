{
 "cells": [
  {
   "cell_type": "code",
   "execution_count": 10,
   "metadata": {},
   "outputs": [
    {
     "name": "stdout",
     "output_type": "stream",
     "text": [
      "The autoreload extension is already loaded. To reload it, use:\n",
      "  %reload_ext autoreload\n"
     ]
    }
   ],
   "source": [
    "%load_ext autoreload\n",
    "%autoreload 2\n",
    "\n",
    "from src.models.SIRT import sweep_pol_SPB_SIRT, sweep_pol_mean_SIRT, sweep_hom_pol_SIRT\n",
    "from src.models.SIRT_D import sweep_pol_SPB_SIRTD\n",
    "from src.utils.distributions import pol_to_alpha, homogeneous_distribution\n",
    "from plot_functions import *\n",
    "import numpy as np\n",
    "\n",
    "\n",
    "import matplotlib.pyplot as plt\n",
    "import seaborn as sns\n",
    "import os\n",
    "\n",
    "path_Plot_with_labels = \"../figures/with_labels/\"\n",
    "path_Plot_without_labels = \"../figures/no_labels/\"\n",
    "\n",
    "if not os.path.exists(path_Plot_with_labels):\n",
    "    os.makedirs(path_Plot_with_labels)\n",
    "\n",
    "if not os.path.exists(path_Plot_without_labels):\n",
    "    os.makedirs(path_Plot_without_labels)\n",
    "def ALPHAS(Np):\n",
    "    return pol_to_alpha(np.linspace(1/Np/2, 1-1/Np/2, Np)/4)\n",
    "\n",
    "\n",
    "\n",
    "my_hot_r = discretize_cmaps('hot_r', 12)\n",
    "my_hot_r.set_bad('gray')\n",
    "\n",
    "my_vir_r = discretize_cmaps('viridis_r', 12)\n",
    "my_vir_r.set_bad('gray')"
   ]
  },
  {
   "cell_type": "code",
   "execution_count": 8,
   "metadata": {},
   "outputs": [],
   "source": [
    "CP1 = ['#fdbb84','#fc8d59','#ef6548','#d7301f','#990000']   # POL\n",
    "CP2 = ['#d9f0a3','#addd8e','#78c679','#31a354','#006837']      # what varies is: MEAN\n",
    "CP3 = ['#d0d1e6','#a6bddb','#74a9cf','#2b8cbe','#045a8d']      # HOM"
   ]
  },
  {
   "cell_type": "code",
   "execution_count": 9,
   "metadata": {},
   "outputs": [],
   "source": [
    "NP = 100\n",
    "NS = 100\n",
    "\n",
    "test_max_range={\"m\": 0, \"M\": 0.3, \"n\": NS}\n",
    "pol_range={\"m\": 0, \"M\": 1, \"n\": NP}\n",
    "\n",
    "results = sweep_pol_SPB_SIRT(\n",
    "    test_max_range=test_max_range,\n",
    "    pol_range=pol_range,\n",
    "    h=0,\n",
    "    dT=1,\n",
    "    T=1000,\n",
    "    batch_size=1000,\n",
    "    susceptibility_rate = 0.25,\n",
    "    N_COMPARTMENTS = 100\n",
    ")\n",
    "\n",
    "(S_final, I_final, R_final), R0, OH = results\n",
    "S = np.sum(S_final, axis=1)\n",
    "I = np.sum(I_final, axis=1)\n",
    "R = np.sum(R_final, axis=1)\n",
    "\n",
    "# Reshape to original shape 50 x 50\n",
    "S = S.reshape(NP, NS).transpose()\n",
    "I = I.reshape(NP, NS).transpose()\n",
    "R = R.reshape(NP, NS).transpose()\n",
    "R0 = R0.reshape(NP, NS).transpose()\n",
    "OH = OH.reshape(NP, NS).transpose()\n",
    "\n",
    "FIG_A_RI = R + I\n",
    "FIG_A_R0 = R0\n",
    "FIG_A_OH = OH\n",
    "\n",
    "\n",
    "FIG_A_R0_masked = np.copy(FIG_A_R0)\n",
    "FIG_A_R0_masked[FIG_A_R0_masked < 1] = np.nan  # Set all R0<1 points to nan"
   ]
  },
  {
   "cell_type": "code",
   "execution_count": 10,
   "metadata": {},
   "outputs": [
    {
     "data": {
      "image/png": "[encoded data removed]",
      "text/plain": [
       "<Figure size 457.201x167.323 with 4 Axes>"
      ]
     },
     "metadata": {},
     "output_type": "display_data"
    }
   ],
   "source": [
    "test_rates = homogeneous_distribution(test_max_range[\"n\"], test_max_range[\"m\"], test_max_range[\"M\"])\n",
    "pol = homogeneous_distribution(pol_range[\"n\"], pol_range[\"m\"], pol_range[\"M\"])\n",
    "\n",
    "fig, ax = plt.subplots(1,2, figsize=(2*Lx, Ly))\n",
    "\n",
    "cax = ax[0].imshow(FIG_A_RI, cmap=my_hot_r, aspect=\"auto\", origin=\"lower\", \n",
    "                   extent=[pol_range[\"m\"],pol_range[\"M\"],test_max_range[\"m\"],test_max_range[\"M\"]],\n",
    "                   vmin=0, vmax=1)\n",
    "cbar = fig.colorbar(cax, ax=ax[0])\n",
    "CS = ax[0].contour(pol, test_rates, FIG_A_RI, \n",
    "                   levels=[0.25, 0.5, 0.75], linewidths=1, \n",
    "                   colors=\"black\", linestyles=\"dashed\")\n",
    "\n",
    "cax = ax[1].imshow(FIG_A_R0, cmap=my_vir_r, aspect=\"auto\", origin=\"lower\", \n",
    "                   extent=[pol_range[\"m\"],pol_range[\"M\"],test_max_range[\"m\"],test_max_range[\"M\"]])\n",
    "cbar = fig.colorbar(cax, ax=ax[1])\n",
    "CS = ax[1].contour(pol, test_rates, FIG_A_R0_masked, \n",
    "                   levels=[1, 1.5, 2, 2.5], linewidths=1, \n",
    "                   colors=\"black\", linestyles=\"dashed\")\n",
    "\n",
    "\n",
    "\n",
    "fig.tight_layout()"
   ]
  },
  {
   "cell_type": "code",
   "execution_count": 11,
   "metadata": {},
   "outputs": [
    {
     "name": "stderr",
     "output_type": "stream",
     "text": [
      "No artists with labels found to put in legend.  Note that artists whose label start with an underscore are ignored when legend() is called with no argument.\n"
     ]
    },
    {
     "data": {
      "image/png": "[encoded data removed]",
      "text/plain": [
       "<Figure size 228.6x167.323 with 1 Axes>"
      ]
     },
     "metadata": {},
     "output_type": "display_data"
    }
   ],
   "source": [
    "name = \"I(pol,test)_SIRT.pdf\"\n",
    "fig, ax = plt.subplots(figsize=(Lx, Ly))\n",
    "cax = ax.imshow(FIG_A_RI, cmap =  my_hot_r, aspect = \"auto\", origin = \"lower\", extent = [pol[0],pol[-1],test_rates[0],test_rates[-1]], vmin = 0, vmax = 1)\n",
    "cbar = fig.colorbar(cax, ax = ax)\n",
    "CS = ax.contour(pol, test_rates, FIG_A_RI, levels = [0.25, 0.5, 0.75], linewidths = 1, colors = \"black\", linestyles = \"dashed\")\n",
    "#CS = ax.contour(pol, test_rates, FIG_A_R0, levels = [1], linewidths = 2, colors = \"gray\")\n",
    "ax.set_xticks([0,0.5,1])\n",
    "ax.set_yticks([0,0.15,0.3])\n",
    "ax.set_xlim([0,1])\n",
    "ax.set_ylim([0,0.3])\n",
    "fig.patch.set_visible(False)\n",
    "double_savefig(fig, ax, name, path_Plot_with_labels, path_Plot_without_labels, cbar=cbar)"
   ]
  },
  {
   "cell_type": "code",
   "execution_count": 12,
   "metadata": {},
   "outputs": [
    {
     "name": "stderr",
     "output_type": "stream",
     "text": [
      "No artists with labels found to put in legend.  Note that artists whose label start with an underscore are ignored when legend() is called with no argument.\n"
     ]
    },
    {
     "data": {
      "image/png": "[encoded data removed]",
      "text/plain": [
       "<Figure size 103.909x167.323 with 1 Axes>"
      ]
     },
     "metadata": {},
     "output_type": "display_data"
    }
   ],
   "source": [
    "name = \"R0(pol,test)_SIRT.pdf\"\n",
    "fig, ax = plt.subplots(figsize=(Lx/2.2, Ly))\n",
    "cax = ax.imshow(FIG_A_R0, cmap =  my_vir_r, aspect = \"auto\", origin = \"lower\", extent = [pol[0],pol[-1],test_rates[0],test_rates[-1]], vmin = 1, vmax = 3)\n",
    "cbar = fig.colorbar(cax, ax = ax)\n",
    "CS = ax.contour(pol, test_rates, FIG_A_RI, levels = [0.25, 0.5, 0.75], linewidths = 0.5, colors = \"black\", linestyles = \"dashed\")\n",
    "ax.set_xticks([0,0.5,1])\n",
    "ax.set_yticks([0,0.15,0.3])\n",
    "ax.set_xlim([0,1])\n",
    "ax.set_ylim([0,0.3])\n",
    "fig.patch.set_visible(False)\n",
    "double_savefig(fig, ax, name, path_Plot_with_labels, path_Plot_without_labels, cbar=cbar)"
   ]
  },
  {
   "cell_type": "code",
   "execution_count": 13,
   "metadata": {},
   "outputs": [],
   "source": [
    "NP = 100\n",
    "NS = 1\n",
    "N_COMPARTMENTS = 100\n",
    "\n",
    "\n",
    "test_max_range={\"m\": 0.3, \"M\": 0.3, \"n\": NS}\n",
    "pol_range={\"m\": 0, \"M\": 1, \"n\": NP}\n",
    "\n",
    "results = sweep_pol_SPB_SIRT(\n",
    "    test_max_range=test_max_range,\n",
    "    pol_range=pol_range,\n",
    "    h=0,\n",
    "    dT=1,\n",
    "    T=1000,\n",
    "    batch_size=1000,\n",
    "    susceptibility_rate = 0.25,\n",
    "    N_COMPARTMENTS = N_COMPARTMENTS\n",
    ")\n",
    "\n",
    "(S_final, I_final, R_final), _, _ = results\n",
    "\n",
    "S = S_final.reshape(NP, N_COMPARTMENTS).transpose()\n",
    "I = I_final.reshape(NP, N_COMPARTMENTS).transpose()\n",
    "R = R_final.reshape(NP, N_COMPARTMENTS).transpose()\n",
    "\n",
    "Sf = np.zeros((N_COMPARTMENTS, NP))\n",
    "If = np.zeros((N_COMPARTMENTS, NP))\n",
    "Rf = np.zeros((N_COMPARTMENTS, NP))\n",
    "for i in range(NP):\n",
    "\n",
    "    N_i = S_final[i,:] + I_final[i,:] + R_final[i,:]\n",
    "    Sf[:,i] = S_final[i,:]/N_i\n",
    "    If[:,i] = I_final[i,:]/N_i\n",
    "    Rf[:,i] = R_final[i,:]/N_i\n",
    "\n",
    "RI = Rf + If\n",
    "name = \"RI_fraction_SIRT.pdf\"\n",
    "fig, ax = plt.subplots(figsize=(Lx/2.2, Ly))\n",
    "cax = ax.imshow(np.flipud(RI), cmap = my_hot_r, aspect = \"auto\", origin = \"lower\", extent = [0,1,0,1], vmin = 0, vmax = 1, interpolation = \"none\")\n",
    "cbar = fig.colorbar(cax, ax = ax)\n",
    "ax.set_yticks([0,0.5,1])\n",
    "fig.patch.set_visible(False)\n",
    "double_savefig(fig, ax, name, path_Plot_with_labels, path_Plot_without_labels, cbar=cbar)\n"
   ]
  },
  {
   "cell_type": "code",
   "execution_count": 14,
   "metadata": {},
   "outputs": [
    {
     "name": "stderr",
     "output_type": "stream",
     "text": [
      "No artists with labels found to put in legend.  Note that artists whose label start with an underscore are ignored when legend() is called with no argument.\n"
     ]
    },
    {
     "data": {
      "image/png": "[encoded data removed]",
      "text/plain": [
       "<Figure size 103.909x167.323 with 1 Axes>"
      ]
     },
     "metadata": {},
     "output_type": "display_data"
    }
   ],
   "source": []
  },
  {
   "cell_type": "code",
   "execution_count": 15,
   "metadata": {},
   "outputs": [
    {
     "data": {
      "image/png": "[encoded data removed]",
      "text/plain": [
       "<Figure size 914.402x10 with 2 Axes>"
      ]
     },
     "metadata": {},
     "output_type": "display_data"
    }
   ],
   "source": [
    "import matplotlib.pyplot as plt\n",
    "import matplotlib as mpl\n",
    "\n",
    "fig = plt.figure(figsize=(Lx*4, 0.1))\n",
    "\n",
    "# Remove all margins and padding\n",
    "fig.patch.set_visible(False)\n",
    "\n",
    "# Create an invisible axes with zero size\n",
    "ax = fig.add_axes([0, 0, 0, 0])\n",
    "ax.set_visible(False)\n",
    "\n",
    "# Create the colorbar axes explicitly\n",
    "cbar_ax = fig.add_axes([0.1, 0.1, 0.2, 0.8])  # [left, bottom, width, height]\n",
    "\n",
    "# Create the colorbar using your original mappable\n",
    "norm = mpl.colors.Normalize(vmin=0, vmax=1)\n",
    "sm = plt.cm.ScalarMappable(cmap=my_hot_r, norm=norm)\n",
    "sm.set_array([])\n",
    "\n",
    "cbar = plt.colorbar(sm, cax=cbar_ax, orientation='horizontal')\n",
    "cbar.set_ticks([0, 0.5, 1])\n",
    "cbar.set_ticklabels([])\n",
    "\n",
    "name = \"RI_colorbar.pdf\"\n",
    "fig.savefig(path_Plot_with_labels + name, bbox_inches='tight')\n",
    "fig.savefig(path_Plot_without_labels + name, bbox_inches='tight')"
   ]
  },
  {
   "cell_type": "code",
   "execution_count": 16,
   "metadata": {},
   "outputs": [
    {
     "data": {
      "image/png": "[encoded data removed]",
      "text/plain": [
       "<Figure size 914.402x10 with 2 Axes>"
      ]
     },
     "metadata": {},
     "output_type": "display_data"
    }
   ],
   "source": [
    "import matplotlib.pyplot as plt\n",
    "import matplotlib as mpl\n",
    "\n",
    "fig = plt.figure(figsize=(Lx*4, 0.1))\n",
    "\n",
    "# Remove all margins and padding\n",
    "fig.patch.set_visible(False)\n",
    "\n",
    "# Create an invisible axes with zero size\n",
    "ax = fig.add_axes([0, 0, 0, 0])\n",
    "ax.set_visible(False)\n",
    "\n",
    "# Create the colorbar axes explicitly\n",
    "cbar_ax = fig.add_axes([0.1, 0.1, 0.2, 0.8])  # [left, bottom, width, height]\n",
    "\n",
    "# Create the colorbar using your original mappable\n",
    "norm = mpl.colors.Normalize(vmin=0, vmax=1)\n",
    "sm = plt.cm.ScalarMappable(cmap=my_vir_r, norm=norm)\n",
    "sm.set_array([])\n",
    "\n",
    "cbar = plt.colorbar(sm, cax=cbar_ax, orientation='horizontal')\n",
    "cbar.set_ticks([0, 0.5, 1])\n",
    "cbar.set_ticklabels([])\n",
    "\n",
    "name = \"R0_colorbar.pdf\"\n",
    "fig.savefig(path_Plot_with_labels + name, bbox_inches='tight')\n",
    "fig.savefig(path_Plot_without_labels + name, bbox_inches='tight')"
   ]
  },
  {
   "cell_type": "code",
   "execution_count": 17,
   "metadata": {},
   "outputs": [],
   "source": [
    "NP = 100  # number of polarization points\n",
    "NM = 100  # number of mean points\n",
    "pol_range={\"m\": 0, \"M\": 1, \"n\": NP}  # polarization range\n",
    "mean_range={\"m\": 0, \"M\": 1, \"n\": NM}   \n",
    "\n",
    "#results = run_pol_mean_sweep_SIRT(\n",
    "results = sweep_pol_mean_SIRT(\n",
    "    mean_range=mean_range,\n",
    "    pol_range=pol_range,\n",
    "    h=0,\n",
    "    dT=1,\n",
    "    T=1000,\n",
    "    susceptibility_rate=0.4,\n",
    "    test_rate = 1/3,  # Set a fixed testing rate\n",
    "    batch_size=1000\n",
    ")\n",
    "\n",
    "(S_final, I_final, R_final), R0, OH = results\n",
    "S = np.sum(S_final, axis=1)\n",
    "I = np.sum(I_final, axis=1)\n",
    "R = np.sum(R_final, axis=1)\n",
    "\n",
    "# Reshape arrays\n",
    "S = np.flipud(S.reshape(NP, NM))\n",
    "I = np.flipud(I.reshape(NP, NM))\n",
    "R = np.flipud(R.reshape(NP, NM))\n",
    "R0 = np.flipud(R0.reshape(NP, NM))\n",
    "OH = np.flipud(OH.reshape(NP, NM))\n",
    "\n",
    "FIG_B_RI = R\n",
    "FIG_B_R0 = R0\n",
    "FIG_B_OH = OH"
   ]
  },
  {
   "cell_type": "code",
   "execution_count": 18,
   "metadata": {},
   "outputs": [
    {
     "data": {
      "image/png": "[encoded data removed]",
      "text/plain": [
       "<Figure size 457.201x167.323 with 4 Axes>"
      ]
     },
     "metadata": {},
     "output_type": "display_data"
    }
   ],
   "source": [
    "mean_vals = homogeneous_distribution(mean_range[\"n\"], mean_range[\"m\"], mean_range[\"M\"])\n",
    "pol = homogeneous_distribution(pol_range[\"n\"], pol_range[\"m\"], pol_range[\"M\"])\n",
    "\n",
    "fig, ax = plt.subplots(1,2, figsize=(2*Lx, Ly))\n",
    "\n",
    "cax = ax[0].imshow(FIG_B_RI, cmap=my_hot_r, aspect=\"auto\", origin=\"lower\", \n",
    "                   extent=[0, 1, 0, 1], vmin=0, vmax=1)\n",
    "cbar = fig.colorbar(cax, ax=ax[0])\n",
    "CS = ax[0].contour(pol, mean_vals, FIG_B_RI, \n",
    "                   levels=[0.25, 0.5, 0.75], linewidths=1, \n",
    "                   colors=\"black\", linestyles=\"dashed\")\n",
    "\n",
    "cax = ax[1].imshow(FIG_B_R0, cmap=my_vir_r, aspect=\"auto\", origin=\"lower\",\n",
    "                   extent=[0, 1, 0, 1], vmin=1)\n",
    "cbar = fig.colorbar(cax, ax=ax[1])\n",
    "CS = ax[1].contour(pol, mean_vals, FIG_B_R0, \n",
    "                   levels=[1], linewidths=2, \n",
    "                   colors=\"black\")\n",
    "CS = ax[0].contour(pol, mean_vals, FIG_B_R0, \n",
    "                   levels=[1], linewidths=2, \n",
    "                   colors=\"gray\")\n",
    "\n",
    "fig.tight_layout()"
   ]
  },
  {
   "cell_type": "code",
   "execution_count": 19,
   "metadata": {},
   "outputs": [
    {
     "name": "stderr",
     "output_type": "stream",
     "text": [
      "No artists with labels found to put in legend.  Note that artists whose label start with an underscore are ignored when legend() is called with no argument.\n"
     ]
    },
    {
     "data": {
      "image/png": "[encoded data removed]",
      "text/plain": [
       "<Figure size 228.6x167.323 with 1 Axes>"
      ]
     },
     "metadata": {},
     "output_type": "display_data"
    }
   ],
   "source": [
    "col_pol_circles = [\"#1b9e77\", \"#7570b3\"]\n",
    "name = \"SIRT_B(m,p)_RI.pdf\"\n",
    "\n",
    "fig, ax = plt.subplots(figsize=(Lx, Ly))\n",
    "cax = ax.imshow(FIG_B_RI, cmap=my_hot_r, aspect=\"auto\", origin=\"lower\", extent=[0, 1, 0, 1], vmin=0, vmax=1, interpolation=\"none\")\n",
    "cbar = fig.colorbar(cax, ax=ax)\n",
    "#CS = ax.contour(h_vals, pol*4, FIG_C_RI, levels=[0.25, 0.5, 0.75], linewidths=1, colors=\"black\", linestyles=\"dashed\")\n",
    "CS = ax.contour(pol, mean_vals, FIG_B_RI, \n",
    "    levels=[0.25, 0.5, 0.75], linewidths=0.5, \n",
    "    colors=\"black\", linestyles=\"dashed\")\n",
    "\n",
    "Xs = np.array([0.1, 0.3, 0.5, 0.7, 0.9])\n",
    "Ys = np.zeros(5)+0.001\n",
    "\n",
    "#ax.plot(1-Xs, 1-Ys, 'o', color='black', markersize=1)\n",
    "#ax.plot(1-Ys, 1-Xs, 'o', color='black', markersize=1)\n",
    "\n",
    "Xs = np.array([0.1, 0.1, 1/3, 1/3, 0.9, 0.9])\n",
    "Ys = np.array([0.1, 0.5, 0.35, 0.5, 0.35, 0.5])\n",
    "Colors = [col_pol_circles[0], col_pol_circles[1],col_pol_circles[0], col_pol_circles[1],col_pol_circles[0], col_pol_circles[1]]\n",
    "\n",
    "ax.scatter(Xs, Ys, c=Colors, marker='o', s=30, zorder = 100,edgecolors='black')\n",
    "\n",
    "ax.set_xticks([0,0.5,1])\n",
    "ax.set_yticks([0,0.5,1])\n",
    "\n",
    "\n",
    "fig.patch.set_visible(False)\n",
    "\n",
    "\n",
    "double_savefig(fig, ax, name, path_Plot_with_labels, path_Plot_without_labels, cbar=cbar)"
   ]
  },
  {
   "cell_type": "code",
   "execution_count": 20,
   "metadata": {},
   "outputs": [
    {
     "name": "stderr",
     "output_type": "stream",
     "text": [
      "No artists with labels found to put in legend.  Note that artists whose label start with an underscore are ignored when legend() is called with no argument.\n"
     ]
    },
    {
     "data": {
      "image/png": "[encoded data removed]",
      "text/plain": [
       "<Figure size 103.909x167.323 with 1 Axes>"
      ]
     },
     "metadata": {},
     "output_type": "display_data"
    }
   ],
   "source": [
    "name = \"SIRT_B(m,p)_R0.pdf\"\n",
    "\n",
    "fig, ax = plt.subplots(figsize=(Lx/2.2, Ly))\n",
    "cax = ax.imshow(FIG_B_R0, cmap=my_vir_r, aspect=\"auto\", origin=\"lower\", extent=[0, 1, 0, 1], vmin = 1, interpolation=\"none\")\n",
    "cbar = fig.colorbar(cax, ax=ax)\n",
    "#CS = ax.contour(h_vals, pol*4, FIG_C_RI, levels=[0.25, 0.5, 0.75], linewidths=1, colors=\"black\", linestyles=\"dashed\")\n",
    "CS = ax.contour(pol, mean_vals, FIG_B_RI, \n",
    "    levels=[0.25, 0.5, 0.75], linewidths=0.5, \n",
    "    colors=\"black\", linestyles=\"dashed\")\n",
    "ax.set_xticks([0,0.5,1])\n",
    "ax.set_yticks([0,0.5,1])\n",
    "fig.patch.set_visible(False)\n",
    "double_savefig(fig, ax, name, path_Plot_with_labels, path_Plot_without_labels, cbar=cbar)"
   ]
  },
  {
   "cell_type": "code",
   "execution_count": 21,
   "metadata": {},
   "outputs": [
    {
     "name": "stderr",
     "output_type": "stream",
     "text": [
      "No artists with labels found to put in legend.  Note that artists whose label start with an underscore are ignored when legend() is called with no argument.\n",
      "No artists with labels found to put in legend.  Note that artists whose label start with an underscore are ignored when legend() is called with no argument.\n"
     ]
    },
    {
     "name": "stdout",
     "output_type": "stream",
     "text": [
      "[0.1        0.29999998 0.5        0.6999999  0.9       ]\n"
     ]
    },
    {
     "data": {
      "image/png": "[encoded data removed]",
      "text/plain": [
       "<Figure size 228.6x167.323 with 1 Axes>"
      ]
     },
     "metadata": {},
     "output_type": "display_data"
    },
    {
     "data": {
      "image/png": "[encoded data removed]",
      "text/plain": [
       "<Figure size 103.909x167.323 with 1 Axes>"
      ]
     },
     "metadata": {},
     "output_type": "display_data"
    }
   ],
   "source": [
    "NP = 5  # number of polarization points\n",
    "NM = 100  # number of mean points\n",
    "pol_range={\"m\": 0, \"M\": 1, \"n\": NP}  \n",
    "mean_range={\"m\": 0, \"M\": 1, \"n\": NM}         \n",
    "\n",
    "pols = homogeneous_distribution(pol_range[\"n\"], pol_range[\"m\"], pol_range[\"M\"])\n",
    "means = homogeneous_distribution(mean_range[\"n\"], mean_range[\"m\"], mean_range[\"M\"])\n",
    "\n",
    "#results = run_pol_mean_sweep_SIRT(\n",
    "results = sweep_pol_mean_SIRT(\n",
    "    mean_range=mean_range,\n",
    "    pol_range=pol_range,\n",
    "    h=0,\n",
    "    dT=1,\n",
    "    T=1000,\n",
    "    susceptibility_rate=0.4,\n",
    "    test_rate = 1/3,  # Set a fixed testing rate\n",
    "    batch_size=1000\n",
    ")\n",
    "(S_final, I_final, R_final), R0, OH = results\n",
    "\n",
    "S = np.sum(S_final, axis=1)\n",
    "I = np.sum(I_final, axis=1)\n",
    "R = np.sum(R_final, axis=1)\n",
    "\n",
    "# Correct reshaping\n",
    "S = S.reshape(NM, NP).T  # Shape becomes (NP, NM)\n",
    "I = I.reshape(NM, NP).T\n",
    "R = R.reshape(NM, NP).T\n",
    "R0 = R0.reshape(NM, NP).T\n",
    "OH = OH.reshape(NM, NP).T\n",
    "temp = R + I\n",
    "\n",
    "fig, ax = plt.subplots(figsize=(Lx, Ly))\n",
    "for i in range(NP):\n",
    "    ax.plot(1-means, temp[i, :], color = CP1[i])\n",
    "\n",
    "ax.set_xlim(0, 1)\n",
    "ax.set_ylim(0, 1)\n",
    "ax.set_xticks([0, 0.5, 1])\n",
    "ax.set_yticks([0, 0.5, 1])\n",
    "\n",
    "name = \"SIRT_B_(m)_RI.pdf\"\n",
    "double_savefig(fig, ax, name, path_Plot_with_labels, path_Plot_without_labels)\n",
    "\n",
    "\n",
    "idx = (np.abs(means - 0.5)).argmin()\n",
    "\n",
    "# Plot each polarization value\n",
    "fig, ax = plt.subplots(figsize=(Lx/2.2, Ly))\n",
    "for i in range(NP):\n",
    "    ax.plot(1-means, (temp[i, :]-temp[i, idx])/temp[i, idx]*100, color = CP1[i])\n",
    "    \n",
    "ax.set_xlabel(\"mean behavior\")\n",
    "ax.set_ylabel(\"% change in I\")\n",
    "\n",
    "# plot an horizontal line at 0\n",
    "\n",
    "ax.axhline(0, color='black', lw=1, ls='--')\n",
    "\n",
    "ax.set_ylim(-100, 60)\n",
    "ax.set_xlim(0, 1)\n",
    "ax.set_xticks([0, 0.5, 1])\n",
    "ax.set_yticks([-100,-50, 0, 50])\n",
    "\n",
    "name = \"SIRT_B_(m)_RI100.pdf\"\n",
    "fig.patch.set_visible(False)\n",
    "double_savefig(fig, ax, name, path_Plot_with_labels, path_Plot_without_labels)\n",
    "print(pols)\n"
   ]
  },
  {
   "cell_type": "code",
   "execution_count": null,
   "metadata": {},
   "outputs": [],
   "source": []
  },
  {
   "cell_type": "code",
   "execution_count": 32,
   "metadata": {},
   "outputs": [
    {
     "name": "stderr",
     "output_type": "stream",
     "text": [
      "No artists with labels found to put in legend.  Note that artists whose label start with an underscore are ignored when legend() is called with no argument.\n",
      "No artists with labels found to put in legend.  Note that artists whose label start with an underscore are ignored when legend() is called with no argument.\n"
     ]
    },
    {
     "data": {
      "image/png": "[encoded data removed]",
      "text/plain": [
       "<Figure size 228.6x167.323 with 1 Axes>"
      ]
     },
     "metadata": {},
     "output_type": "display_data"
    },
    {
     "data": {
      "image/png": "[encoded data removed]",
      "text/plain": [
       "<Figure size 103.909x167.323 with 1 Axes>"
      ]
     },
     "metadata": {},
     "output_type": "display_data"
    }
   ],
   "source": [
    "NP = 100  # number of polarization points\n",
    "NM = 5  # number of mean points\n",
    "pol_range={\"m\": 0, \"M\": 1, \"n\": NP}  \n",
    "mean_range={\"m\": 0, \"M\": 1, \"n\": NM}         \n",
    "\n",
    "pols = np.linspace(pol_range[\"m\"], pol_range[\"M\"], pol_range[\"n\"])\n",
    "means = np.linspace(mean_range[\"m\"], mean_range[\"M\"], mean_range[\"n\"])\n",
    "\n",
    "#results = run_pol_mean_sweep_SIRT(\n",
    "results = sweep_pol_mean_SIRT(\n",
    "    mean_range=mean_range,\n",
    "    pol_range=pol_range,\n",
    "    h=0,\n",
    "    dT=1,\n",
    "    T=1000,\n",
    "    susceptibility_rate=0.4,\n",
    "    test_rate = 1/3,  # Set a fixed testing rate\n",
    "    batch_size=1000\n",
    ")\n",
    "(S_final, I_final, R_final), R0, OH = results\n",
    "\n",
    "S = np.sum(S_final, axis=1)\n",
    "I = np.sum(I_final, axis=1)\n",
    "R = np.sum(R_final, axis=1)\n",
    "\n",
    "# Correct reshaping\n",
    "S = S.reshape(NM, NP).T  # Shape becomes (NP, NM)\n",
    "I = I.reshape(NM, NP).T\n",
    "R = R.reshape(NM, NP).T\n",
    "R0 = R0.reshape(NM, NP).T\n",
    "OH = OH.reshape(NM, NP).T\n",
    "\n",
    "temp = R + I\n",
    "\n",
    "# Plot each polarization value\n",
    "fig, ax = plt.subplots(figsize=(Lx, Ly))\n",
    "for i in range(NM):\n",
    "    ax.plot(pols, temp[:, i], color = CP2[i])\n",
    "\n",
    "ax.set_xlabel(\"Polarization\")\n",
    "ax.set_ylabel(\"I\")\n",
    "ax.set_ylim(0, 1)\n",
    "ax.set_xlim(0, 1)\n",
    "ax.set_xticks([0, 0.5, 1])\n",
    "ax.set_yticks([0, 0.5, 1])\n",
    "\n",
    "name = \"SIRT_B_(p)_RI.pdf\"\n",
    "double_savefig(fig, ax, name, path_Plot_with_labels, path_Plot_without_labels)\n",
    "\n",
    "\n",
    "\n",
    "idx = 0\n",
    "\n",
    "fig, ax = plt.subplots(figsize=(Lx/2.2, Ly))\n",
    "for i in range(NM):\n",
    "    ax.plot(pols, (temp[:, i]-temp[0, i])/temp[0, i]*100, color = CP2[i])\n",
    "\n",
    "ax.set_xlabel(\"Polarization\")\n",
    "ax.set_ylabel(\"% change in I\")\n",
    "# plot an horizontal line at 0\n",
    "ax.axhline(0, color='black', lw=1, ls='--')\n",
    "\n",
    "ax.set_ylim(-50, 300)\n",
    "ax.set_xlim(0, 1)\n",
    "ax.set_xticks([0, 0.5, 1])\n",
    "ax.set_yticks([0, 100, 200])\n",
    "fig.patch.set_visible(False)\n",
    "name = \"SIRT_B_(p)_RI100.pdf\"\n",
    "double_savefig(fig, ax, name, path_Plot_with_labels, path_Plot_without_labels)"
   ]
  },
  {
   "cell_type": "code",
   "execution_count": 23,
   "metadata": {},
   "outputs": [],
   "source": [
    "NP = 100  # number of polarization points\n",
    "NH = 100  # number of homophily points\n",
    "h_range={\"m\": -10.0, \"M\": 10.0, \"n\": NH}\n",
    "pol_range={\"m\": 0, \"M\": 1, \"n\": NP}\n",
    "\n",
    "\n",
    "#results = run_h_pol_sweep_SIRT(\n",
    "results = sweep_hom_pol_SIRT(\n",
    "    h_range=h_range,     # homophily range\n",
    "    pol_range=pol_range, # polarization range\n",
    "    dT=1,\n",
    "    T=1000,\n",
    "    recovery_rate=0.1,\n",
    "    susceptibility_rate=0.3,  \n",
    "    test_rate = 1/3,     # Fixed testing rate range\n",
    "    batch_size=1000\n",
    ")\n",
    "\n",
    "(S_final, I_final, R_final), R0, OH = results\n",
    "S = np.sum(S_final, axis=1)\n",
    "I = np.sum(I_final, axis=1)\n",
    "R = np.sum(R_final, axis=1)\n",
    "\n",
    "# Reshape arrays\n",
    "S = S.reshape(NP, NH)  # No transpose needed\n",
    "I = I.reshape(NP, NH)\n",
    "R = R.reshape(NP, NH)\n",
    "R0 = R0.reshape(NP, NH)\n",
    "OH = OH.reshape(NP, NH)\n",
    "\n",
    "FIG_C_RI = R + I\n",
    "FIG_C_R0 = R0\n",
    "FIG_C_OH = OH"
   ]
  },
  {
   "cell_type": "code",
   "execution_count": 24,
   "metadata": {},
   "outputs": [
    {
     "data": {
      "image/png": "[encoded data removed]",
      "text/plain": [
       "<Figure size 457.201x167.323 with 4 Axes>"
      ]
     },
     "metadata": {},
     "output_type": "display_data"
    }
   ],
   "source": [
    "h_vals = homogeneous_distribution(h_range[\"n\"], h_range[\"m\"], h_range[\"M\"])\n",
    "pol = homogeneous_distribution(pol_range[\"n\"], pol_range[\"m\"], pol_range[\"M\"])\n",
    "\n",
    "fig, ax = plt.subplots(1,2, figsize=(2*Lx, Ly))\n",
    "\n",
    "cax = ax[0].imshow(FIG_C_RI, cmap=my_hot_r, aspect=\"auto\", origin=\"lower\", \n",
    "    extent=[h_range[\"m\"], h_range[\"M\"], 0, 1],  \n",
    "    vmin=0, vmax=1, interpolation=\"none\")\n",
    "cbar = fig.colorbar(cax, ax=ax[0])\n",
    "\n",
    "cax = ax[1].imshow(FIG_C_R0, cmap=my_vir_r, aspect=\"auto\", origin=\"lower\",\n",
    "    extent=[h_range[\"m\"], h_range[\"M\"], 0, 1],  \n",
    "    vmin=1, vmax=5, interpolation=\"none\")\n",
    "cbar = fig.colorbar(cax, ax=ax[1])\n",
    "CS = ax[1].contour(h_vals, pol, FIG_C_R0,  \n",
    "    levels=[1], linewidths=2, colors=\"black\")\n",
    "CS = ax[0].contour(h_vals, pol, FIG_C_R0,  \n",
    "    levels=[1], linewidths=2, colors=\"black\")\n",
    "\n",
    "\n",
    "fig.tight_layout()"
   ]
  },
  {
   "cell_type": "code",
   "execution_count": 25,
   "metadata": {},
   "outputs": [
    {
     "data": {
      "image/png": "[encoded data removed]",
      "text/plain": [
       "<Figure size 228.6x167.323 with 1 Axes>"
      ]
     },
     "metadata": {},
     "output_type": "display_data"
    }
   ],
   "source": [
    "name = \"I(h,pol)_SIRT.pdf\"\n",
    "fig, ax = plt.subplots(figsize=(Lx, Ly))\n",
    "cax = ax.imshow(FIG_C_RI, cmap =  my_hot_r, aspect = \"auto\", origin = \"lower\", extent = [h_vals[0],h_vals[-1],pol[0],pol[-1]], vmin = 0, vmax = 1, interpolation=\"none\")\n",
    "#cbar = fig.colorbar(cax, ax = ax)\n",
    "CS = ax.contour(h_vals, pol, FIG_C_RI, levels = [0.25, 0.5, 0.75], linewidths = 1, colors = \"black\", linestyles = \"dashed\")\n",
    "\n",
    "ax.set_xlim([-10, 10])\n",
    "ax.set_ylim([0, 1])\n",
    "ax.set_xticks([-10, 0, 10])\n",
    "ax.set_yticks([0, 0.5, 1])\n",
    "fig.patch.set_visible(False)\n",
    "#double_savefig(fig, ax, name, path_Plot_with_labels, path_Plot_without_labels, cbar=cbar)"
   ]
  },
  {
   "cell_type": "code",
   "execution_count": 26,
   "metadata": {},
   "outputs": [
    {
     "name": "stderr",
     "output_type": "stream",
     "text": [
      "No artists with labels found to put in legend.  Note that artists whose label start with an underscore are ignored when legend() is called with no argument.\n"
     ]
    },
    {
     "data": {
      "image/png": "[encoded data removed]",
      "text/plain": [
       "<Figure size 103.909x167.323 with 1 Axes>"
      ]
     },
     "metadata": {},
     "output_type": "display_data"
    }
   ],
   "source": [
    "name = \"R0(h,pol)_SIRT.pdf\"\n",
    "fig, ax = plt.subplots(figsize=(Lx/2.2, Ly))\n",
    "cax = ax.imshow(FIG_C_R0, cmap =  my_vir_r, aspect = \"auto\", origin = \"lower\", \n",
    "                extent = [h_vals[0],h_vals[-1],pol[0],pol[-1]], vmin = 1, vmax = 5,\n",
    "                interpolation = \"none\")\n",
    "cbar = fig.colorbar(cax, ax = ax)\n",
    "CS = ax.contour(h_vals, pol, FIG_C_RI, levels = [0.25, 0.5, 0.75], linewidths = 1, colors = \"black\", linestyles = \"dashed\")\n",
    "ax.set_xticks([-10, 0, 10])\n",
    "ax.set_yticks([0, 0.5, 1])\n",
    "fig.patch.set_visible(False)\n",
    "double_savefig(fig, ax, name, path_Plot_with_labels, path_Plot_without_labels, cbar=cbar)"
   ]
  },
  {
   "cell_type": "code",
   "execution_count": 35,
   "metadata": {},
   "outputs": [],
   "source": [
    "CP2[2] = \"#000\""
   ]
  },
  {
   "cell_type": "code",
   "execution_count": 36,
   "metadata": {},
   "outputs": [
    {
     "name": "stdout",
     "output_type": "stream",
     "text": [
      "[0. 2. 4. 6. 8.]\n"
     ]
    },
    {
     "name": "stderr",
     "output_type": "stream",
     "text": [
      "No artists with labels found to put in legend.  Note that artists whose label start with an underscore are ignored when legend() is called with no argument.\n",
      "No artists with labels found to put in legend.  Note that artists whose label start with an underscore are ignored when legend() is called with no argument.\n",
      "No artists with labels found to put in legend.  Note that artists whose label start with an underscore are ignored when legend() is called with no argument.\n"
     ]
    },
    {
     "name": "stdout",
     "output_type": "stream",
     "text": [
      "[0. 2. 4. 6. 8.]\n"
     ]
    },
    {
     "data": {
      "image/png": "[encoded data removed]",
      "text/plain": [
       "<Figure size 228.6x167.323 with 1 Axes>"
      ]
     },
     "metadata": {},
     "output_type": "display_data"
    },
    {
     "data": {
      "image/png": "[encoded data removed]",
      "text/plain": [
       "<Figure size 103.909x167.323 with 1 Axes>"
      ]
     },
     "metadata": {},
     "output_type": "display_data"
    },
    {
     "data": {
      "image/png": "[encoded data removed]",
      "text/plain": [
       "<Figure size 228.6x167.323 with 1 Axes>"
      ]
     },
     "metadata": {},
     "output_type": "display_data"
    }
   ],
   "source": [
    "NP = 100  # number of polarization points\n",
    "NH = 5  # number of homophily points\n",
    "h_range={\"m\": -1, \"M\": 9, \"n\": NH}\n",
    "pol_range={\"m\": 0, \"M\": 1, \"n\": NP}\n",
    "pols = homogeneous_distribution(pol_range[\"n\"], pol_range[\"m\"], pol_range[\"M\"])\n",
    "homs = homogeneous_distribution(h_range[\"n\"], h_range[\"m\"], h_range[\"M\"])\n",
    "print(homs)\n",
    "#results = run_h_pol_sweep_SIRT(\n",
    "results = sweep_hom_pol_SIRT(\n",
    "    h_range=h_range,     # homophily range\n",
    "    pol_range=pol_range, # polarization range\n",
    "    dT=1,\n",
    "    T=1000,\n",
    "    recovery_rate=0.1,\n",
    "    susceptibility_rate=0.3,  \n",
    "    test_rate = 1/3,     # Fixed testing rate range\n",
    "    batch_size=1000\n",
    ")\n",
    "\n",
    "(S_final, I_final, R_final), R0, OH = results\n",
    "S = np.sum(S_final, axis=1)\n",
    "I = np.sum(I_final, axis=1)\n",
    "R = np.sum(R_final, axis=1)\n",
    "\n",
    "# Reshape arrays\n",
    "S = S.reshape(NP, NH)  # No transpose needed\n",
    "I = I.reshape(NP, NH)\n",
    "R = R.reshape(NP, NH)\n",
    "R0 = R0.reshape(NP, NH)\n",
    "OH = OH.reshape(NP, NH)\n",
    "\n",
    "temp = R + I\n",
    "\n",
    "\n",
    "idx = (np.abs(pols - 0)).argmin()\n",
    "# Plot each homophily value\n",
    "fig, ax = plt.subplots(figsize=(Lx, Ly))\n",
    "for i in range(NH):\n",
    "    ax.plot(pols, temp[:,i], color = CP3[i])\n",
    "\n",
    "ax.set_xlabel(\"Polarization\")\n",
    "ax.set_ylabel(\"I\")\n",
    "ax.set_ylim(-0.02, 1)\n",
    "ax.set_xlim(0,1)\n",
    "\n",
    "name = \"SIRT_C_(pol)_I.pdf\"\n",
    "double_savefig(fig, ax, name, path_Plot_with_labels, path_Plot_without_labels)\n",
    "\n",
    "fig, ax = plt.subplots(figsize=(Lx/2.2, Ly))\n",
    "for i in range(NH):\n",
    "    ax.plot(pols, (temp[:,i]-temp[idx,i])/temp[idx,i]*100, color = CP2[i])\n",
    "\n",
    "# plot an horizontal line at 0\n",
    "ax.axhline(0, color='black', lw=1, ls='--')\n",
    "\n",
    "#ax.set_xlabel(\"Polarization\")\n",
    "#ax.set_ylabel(\"% change in I\")\n",
    "ax.set_ylim(-75, 200)\n",
    "ax.set_xlim(0,1)\n",
    "ax.set_yticks([0,100, 200])\n",
    "ax.set_xticks([0,0.5,1])\n",
    "\n",
    "name = \"SIRT_C_(pol)_I100.pdf\"\n",
    "fig.patch.set_visible(False)\n",
    "double_savefig(fig, ax, name, path_Plot_with_labels, path_Plot_without_labels)\n",
    "\n",
    "\n",
    "\n",
    "\n",
    "fig, ax = plt.subplots(figsize=(Lx, Ly))\n",
    "\n",
    "\n",
    "name = \"SIRT_C_(pol)_I100_long.pdf\"\n",
    "for i in range(NH):\n",
    "    ax.plot(pols, (temp[:,i]-temp[idx,i])/temp[idx,i]*100, color = CP2[i])\n",
    "\n",
    "# plot an horizontal line at 0\n",
    "ax.axhline(0, color='black', lw=1, ls='--')\n",
    "\n",
    "#ax.set_xlabel(\"Polarization\")\n",
    "#ax.set_ylabel(\"% change in I\")\n",
    "ax.set_ylim(-75, 200)\n",
    "ax.set_xlim(0,1)\n",
    "ax.set_yticks([0,100, 200])\n",
    "ax.set_xticks([0,0.5,1])\n",
    "fig.patch.set_visible(False)\n",
    "\n",
    "\n",
    "\n",
    "\n",
    "double_savefig(fig, ax, name, path_Plot_with_labels, path_Plot_without_labels)\n",
    "\n",
    "\n",
    "print(homs)"
   ]
  },
  {
   "cell_type": "code",
   "execution_count": 29,
   "metadata": {},
   "outputs": [
    {
     "name": "stdout",
     "output_type": "stream",
     "text": [
      "['#d9f0a3', '#addd8e', '#000', '#31a354', '#006837']\n"
     ]
    }
   ],
   "source": [
    "print(CP2)\n",
    "a = \"#d9f0a3\""
   ]
  },
  {
   "cell_type": "code",
   "execution_count": 30,
   "metadata": {},
   "outputs": [
    {
     "name": "stderr",
     "output_type": "stream",
     "text": [
      "No artists with labels found to put in legend.  Note that artists whose label start with an underscore are ignored when legend() is called with no argument.\n",
      "No artists with labels found to put in legend.  Note that artists whose label start with an underscore are ignored when legend() is called with no argument.\n"
     ]
    },
    {
     "data": {
      "image/png": "[encoded data removed]",
      "text/plain": [
       "<Figure size 228.6x167.323 with 1 Axes>"
      ]
     },
     "metadata": {},
     "output_type": "display_data"
    },
    {
     "data": {
      "image/png": "[encoded data removed]",
      "text/plain": [
       "<Figure size 103.909x167.323 with 1 Axes>"
      ]
     },
     "metadata": {},
     "output_type": "display_data"
    }
   ],
   "source": [
    "NP = 5  # number of polarization points\n",
    "NH = 100  # number of homophily points\n",
    "h_range={\"m\": -10.0, \"M\": 10.0, \"n\": NH}\n",
    "pol_range={\"m\": 0, \"M\": 1, \"n\": NP}\n",
    "\n",
    "homs = homogeneous_distribution(h_range[\"n\"], h_range[\"m\"], h_range[\"M\"])\n",
    "pols = homogeneous_distribution(pol_range[\"n\"], pol_range[\"m\"], pol_range[\"M\"])\n",
    "\n",
    "#results = run_h_pol_sweep_SIRT(\n",
    "results = sweep_hom_pol_SIRT(\n",
    "    h_range=h_range,     # homophily range\n",
    "    pol_range=pol_range, # polarization range\n",
    "    dT=1,\n",
    "    T=1000,\n",
    "    recovery_rate=0.1,\n",
    "    susceptibility_rate=0.3,  \n",
    "    test_rate = 1/3,     # Fixed testing rate range\n",
    "    batch_size=1000\n",
    ")\n",
    "\n",
    "(S_final, I_final, R_final), R0, OH = results\n",
    "S = np.sum(S_final, axis=1)\n",
    "I = np.sum(I_final, axis=1)\n",
    "R = np.sum(R_final, axis=1)\n",
    "\n",
    "# Reshape arrays\n",
    "S = S.reshape(NP, NH)  # No transpose needed\n",
    "I = I.reshape(NP, NH)\n",
    "R = R.reshape(NP, NH)\n",
    "R0 = R0.reshape(NP, NH)\n",
    "OH = OH.reshape(NP, NH)\n",
    "\n",
    "temp = R + I\n",
    "\n",
    "fig, ax = plt.subplots(figsize=(Lx, Ly))\n",
    "for i in range(NP):\n",
    "    ax.plot(homs, temp[i, :], color = CP2[i])\n",
    "\n",
    "ax.set_ylim(0, 1)\n",
    "ax.set_xlim(-10, 10)\n",
    "ax.set_xticks([-10, 0, 10])\n",
    "ax.set_yticks([0, 0.5, 1])\n",
    "\n",
    "name = \"SIRT_C_(h)_RI.pdf\"\n",
    "double_savefig(fig, ax, name, path_Plot_with_labels, path_Plot_without_labels)\n",
    "\n",
    "# find the index of the homophily value closest to 0\n",
    "idx = (np.abs(homs - 0)).argmin()\n",
    "\n",
    "fig, ax = plt.subplots(figsize=(Lx/2.2, Ly))\n",
    "for i in range(NP):\n",
    "    ax.plot(homs, (temp[i, :]-temp[i, idx])/temp[i, idx]*100, color = CP3[i])\n",
    "\n",
    "# plot an horizontal line at 0\n",
    "ax.axhline(0, color='black', lw=1, ls='--')\n",
    "\n",
    "#ax.set_xlabel(\"Homophily\")\n",
    "#ax.set_ylabel(\"% change in I\")\n",
    "ax.set_ylim(-50, 50)\n",
    "ax.set_xlim(-10, 10)\n",
    "ax.set_xticks([-10, 0, 10])\n",
    "ax.set_yticks([-50, 0, 50])\n",
    "\n",
    "name = \"SIRT_C_(h)_RI100.pdf\"\n",
    "fig.patch.set_visible(False)\n",
    "double_savefig(fig, ax, name, path_Plot_with_labels, path_Plot_without_labels)\n"
   ]
  },
  {
   "cell_type": "code",
   "execution_count": 11,
   "metadata": {},
   "outputs": [
    {
     "name": "stderr",
     "output_type": "stream",
     "text": [
      "No artists with labels found to put in legend.  Note that artists whose label start with an underscore are ignored when legend() is called with no argument.\n"
     ]
    },
    {
     "data": {
      "image/png": "[encoded data removed]",
      "text/plain": [
       "<Figure size 103.909x167.323 with 1 Axes>"
      ]
     },
     "metadata": {},
     "output_type": "display_data"
    }
   ],
   "source": [
    "NP = 100\n",
    "NS = 1\n",
    "N_COMPARTMENTS = 100\n",
    "\n",
    "\n",
    "test_max_range={\"m\": 0.3, \"M\": 0.3, \"n\": NS}\n",
    "pol_range={\"m\": 0, \"M\": 1, \"n\": NP}\n",
    "\n",
    "results = sweep_pol_SPB_SIRTD(\n",
    "    test_max_range=test_max_range,\n",
    "    pol_range=pol_range,\n",
    "    dT=1,\n",
    "    T=1000,\n",
    "    batch_size=1000,\n",
    "    susceptibility_rate = 0.25,\n",
    "    N_COMPARTMENTS = N_COMPARTMENTS\n",
    ")\n",
    "\n",
    "(S_final, I_final, R_final), _, _ = results\n",
    "\n",
    "S = S_final.reshape(NP, N_COMPARTMENTS).transpose()\n",
    "I = I_final.reshape(NP, N_COMPARTMENTS).transpose()\n",
    "R = R_final.reshape(NP, N_COMPARTMENTS).transpose()\n",
    "\n",
    "Sf = np.zeros((N_COMPARTMENTS, NP))\n",
    "If = np.zeros((N_COMPARTMENTS, NP))\n",
    "Rf = np.zeros((N_COMPARTMENTS, NP))\n",
    "for i in range(NP):\n",
    "\n",
    "    N_i = S_final[i,:] + I_final[i,:] + R_final[i,:]\n",
    "    Sf[:,i] = S_final[i,:]/N_i\n",
    "    If[:,i] = I_final[i,:]/N_i\n",
    "    Rf[:,i] = R_final[i,:]/N_i\n",
    "\n",
    "RI = Rf + If\n",
    "name = \"RI_fraction_SIRT_disconnected.pdf\"\n",
    "fig, ax = plt.subplots(figsize=(Lx/2.2, Ly))\n",
    "cax = ax.imshow(np.flipud(RI), cmap = my_hot_r, aspect = \"auto\", origin = \"lower\", extent = [0,1,0,1], vmin = 0, vmax = 1, interpolation = \"none\")\n",
    "cbar = fig.colorbar(cax, ax = ax)\n",
    "ax.set_yticks([0,0.5,1])\n",
    "fig.patch.set_visible(False)\n",
    "double_savefig(fig, ax, name, path_Plot_with_labels, path_Plot_without_labels, cbar=cbar)"
   ]
  },
  {
   "cell_type": "code",
   "execution_count": 12,
   "metadata": {},
   "outputs": [
    {
     "name": "stderr",
     "output_type": "stream",
     "text": [
      "No artists with labels found to put in legend.  Note that artists whose label start with an underscore are ignored when legend() is called with no argument.\n"
     ]
    },
    {
     "data": {
      "image/png": "[encoded data removed]",
      "text/plain": [
       "<Figure size 103.909x167.323 with 1 Axes>"
      ]
     },
     "metadata": {},
     "output_type": "display_data"
    }
   ],
   "source": [
    "NP = 100\n",
    "NS = 1\n",
    "N_COMPARTMENTS = 100\n",
    "\n",
    "\n",
    "test_max_range={\"m\": 0.3, \"M\": 0.3, \"n\": NS}\n",
    "pol_range={\"m\": 0, \"M\": 1, \"n\": NP}\n",
    "\n",
    "results = sweep_pol_SPB_SIRT(\n",
    "    test_max_range=test_max_range,\n",
    "    pol_range=pol_range,\n",
    "    h=0,\n",
    "    dT=1,\n",
    "    T=1000,\n",
    "    batch_size=1000,\n",
    "    susceptibility_rate = 0.25,\n",
    "    N_COMPARTMENTS = N_COMPARTMENTS\n",
    ")\n",
    "\n",
    "(S_final, I_final, R_final), _, _ = results\n",
    "\n",
    "S = S_final.reshape(NP, N_COMPARTMENTS).transpose()\n",
    "I = I_final.reshape(NP, N_COMPARTMENTS).transpose()\n",
    "R = R_final.reshape(NP, N_COMPARTMENTS).transpose()\n",
    "\n",
    "Sf = np.zeros((N_COMPARTMENTS, NP))\n",
    "If = np.zeros((N_COMPARTMENTS, NP))\n",
    "Rf = np.zeros((N_COMPARTMENTS, NP))\n",
    "for i in range(NP):\n",
    "\n",
    "    N_i = S_final[i,:] + I_final[i,:] + R_final[i,:]\n",
    "    Sf[:,i] = S_final[i,:]/N_i\n",
    "    If[:,i] = I_final[i,:]/N_i\n",
    "    Rf[:,i] = R_final[i,:]/N_i\n",
    "\n",
    "RI = Rf + If\n",
    "name = \"RI_fraction_SIRT.pdf\"\n",
    "fig, ax = plt.subplots(figsize=(Lx/2.2, Ly))\n",
    "cax = ax.imshow(np.flipud(RI), cmap = my_hot_r, aspect = \"auto\", origin = \"lower\", extent = [0,1,0,1], vmin = 0, vmax = 1, interpolation = \"none\")\n",
    "cbar = fig.colorbar(cax, ax = ax)\n",
    "ax.set_yticks([0,0.5,1])\n",
    "fig.patch.set_visible(False)\n",
    "double_savefig(fig, ax, name, path_Plot_with_labels, path_Plot_without_labels, cbar=cbar)"
   ]
  },
  {
   "cell_type": "code",
   "execution_count": 44,
   "metadata": {},
   "outputs": [
    {
     "name": "stderr",
     "output_type": "stream",
     "text": [
      "No artists with labels found to put in legend.  Note that artists whose label start with an underscore are ignored when legend() is called with no argument.\n"
     ]
    },
    {
     "data": {
      "image/png": "[encoded data removed]",
      "text/plain": [
       "<Figure size 103.909x167.323 with 1 Axes>"
      ]
     },
     "metadata": {},
     "output_type": "display_data"
    }
   ],
   "source": [
    "NP = 100\n",
    "NS = 1\n",
    "N_COMPARTMENTS = 100\n",
    "\n",
    "\n",
    "test_max_range={\"m\": 0.3, \"M\": 0.3, \"n\": NS}\n",
    "pol_range={\"m\": 0, \"M\": 1, \"n\": NP}\n",
    "\n",
    "results = sweep_pol_SPB_SIRT(\n",
    "    test_max_range=test_max_range,\n",
    "    pol_range=pol_range,\n",
    "    dT=1,\n",
    "    T=1000,\n",
    "    h = 10,\n",
    "    batch_size=1000,\n",
    "    susceptibility_rate = 0.25,\n",
    "    N_COMPARTMENTS = N_COMPARTMENTS\n",
    ")\n",
    "\n",
    "(S_final, I_final, R_final), _, _ = results\n",
    "\n",
    "S = S_final.reshape(NP, N_COMPARTMENTS).transpose()\n",
    "I = I_final.reshape(NP, N_COMPARTMENTS).transpose()\n",
    "R = R_final.reshape(NP, N_COMPARTMENTS).transpose()\n",
    "\n",
    "Sf = np.zeros((N_COMPARTMENTS, NP))\n",
    "If = np.zeros((N_COMPARTMENTS, NP))\n",
    "Rf = np.zeros((N_COMPARTMENTS, NP))\n",
    "for i in range(NP):\n",
    "\n",
    "    N_i = S_final[i,:] + I_final[i,:] + R_final[i,:]\n",
    "    Sf[:,i] = S_final[i,:]/N_i\n",
    "    If[:,i] = I_final[i,:]/N_i\n",
    "    Rf[:,i] = R_final[i,:]/N_i\n",
    "\n",
    "RI = Rf + If\n",
    "name = \"RI_fraction_SIRT_positive_h.pdf\"\n",
    "fig, ax = plt.subplots(figsize=(Lx/2.2, Ly))\n",
    "cax = ax.imshow(np.flipud(RI), cmap = my_hot_r, aspect = \"auto\", origin = \"lower\", extent = [0,1,0,1], vmin = 0, vmax = 1, interpolation = \"none\")\n",
    "cbar = fig.colorbar(cax, ax = ax)\n",
    "ax.set_yticks([0,0.5,1])\n",
    "fig.patch.set_visible(False)\n",
    "double_savefig(fig, ax, name, path_Plot_with_labels, path_Plot_without_labels, cbar=cbar)"
   ]
  },
  {
   "cell_type": "code",
   "execution_count": 45,
   "metadata": {},
   "outputs": [
    {
     "name": "stderr",
     "output_type": "stream",
     "text": [
      "No artists with labels found to put in legend.  Note that artists whose label start with an underscore are ignored when legend() is called with no argument.\n"
     ]
    },
    {
     "data": {
      "image/png": "[encoded data removed]",
      "text/plain": [
       "<Figure size 103.909x167.323 with 1 Axes>"
      ]
     },
     "metadata": {},
     "output_type": "display_data"
    }
   ],
   "source": [
    "NP = 100\n",
    "NS = 1\n",
    "N_COMPARTMENTS = 100\n",
    "\n",
    "\n",
    "test_max_range={\"m\": 0.3, \"M\": 0.3, \"n\": NS}\n",
    "pol_range={\"m\": 0, \"M\": 1, \"n\": NP}\n",
    "\n",
    "results = sweep_pol_SPB_SIRT(\n",
    "    test_max_range=test_max_range,\n",
    "    pol_range=pol_range,\n",
    "    h=-10,\n",
    "    dT=1,\n",
    "    T=1000,\n",
    "    batch_size=1000,\n",
    "    susceptibility_rate = 0.25,\n",
    "    N_COMPARTMENTS = N_COMPARTMENTS\n",
    ")\n",
    "\n",
    "(S_final, I_final, R_final), _, _ = results\n",
    "\n",
    "S = S_final.reshape(NP, N_COMPARTMENTS).transpose()\n",
    "I = I_final.reshape(NP, N_COMPARTMENTS).transpose()\n",
    "R = R_final.reshape(NP, N_COMPARTMENTS).transpose()\n",
    "\n",
    "Sf = np.zeros((N_COMPARTMENTS, NP))\n",
    "If = np.zeros((N_COMPARTMENTS, NP))\n",
    "Rf = np.zeros((N_COMPARTMENTS, NP))\n",
    "for i in range(NP):\n",
    "\n",
    "    N_i = S_final[i,:] + I_final[i,:] + R_final[i,:]\n",
    "    Sf[:,i] = S_final[i,:]/N_i\n",
    "    If[:,i] = I_final[i,:]/N_i\n",
    "    Rf[:,i] = R_final[i,:]/N_i\n",
    "\n",
    "RI = Rf + If\n",
    "name = \"RI_fraction_SIRT_negative_h.pdf\"\n",
    "fig, ax = plt.subplots(figsize=(Lx/2.2, Ly))\n",
    "cax = ax.imshow(np.flipud(RI), cmap = my_hot_r, aspect = \"auto\", origin = \"lower\", extent = [0,1,0,1], vmin = 0, vmax = 1, interpolation = \"none\")\n",
    "cbar = fig.colorbar(cax, ax = ax)\n",
    "ax.set_yticks([0,0.5,1])\n",
    "fig.patch.set_visible(False)\n",
    "double_savefig(fig, ax, name, path_Plot_with_labels, path_Plot_without_labels, cbar=cbar)"
   ]
  }
 ],
 "metadata": {
  "kernelspec": {
   "display_name": "Optimal",
   "language": "python",
   "name": "python3"
  },
  "language_info": {
   "codemirror_mode": {
    "name": "ipython",
    "version": 3
   },
   "file_extension": ".py",
   "mimetype": "text/x-python",
   "name": "python",
   "nbconvert_exporter": "python",
   "pygments_lexer": "ipython3",
   "version": "3.11.4"
  }
 },
 "nbformat": 4,
 "nbformat_minor": 2
}
