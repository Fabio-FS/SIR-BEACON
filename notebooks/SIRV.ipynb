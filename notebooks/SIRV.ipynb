{
 "cells": [
  {
   "cell_type": "code",
   "execution_count": 5,
   "metadata": {},
   "outputs": [
    {
     "name": "stdout",
     "output_type": "stream",
     "text": [
      "The autoreload extension is already loaded. To reload it, use:\n",
      "  %reload_ext autoreload\n"
     ]
    }
   ],
   "source": [
    "%load_ext autoreload\n",
    "%autoreload 2\n",
    "\n",
    "from src.models.SIRV import sweep_pol_SPB_SIRV, sweep_pol_mean_SIRV, sweep_pol_hom_SIRV\n",
    "#from src.models.SIRV_D import sweep_pol_SPB_SIRVD\n",
    "from src.utils.distributions import pol_to_alpha, homogeneous_distribution\n",
    "from plot_functions import *\n",
    "import numpy as np\n",
    "\n",
    "\n",
    "import matplotlib.pyplot as plt\n",
    "import seaborn as sns\n",
    "import os\n",
    "\n",
    "path_Plot_with_labels = \"../figures/with_labels/\"\n",
    "path_Plot_without_labels = \"../figures/no_labels/\"\n",
    "\n",
    "if not os.path.exists(path_Plot_with_labels):\n",
    "    os.makedirs(path_Plot_with_labels)\n",
    "\n",
    "if not os.path.exists(path_Plot_without_labels):\n",
    "    os.makedirs(path_Plot_without_labels)\n",
    "def ALPHAS(Np):\n",
    "    return pol_to_alpha(np.linspace(1/Np/2, 1-1/Np/2, Np)/4)\n",
    "\n",
    "\n",
    "\n",
    "my_hot_r = discretize_cmaps('hot_r', 12)\n",
    "my_hot_r.set_bad('gray')\n",
    "\n",
    "my_vir_r = discretize_cmaps('viridis_r', 12)\n",
    "my_vir_r.set_bad('gray')\n",
    "CP1 = ['#fdbb84','#fc8d59','#ef6548','#d7301f','#990000']   # POL\n",
    "CP2 = ['#d9f0a3','#addd8e','#78c679','#31a354','#006837']      # what varies is: MEAN\n",
    "CP3 = ['#d0d1e6','#a6bddb','#74a9cf','#2b8cbe','#045a8d']      # HOM"
   ]
  },
  {
   "cell_type": "code",
   "execution_count": 44,
   "metadata": {},
   "outputs": [],
   "source": [
    "NP = 100\n",
    "NS = 100\n",
    "\n",
    "vacc_max_range={\"m\": 0, \"M\": 0.1, \"n\": NS}\n",
    "pol_range={\"m\": 0, \"M\": 1, \"n\": NP}\n",
    "\n",
    "vaccs = np.linspace(vacc_max_range[\"m\"], vacc_max_range[\"M\"], vacc_max_range[\"n\"])\n",
    "pols = np.linspace(pol_range[\"m\"], pol_range[\"M\"], pol_range[\"n\"])\n",
    "\n",
    "results = sweep_pol_SPB_SIRV(\n",
    "    vacc_max_range=vacc_max_range,\n",
    "    pol_range=pol_range,\n",
    "    h=0,\n",
    "    dT=1,\n",
    "    T=1000,\n",
    "    batch_size=1000\n",
    ")\n",
    "\n",
    "(S_final, I_final, R_final, V_final), R0, OH = results\n",
    "S = np.sum(S_final, axis=1)\n",
    "I = np.sum(I_final, axis=1)\n",
    "R = np.sum(R_final, axis=1)\n",
    "V = np.sum(V_final, axis=1)\n",
    "\n",
    "# Reshape them to the original shape NP x NS\n",
    "S = S.reshape(NP, NS).transpose()\n",
    "I = I.reshape(NP, NS).transpose()\n",
    "R = R.reshape(NP, NS).transpose()\n",
    "V = V.reshape(NP, NS).transpose()\n",
    "R0 = R0.reshape(NP, NS).transpose()\n",
    "OH = OH.reshape(NP, NS).transpose()\n",
    "\n",
    "FIG_A_RI = R + I\n",
    "FIG_A_R0 = R0\n",
    "FIG_A_OH = OH\n",
    "FIG_A_V = V  # New plot for vaccination coverage"
   ]
  },
  {
   "cell_type": "code",
   "execution_count": 45,
   "metadata": {},
   "outputs": [
    {
     "data": {
      "image/png": "[encoded data removed]",
      "text/plain": [
       "<Figure size 457.201x167.323 with 4 Axes>"
      ]
     },
     "metadata": {},
     "output_type": "display_data"
    }
   ],
   "source": [
    "xi_M = np.linspace(0, 0.05, NS)  # Vaccination rate range\n",
    "pol = np.linspace(0,1, NP)\n",
    "name = \"I(pol,vacc)_SIRV.pdf\"\n",
    "\n",
    "fig, ax = plt.subplots(1,2, figsize=(2*Lx, Ly))  # Added one more subplot\n",
    "\n",
    "# Total removed (R+I+V)\n",
    "cax = ax[0].imshow(FIG_A_RI, cmap=my_hot_r, aspect=\"auto\", origin=\"lower\", \n",
    "                  extent=[0,1,0.001,0.05], vmin=0, vmax=1)\n",
    "cbar = fig.colorbar(cax, ax=ax[0])\n",
    "CS = ax[0].contour(pol, xi_M, FIG_A_RI, levels=[0.25, 0.5, 0.75], \n",
    "                   linewidths=1, colors=\"black\", linestyles=\"dashed\")\n",
    "#ax[0].set_title('Total Infected (R+I)')\n",
    "\n",
    "# R0\n",
    "cax = ax[1].imshow(FIG_A_R0, cmap=\"viridis_r\", aspect=\"auto\", origin=\"lower\", \n",
    "                   extent=[0,1,0.001,0.05], vmin=5, vmax=7)\n",
    "cbar = fig.colorbar(cax, ax=ax[1])\n",
    "CS = ax[1].contour(pol, xi_M, FIG_A_R0, levels=[1, 1.5, 2, 2.5], \n",
    "                   linewidths=1, colors=\"black\", linestyles=\"dashed\")\n",
    "\n",
    "\n",
    "fig.tight_layout()\n"
   ]
  },
  {
   "cell_type": "code",
   "execution_count": 46,
   "metadata": {},
   "outputs": [
    {
     "name": "stderr",
     "output_type": "stream",
     "text": [
      "No artists with labels found to put in legend.  Note that artists whose label start with an underscore are ignored when legend() is called with no argument.\n"
     ]
    },
    {
     "data": {
      "image/png": "[encoded data removed]",
      "text/plain": [
       "<Figure size 228.6x167.323 with 1 Axes>"
      ]
     },
     "metadata": {},
     "output_type": "display_data"
    }
   ],
   "source": [
    "name = \"I(pol,beta)_SIRV.pdf\"\n",
    "\n",
    "fig, ax = plt.subplots(figsize=(Lx, Ly))\n",
    "cax = ax.imshow(FIG_A_RI, cmap =  my_hot_r, aspect = \"auto\", origin = \"lower\", extent = [pols[0],pols[-1],vaccs[0],vaccs[-1]], vmin = 0, vmax = 1)\n",
    "cbar = fig.colorbar(cax, ax = ax)\n",
    "CS = ax.contour(pols, vaccs,np.array(FIG_A_RI), levels = [0.25, 0.5, 0.75], linewidths = 1, colors = \"black\", linestyles = \"dashed\")\n",
    "CS = ax.contour(pols, vaccs,FIG_A_R0, levels = [1.5, 2, 2.5], linewidths = 0.5, colors = \"black\")\n",
    "ax.set_xlim([0,1])\n",
    "ax.set_ylim([0,0.1])\n",
    "ax.set_xticks([0,.5,1])\n",
    "ax.set_yticks([0,vaccs[-1]/2,vaccs[-1]])\n",
    "\n",
    "fig.patch.set_visible(False)\n",
    "double_savefig(fig, ax, name, path_Plot_with_labels, path_Plot_without_labels, cbar=cbar)"
   ]
  },
  {
   "cell_type": "code",
   "execution_count": 47,
   "metadata": {},
   "outputs": [
    {
     "name": "stderr",
     "output_type": "stream",
     "text": [
      "No artists with labels found to put in legend.  Note that artists whose label start with an underscore are ignored when legend() is called with no argument.\n"
     ]
    },
    {
     "data": {
      "image/png": "[encoded data removed]",
      "text/plain": [
       "<Figure size 103.909x167.323 with 1 Axes>"
      ]
     },
     "metadata": {},
     "output_type": "display_data"
    }
   ],
   "source": [
    "name = \"R0(pol,beta)_SIRV.pdf\"\n",
    "\n",
    "fig, ax = plt.subplots(figsize=(Lx/2.2, Ly))\n",
    "cax = ax.imshow(FIG_A_R0, cmap =  my_vir_r, aspect = \"auto\", origin = \"lower\", extent = [pols[0],pols[-1],vaccs[0],vaccs[-1]], vmin = 5.001, vmax = 7.001)\n",
    "cbar = fig.colorbar(cax, ax = ax)\n",
    "CS = ax.contour(pols, vaccs,FIG_A_RI, levels = [0.25, 0.5, 0.75], linewidths = 0.5, colors = \"black\", linestyles = \"dashed\")\n",
    "ax.set_xticks([0,.5,1])\n",
    "ax.set_yticks([0,vaccs[-1]/2,vaccs[-1]])\n",
    "fig.patch.set_visible(False)\n",
    "double_savefig(fig, ax, name, path_Plot_with_labels, path_Plot_without_labels, cbar=cbar)"
   ]
  },
  {
   "cell_type": "code",
   "execution_count": 51,
   "metadata": {},
   "outputs": [
    {
     "ename": "KeyboardInterrupt",
     "evalue": "",
     "output_type": "error",
     "traceback": [
      "\u001b[1;31m---------------------------------------------------------------------------\u001b[0m",
      "\u001b[1;31mKeyboardInterrupt\u001b[0m                         Traceback (most recent call last)",
      "Cell \u001b[1;32mIn[51], line 35\u001b[0m\n\u001b[0;32m     32\u001b[0m Vf \u001b[38;5;241m=\u001b[39m np\u001b[38;5;241m.\u001b[39mzeros((N_COMPARTMENTS, NP))\n\u001b[0;32m     33\u001b[0m \u001b[38;5;28;01mfor\u001b[39;00m i \u001b[38;5;129;01min\u001b[39;00m \u001b[38;5;28mrange\u001b[39m(NP):\n\u001b[1;32m---> 35\u001b[0m     N_i \u001b[38;5;241m=\u001b[39m S_final[i,:] \u001b[38;5;241m+\u001b[39m I_final[i,:] \u001b[38;5;241m+\u001b[39m R_final[i,:] \u001b[38;5;241m+\u001b[39m V_final[i,:]\n\u001b[0;32m     36\u001b[0m     Sf[:,i] \u001b[38;5;241m=\u001b[39m S_final[i,:]\u001b[38;5;241m/\u001b[39mN_i\n\u001b[0;32m     37\u001b[0m     If[:,i] \u001b[38;5;241m=\u001b[39m I_final[i,:]\u001b[38;5;241m/\u001b[39mN_i\n",
      "File \u001b[1;32mc:\\Users\\nel_t\\anaconda3\\envs\\Optimal\\Lib\\site-packages\\jax\\_src\\array.py:319\u001b[0m, in \u001b[0;36mArrayImpl.__getitem__\u001b[1;34m(self, idx)\u001b[0m\n\u001b[0;32m    317\u001b[0m   \u001b[38;5;28;01mreturn\u001b[39;00m lax_numpy\u001b[38;5;241m.\u001b[39m_rewriting_take(\u001b[38;5;28mself\u001b[39m, idx)\n\u001b[0;32m    318\u001b[0m \u001b[38;5;28;01melse\u001b[39;00m:\n\u001b[1;32m--> 319\u001b[0m   \u001b[38;5;28;01mreturn\u001b[39;00m lax_numpy\u001b[38;5;241m.\u001b[39m_rewriting_take(\u001b[38;5;28mself\u001b[39m, idx)\n",
      "File \u001b[1;32mc:\\Users\\nel_t\\anaconda3\\envs\\Optimal\\Lib\\site-packages\\jax\\_src\\numpy\\lax_numpy.py:4138\u001b[0m, in \u001b[0;36m_rewriting_take\u001b[1;34m(arr, idx, indices_are_sorted, unique_indices, mode, fill_value)\u001b[0m\n\u001b[0;32m   4129\u001b[0m \u001b[38;5;28;01mdef\u001b[39;00m \u001b[38;5;21m_rewriting_take\u001b[39m(arr, idx, indices_are_sorted\u001b[38;5;241m=\u001b[39m\u001b[38;5;28;01mFalse\u001b[39;00m, unique_indices\u001b[38;5;241m=\u001b[39m\u001b[38;5;28;01mFalse\u001b[39;00m,\n\u001b[0;32m   4130\u001b[0m                     mode\u001b[38;5;241m=\u001b[39m\u001b[38;5;28;01mNone\u001b[39;00m, fill_value\u001b[38;5;241m=\u001b[39m\u001b[38;5;28;01mNone\u001b[39;00m):\n\u001b[0;32m   4131\u001b[0m   \u001b[38;5;66;03m# Computes arr[idx].\u001b[39;00m\n\u001b[1;32m   (...)\u001b[0m\n\u001b[0;32m   4135\u001b[0m   \u001b[38;5;66;03m# For simplicity of generated primitives, we call lax.dynamic_slice in the\u001b[39;00m\n\u001b[0;32m   4136\u001b[0m   \u001b[38;5;66;03m# simplest cases: i.e. non-dynamic arrays indexed with integers and slices.\u001b[39;00m\n\u001b[1;32m-> 4138\u001b[0m   \u001b[38;5;28;01mif\u001b[39;00m (result \u001b[38;5;241m:=\u001b[39m _attempt_rewriting_take_via_slice(arr, idx, mode)) \u001b[38;5;129;01mis\u001b[39;00m \u001b[38;5;129;01mnot\u001b[39;00m \u001b[38;5;28;01mNone\u001b[39;00m:\n\u001b[0;32m   4139\u001b[0m     \u001b[38;5;28;01mreturn\u001b[39;00m result\n\u001b[0;32m   4141\u001b[0m   \u001b[38;5;66;03m# TODO(mattjj,dougalm): expand dynamic shape indexing support\u001b[39;00m\n",
      "File \u001b[1;32mc:\\Users\\nel_t\\anaconda3\\envs\\Optimal\\Lib\\site-packages\\jax\\_src\\numpy\\lax_numpy.py:4123\u001b[0m, in \u001b[0;36m_attempt_rewriting_take_via_slice\u001b[1;34m(arr, idx, mode)\u001b[0m\n\u001b[0;32m   4121\u001b[0m \u001b[38;5;28;01mif\u001b[39;00m \u001b[38;5;28mlen\u001b[39m(start_indices) \u001b[38;5;241m>\u001b[39m \u001b[38;5;241m1\u001b[39m:\n\u001b[0;32m   4122\u001b[0m   start_indices \u001b[38;5;241m=\u001b[39m util\u001b[38;5;241m.\u001b[39mpromote_dtypes(\u001b[38;5;241m*\u001b[39mstart_indices)\n\u001b[1;32m-> 4123\u001b[0m arr \u001b[38;5;241m=\u001b[39m lax\u001b[38;5;241m.\u001b[39mdynamic_slice(arr, start_indices\u001b[38;5;241m=\u001b[39mstart_indices, slice_sizes\u001b[38;5;241m=\u001b[39mslice_sizes)\n\u001b[0;32m   4124\u001b[0m \u001b[38;5;28;01mif\u001b[39;00m int_indices:\n\u001b[0;32m   4125\u001b[0m   arr \u001b[38;5;241m=\u001b[39m lax\u001b[38;5;241m.\u001b[39msqueeze(arr, \u001b[38;5;28mtuple\u001b[39m(int_indices))\n",
      "File \u001b[1;32mc:\\Users\\nel_t\\anaconda3\\envs\\Optimal\\Lib\\site-packages\\jax\\_src\\lax\\slicing.py:157\u001b[0m, in \u001b[0;36mdynamic_slice\u001b[1;34m(operand, start_indices, slice_sizes)\u001b[0m\n\u001b[0;32m    109\u001b[0m \u001b[38;5;28;01mdef\u001b[39;00m \u001b[38;5;21mdynamic_slice\u001b[39m(\n\u001b[0;32m    110\u001b[0m     operand: Union[Array, np\u001b[38;5;241m.\u001b[39mndarray],\n\u001b[0;32m    111\u001b[0m     start_indices: Union[Union[Array, np\u001b[38;5;241m.\u001b[39mndarray], Sequence[ArrayLike]],\n\u001b[0;32m    112\u001b[0m     slice_sizes: Shape,\n\u001b[0;32m    113\u001b[0m ) \u001b[38;5;241m-\u001b[39m\u001b[38;5;241m>\u001b[39m Array:\n\u001b[0;32m    114\u001b[0m \u001b[38;5;250m  \u001b[39m\u001b[38;5;124;03m\"\"\"Wraps XLA's `DynamicSlice\u001b[39;00m\n\u001b[0;32m    115\u001b[0m \u001b[38;5;124;03m  <https://www.tensorflow.org/xla/operation_semantics#dynamicslice>`_\u001b[39;00m\n\u001b[0;32m    116\u001b[0m \u001b[38;5;124;03m  operator.\u001b[39;00m\n\u001b[1;32m   (...)\u001b[0m\n\u001b[0;32m    155\u001b[0m \u001b[38;5;124;03m    - :func:`jax.lax.dynamic_index_in_dim`\u001b[39;00m\n\u001b[0;32m    156\u001b[0m \u001b[38;5;124;03m  \"\"\"\u001b[39;00m\n\u001b[1;32m--> 157\u001b[0m   start_indices \u001b[38;5;241m=\u001b[39m _dynamic_slice_indices(operand, start_indices)\n\u001b[0;32m    158\u001b[0m   \u001b[38;5;28;01mif\u001b[39;00m jax\u001b[38;5;241m.\u001b[39mconfig\u001b[38;5;241m.\u001b[39mjax_dynamic_shapes:\n\u001b[0;32m    159\u001b[0m     dynamic_sizes, static_sizes \u001b[38;5;241m=\u001b[39m lax\u001b[38;5;241m.\u001b[39m_extract_tracers_dyn_shape(slice_sizes)\n",
      "File \u001b[1;32mc:\\Users\\nel_t\\anaconda3\\envs\\Optimal\\Lib\\site-packages\\jax\\_src\\lax\\slicing.py:2577\u001b[0m, in \u001b[0;36m_dynamic_slice_indices\u001b[1;34m(operand, start_indices)\u001b[0m\n\u001b[0;32m   2575\u001b[0m     \u001b[38;5;28;01mcontinue\u001b[39;00m\n\u001b[0;32m   2576\u001b[0m   d_arr \u001b[38;5;241m=\u001b[39m lax\u001b[38;5;241m.\u001b[39mconvert_element_type(d, _dtype(i))\n\u001b[1;32m-> 2577\u001b[0m   result\u001b[38;5;241m.\u001b[39mappend(lax\u001b[38;5;241m.\u001b[39mselect(i \u001b[38;5;241m<\u001b[39m \u001b[38;5;241m0\u001b[39m, i \u001b[38;5;241m+\u001b[39m d_arr, i))\n\u001b[0;32m   2578\u001b[0m \u001b[38;5;28;01mreturn\u001b[39;00m result\n",
      "File \u001b[1;32mc:\\Users\\nel_t\\anaconda3\\envs\\Optimal\\Lib\\site-packages\\jax\\_src\\lax\\lax.py:918\u001b[0m, in \u001b[0;36mselect\u001b[1;34m(pred, on_true, on_false)\u001b[0m\n\u001b[0;32m    896\u001b[0m \u001b[38;5;250m\u001b[39m\u001b[38;5;124;03m\"\"\"Selects between two branches based on a boolean predicate.\u001b[39;00m\n\u001b[0;32m    897\u001b[0m \n\u001b[0;32m    898\u001b[0m \u001b[38;5;124;03mWraps XLA's `Select\u001b[39;00m\n\u001b[1;32m   (...)\u001b[0m\n\u001b[0;32m    914\u001b[0m \u001b[38;5;124;03m  result: array with same shape and dtype as ``on_true`` and ``on_false``.\u001b[39;00m\n\u001b[0;32m    915\u001b[0m \u001b[38;5;124;03m\"\"\"\u001b[39;00m\n\u001b[0;32m    916\u001b[0m \u001b[38;5;66;03m# Caution! The select_n_p primitive has the *opposite* order of arguments to\u001b[39;00m\n\u001b[0;32m    917\u001b[0m \u001b[38;5;66;03m# select(). This is because it implements `select_n`.\u001b[39;00m\n\u001b[1;32m--> 918\u001b[0m \u001b[38;5;28;01mreturn\u001b[39;00m select_n_p\u001b[38;5;241m.\u001b[39mbind(pred, on_false, on_true)\n",
      "File \u001b[1;32mc:\\Users\\nel_t\\anaconda3\\envs\\Optimal\\Lib\\site-packages\\jax\\_src\\core.py:386\u001b[0m, in \u001b[0;36mPrimitive.bind\u001b[1;34m(self, *args, **params)\u001b[0m\n\u001b[0;32m    383\u001b[0m \u001b[38;5;28;01mdef\u001b[39;00m \u001b[38;5;21mbind\u001b[39m(\u001b[38;5;28mself\u001b[39m, \u001b[38;5;241m*\u001b[39margs, \u001b[38;5;241m*\u001b[39m\u001b[38;5;241m*\u001b[39mparams):\n\u001b[0;32m    384\u001b[0m   \u001b[38;5;28;01massert\u001b[39;00m (\u001b[38;5;129;01mnot\u001b[39;00m config\u001b[38;5;241m.\u001b[39mjax_enable_checks \u001b[38;5;129;01mor\u001b[39;00m\n\u001b[0;32m    385\u001b[0m           \u001b[38;5;28mall\u001b[39m(\u001b[38;5;28misinstance\u001b[39m(arg, Tracer) \u001b[38;5;129;01mor\u001b[39;00m valid_jaxtype(arg) \u001b[38;5;28;01mfor\u001b[39;00m arg \u001b[38;5;129;01min\u001b[39;00m args)), args\n\u001b[1;32m--> 386\u001b[0m   \u001b[38;5;28;01mreturn\u001b[39;00m \u001b[38;5;28mself\u001b[39m\u001b[38;5;241m.\u001b[39mbind_with_trace(find_top_trace(args), args, params)\n",
      "File \u001b[1;32mc:\\Users\\nel_t\\anaconda3\\envs\\Optimal\\Lib\\site-packages\\jax\\_src\\core.py:389\u001b[0m, in \u001b[0;36mPrimitive.bind_with_trace\u001b[1;34m(self, trace, args, params)\u001b[0m\n\u001b[0;32m    388\u001b[0m \u001b[38;5;28;01mdef\u001b[39;00m \u001b[38;5;21mbind_with_trace\u001b[39m(\u001b[38;5;28mself\u001b[39m, trace, args, params):\n\u001b[1;32m--> 389\u001b[0m   out \u001b[38;5;241m=\u001b[39m trace\u001b[38;5;241m.\u001b[39mprocess_primitive(\u001b[38;5;28mself\u001b[39m, \u001b[38;5;28mmap\u001b[39m(trace\u001b[38;5;241m.\u001b[39mfull_raise, args), params)\n\u001b[0;32m    390\u001b[0m   \u001b[38;5;28;01mreturn\u001b[39;00m \u001b[38;5;28mmap\u001b[39m(full_lower, out) \u001b[38;5;28;01mif\u001b[39;00m \u001b[38;5;28mself\u001b[39m\u001b[38;5;241m.\u001b[39mmultiple_results \u001b[38;5;28;01melse\u001b[39;00m full_lower(out)\n",
      "File \u001b[1;32mc:\\Users\\nel_t\\anaconda3\\envs\\Optimal\\Lib\\site-packages\\jax\\_src\\core.py:821\u001b[0m, in \u001b[0;36mEvalTrace.process_primitive\u001b[1;34m(self, primitive, tracers, params)\u001b[0m\n\u001b[0;32m    820\u001b[0m \u001b[38;5;28;01mdef\u001b[39;00m \u001b[38;5;21mprocess_primitive\u001b[39m(\u001b[38;5;28mself\u001b[39m, primitive, tracers, params):\n\u001b[1;32m--> 821\u001b[0m   \u001b[38;5;28;01mreturn\u001b[39;00m primitive\u001b[38;5;241m.\u001b[39mimpl(\u001b[38;5;241m*\u001b[39mtracers, \u001b[38;5;241m*\u001b[39m\u001b[38;5;241m*\u001b[39mparams)\n",
      "File \u001b[1;32mc:\\Users\\nel_t\\anaconda3\\envs\\Optimal\\Lib\\site-packages\\jax\\_src\\dispatch.py:143\u001b[0m, in \u001b[0;36mapply_primitive\u001b[1;34m(prim, *args, **params)\u001b[0m\n\u001b[0;32m    139\u001b[0m   msg \u001b[38;5;241m=\u001b[39m pjit\u001b[38;5;241m.\u001b[39m_device_assignment_mismatch_error(\n\u001b[0;32m    140\u001b[0m       prim\u001b[38;5;241m.\u001b[39mname, fails, args, \u001b[38;5;124m'\u001b[39m\u001b[38;5;124mjit\u001b[39m\u001b[38;5;124m'\u001b[39m, arg_names)\n\u001b[0;32m    141\u001b[0m   \u001b[38;5;28;01mraise\u001b[39;00m \u001b[38;5;167;01mValueError\u001b[39;00m(msg) \u001b[38;5;28;01mfrom\u001b[39;00m \u001b[38;5;28;01mNone\u001b[39;00m\n\u001b[1;32m--> 143\u001b[0m \u001b[38;5;28;01mreturn\u001b[39;00m compiled_fun(\u001b[38;5;241m*\u001b[39margs)\n",
      "File \u001b[1;32mc:\\Users\\nel_t\\anaconda3\\envs\\Optimal\\Lib\\site-packages\\jax\\_src\\dispatch.py:226\u001b[0m, in \u001b[0;36mxla_primitive_callable.<locals>.<lambda>\u001b[1;34m(*args, **kw)\u001b[0m\n\u001b[0;32m    222\u001b[0m compiled \u001b[38;5;241m=\u001b[39m _xla_callable_uncached(\n\u001b[0;32m    223\u001b[0m     lu\u001b[38;5;241m.\u001b[39mwrap_init(prim_fun), prim\u001b[38;5;241m.\u001b[39mname, donated_invars, \u001b[38;5;28;01mFalse\u001b[39;00m, in_avals,\n\u001b[0;32m    224\u001b[0m     orig_in_shardings)\n\u001b[0;32m    225\u001b[0m \u001b[38;5;28;01mif\u001b[39;00m \u001b[38;5;129;01mnot\u001b[39;00m prim\u001b[38;5;241m.\u001b[39mmultiple_results:\n\u001b[1;32m--> 226\u001b[0m   \u001b[38;5;28;01mreturn\u001b[39;00m \u001b[38;5;28;01mlambda\u001b[39;00m \u001b[38;5;241m*\u001b[39margs, \u001b[38;5;241m*\u001b[39m\u001b[38;5;241m*\u001b[39mkw: compiled(\u001b[38;5;241m*\u001b[39margs, \u001b[38;5;241m*\u001b[39m\u001b[38;5;241m*\u001b[39mkw)[\u001b[38;5;241m0\u001b[39m]\n\u001b[0;32m    227\u001b[0m \u001b[38;5;28;01melse\u001b[39;00m:\n\u001b[0;32m    228\u001b[0m   \u001b[38;5;28;01mreturn\u001b[39;00m compiled\n",
      "File \u001b[1;32mc:\\Users\\nel_t\\anaconda3\\envs\\Optimal\\Lib\\site-packages\\jax\\_src\\profiler.py:314\u001b[0m, in \u001b[0;36mannotate_function.<locals>.wrapper\u001b[1;34m(*args, **kwargs)\u001b[0m\n\u001b[0;32m    311\u001b[0m \u001b[38;5;129m@wraps\u001b[39m(func)\n\u001b[0;32m    312\u001b[0m \u001b[38;5;28;01mdef\u001b[39;00m \u001b[38;5;21mwrapper\u001b[39m(\u001b[38;5;241m*\u001b[39margs, \u001b[38;5;241m*\u001b[39m\u001b[38;5;241m*\u001b[39mkwargs):\n\u001b[0;32m    313\u001b[0m   \u001b[38;5;28;01mwith\u001b[39;00m TraceAnnotation(name, \u001b[38;5;241m*\u001b[39m\u001b[38;5;241m*\u001b[39mdecorator_kwargs):\n\u001b[1;32m--> 314\u001b[0m     \u001b[38;5;28;01mreturn\u001b[39;00m func(\u001b[38;5;241m*\u001b[39margs, \u001b[38;5;241m*\u001b[39m\u001b[38;5;241m*\u001b[39mkwargs)\n\u001b[0;32m    315\u001b[0m   \u001b[38;5;28;01mreturn\u001b[39;00m wrapper\n",
      "File \u001b[1;32mc:\\Users\\nel_t\\anaconda3\\envs\\Optimal\\Lib\\site-packages\\jax\\_src\\interpreters\\pxla.py:1229\u001b[0m, in \u001b[0;36mExecuteReplicated.__call__\u001b[1;34m(self, *args)\u001b[0m\n\u001b[0;32m   1224\u001b[0m   \u001b[38;5;28mself\u001b[39m\u001b[38;5;241m.\u001b[39m_handle_token_bufs(\n\u001b[0;32m   1225\u001b[0m       results\u001b[38;5;241m.\u001b[39mdisassemble_prefix_into_single_device_arrays(\n\u001b[0;32m   1226\u001b[0m           \u001b[38;5;28mlen\u001b[39m(\u001b[38;5;28mself\u001b[39m\u001b[38;5;241m.\u001b[39mordered_effects)),\n\u001b[0;32m   1227\u001b[0m       results\u001b[38;5;241m.\u001b[39mconsume_token())\n\u001b[0;32m   1228\u001b[0m \u001b[38;5;28;01melse\u001b[39;00m:\n\u001b[1;32m-> 1229\u001b[0m   results \u001b[38;5;241m=\u001b[39m \u001b[38;5;28mself\u001b[39m\u001b[38;5;241m.\u001b[39mxla_executable\u001b[38;5;241m.\u001b[39mexecute_sharded(input_bufs)\n\u001b[0;32m   1230\u001b[0m \u001b[38;5;28;01mif\u001b[39;00m dispatch\u001b[38;5;241m.\u001b[39mneeds_check_special():\n\u001b[0;32m   1231\u001b[0m   out_arrays \u001b[38;5;241m=\u001b[39m results\u001b[38;5;241m.\u001b[39mdisassemble_into_single_device_arrays()\n",
      "\u001b[1;31mKeyboardInterrupt\u001b[0m: "
     ]
    }
   ],
   "source": [
    "NP = 100\n",
    "NS = 1\n",
    "N_COMPARTMENTS = 100\n",
    "\n",
    "\n",
    "vacc_max_range={\"m\": 0.075, \"M\": 0.075, \"n\": NS}\n",
    "pol_range={\"m\": 0, \"M\": 1, \"n\": NP}\n",
    "\n",
    "vaccs = np.linspace(vacc_max_range[\"m\"], vacc_max_range[\"M\"], vacc_max_range[\"n\"])\n",
    "pols = np.linspace(pol_range[\"m\"], pol_range[\"M\"], pol_range[\"n\"])\n",
    "\n",
    "results = sweep_pol_SPB_SIRV(\n",
    "    vacc_max_range=vacc_max_range,\n",
    "    pol_range=pol_range,\n",
    "    h=0,\n",
    "    dT=1,\n",
    "    T=1000,\n",
    "    batch_size=1000,\n",
    "    N_COMPARTMENTS=N_COMPARTMENTS\n",
    ")\n",
    "\n",
    "(S_final, I_final, R_final, V_final), _, _ = results\n",
    "\n",
    "S = S_final.reshape(NP, N_COMPARTMENTS).transpose()\n",
    "I = I_final.reshape(NP, N_COMPARTMENTS).transpose()\n",
    "R = R_final.reshape(NP, N_COMPARTMENTS).transpose()\n",
    "V = V_final.reshape(NP, N_COMPARTMENTS).transpose()\n",
    "\n",
    "Sf = np.zeros((N_COMPARTMENTS, NP))\n",
    "If = np.zeros((N_COMPARTMENTS, NP))\n",
    "Rf = np.zeros((N_COMPARTMENTS, NP))\n",
    "Vf = np.zeros((N_COMPARTMENTS, NP))\n",
    "for i in range(NP):\n",
    "\n",
    "    N_i = S_final[i,:] + I_final[i,:] + R_final[i,:] + V_final[i,:]\n",
    "    Sf[:,i] = S_final[i,:]/N_i\n",
    "    If[:,i] = I_final[i,:]/N_i\n",
    "    Rf[:,i] = R_final[i,:]/N_i\n",
    "    Vf[:,i] = V_final[i,:]/N_i\n",
    "\n",
    "RI = Rf + If\n",
    "name = \"RI_fraction_SIRV.pdf\"\n",
    "fig, ax = plt.subplots(figsize=(Lx/2.2, Ly))\n",
    "cax = ax.imshow(np.flipud(RI), cmap = my_hot_r, aspect = \"auto\", origin = \"lower\", extent = [0,1,0,1], vmin = 0, vmax = 1, interpolation = \"none\")\n",
    "cbar = fig.colorbar(cax, ax = ax)\n",
    "ax.set_yticks([0,0.5,1])\n",
    "\n",
    "fig.patch.set_visible(False)\n",
    "double_savefig(fig, ax, name, path_Plot_with_labels, path_Plot_without_labels, cbar=cbar)"
   ]
  },
  {
   "cell_type": "code",
   "execution_count": null,
   "metadata": {},
   "outputs": [
    {
     "name": "stderr",
     "output_type": "stream",
     "text": [
      "No artists with labels found to put in legend.  Note that artists whose label start with an underscore are ignored when legend() is called with no argument.\n"
     ]
    },
    {
     "data": {
      "image/png": "[encoded data removed]",
      "text/plain": [
       "<Figure size 103.909x167.323 with 1 Axes>"
      ]
     },
     "metadata": {},
     "output_type": "display_data"
    }
   ],
   "source": []
  },
  {
   "cell_type": "code",
   "execution_count": 29,
   "metadata": {},
   "outputs": [],
   "source": [
    "NP = 100  # number of polarization points\n",
    "NM = 100  # number of mean points\n",
    "pol_range={\"m\": 0, \"M\": 1, \"n\": NP}  # polarization range\n",
    "mean_range={\"m\": 0.0, \"M\": 1.0, \"n\": NM}         # mean range\n",
    "\n",
    "pols = homogeneous_distribution(NP, 0, 1)\n",
    "means  = homogeneous_distribution(NM, 0, 1)\n",
    "\n",
    "results = sweep_pol_mean_SIRV(\n",
    "    mean_range=mean_range,\n",
    "    pol_range=pol_range,\n",
    "    h=0,\n",
    "    dT=1,\n",
    "    T=1000,\n",
    "    susceptibility_rate=0.6,  # This replaces the susceptibility range\n",
    "    batch_size=1000,\n",
    "    vaccination_rate=0.06\n",
    ")\n",
    "\n",
    "(S_final, I_final, R_final, V_final), R0, OH = results\n",
    "S = np.sum(S_final, axis=1)\n",
    "I = np.sum(I_final, axis=1)\n",
    "R = np.sum(R_final, axis=1)\n",
    "\n",
    "# Reshape arrays\n",
    "S = np.flipud(S.reshape(NP, NM))\n",
    "I = np.flipud(I.reshape(NP, NM))\n",
    "R = np.flipud(R.reshape(NP, NM))\n",
    "R0 = np.flipud(R0.reshape(NP, NM))\n",
    "OH = np.flipud(OH.reshape(NP, NM))\n",
    "\n",
    "FIG_B_RI = R + I\n",
    "FIG_B_R0 = R0\n",
    "FIG_B_OH = OH"
   ]
  },
  {
   "cell_type": "code",
   "execution_count": null,
   "metadata": {},
   "outputs": [],
   "source": []
  },
  {
   "cell_type": "code",
   "execution_count": 30,
   "metadata": {},
   "outputs": [
    {
     "data": {
      "image/png": "[encoded data removed]",
      "text/plain": [
       "<Figure size 457.201x167.323 with 4 Axes>"
      ]
     },
     "metadata": {},
     "output_type": "display_data"
    }
   ],
   "source": [
    "# Create axis values\n",
    "mean_vals = np.linspace(0.0, 1.0, NM)\n",
    "pol = np.linspace(1/NP/2, 1-1/NP/2, NP)\n",
    "\n",
    "# Plotting\n",
    "fig, ax = plt.subplots(1,2, figsize=(2*Lx, Ly))\n",
    "\n",
    "cax = ax[0].imshow(FIG_B_RI,  cmap=my_hot_r,  aspect=\"auto\", origin=\"lower\", \n",
    "    extent=[0, 1, 0, 1],  # Note: changed to [0,1,0,1] since both axes are now in [0,1]\n",
    "    vmin=0, vmax=1)\n",
    "cbar = fig.colorbar(cax, ax=ax[0])\n",
    "\n",
    "CS = ax[0].contour(pol, mean_vals, FIG_B_RI, \n",
    "    levels=[0.25, 0.5, 0.75], linewidths=1, \n",
    "    colors=\"black\", linestyles=\"dashed\")\n",
    "\n",
    "cax = ax[1].imshow(FIG_B_R0, cmap=my_vir_r, aspect=\"auto\", origin=\"lower\",\n",
    "    extent=[0, 1, 0, 1], vmin = 4.999, vmax = 7.002)  # Note: changed to [0,1,0,1] since both axes are now in [0,1]\n",
    "cbar = fig.colorbar(cax, ax=ax[1])\n",
    "\n",
    "fig.tight_layout()"
   ]
  },
  {
   "cell_type": "code",
   "execution_count": 31,
   "metadata": {},
   "outputs": [
    {
     "name": "stderr",
     "output_type": "stream",
     "text": [
      "No artists with labels found to put in legend.  Note that artists whose label start with an underscore are ignored when legend() is called with no argument.\n"
     ]
    },
    {
     "data": {
      "image/png": "[encoded data removed]",
      "text/plain": [
       "<Figure size 228.6x167.323 with 1 Axes>"
      ]
     },
     "metadata": {},
     "output_type": "display_data"
    }
   ],
   "source": [
    "col_pol_circles = [\"#1b9e77\", \"#7570b3\"]\n",
    "name = \"I(pol,mean)_SIRV.pdf\"\n",
    "\n",
    "fig, ax = plt.subplots(figsize=(Lx, Ly))\n",
    "cax = ax.imshow(FIG_B_RI, cmap =  my_hot_r, aspect = \"auto\", origin = \"lower\", extent = [pol_range[\"m\"],pol_range[\"M\"],mean_range[\"m\"],mean_range[\"M\"]], vmin = 0, vmax = 1)\n",
    "cbar = fig.colorbar(cax, ax = ax)\n",
    "CS = ax.contour(pol, mean_vals, FIG_B_RI, \n",
    "    levels=[0.25, 0.5, 0.75], linewidths=0.5, \n",
    "    colors=\"black\", linestyles=\"dashed\")\n",
    "\n",
    "Xs = np.array([0.1, 0.3, 0.5, 0.7, 0.9])\n",
    "Ys = np.zeros(5)+0.001\n",
    "\n",
    "#ax.plot(1-Xs, 1-Ys, 'o', color='black', markersize=1)\n",
    "#ax.plot(1-Ys, 1-Xs, 'o', color='black', markersize=1)\n",
    "\n",
    "Xs = np.array([0.1, 0.1, 1/3, 1/3, 0.9, 0.9])\n",
    "Ys = np.array([0.1, 0.5, 0.35, 0.5, 0.35, 0.5])\n",
    "Colors = [col_pol_circles[0], col_pol_circles[1],col_pol_circles[0], col_pol_circles[1],col_pol_circles[0], col_pol_circles[1]]\n",
    "\n",
    "ax.scatter(Xs, Ys, c=Colors, marker='o', s=30, zorder = 100,edgecolors='black')\n",
    "\n",
    "ax.set_xticks([0,0.5,1])\n",
    "ax.set_yticks([0,0.5,1])\n",
    "fig.patch.set_visible(False)\n",
    "double_savefig(fig, ax, name, path_Plot_with_labels, path_Plot_without_labels, cbar=cbar)"
   ]
  },
  {
   "cell_type": "code",
   "execution_count": 32,
   "metadata": {},
   "outputs": [
    {
     "name": "stderr",
     "output_type": "stream",
     "text": [
      "No artists with labels found to put in legend.  Note that artists whose label start with an underscore are ignored when legend() is called with no argument.\n"
     ]
    },
    {
     "data": {
      "image/png": "[encoded data removed]",
      "text/plain": [
       "<Figure size 103.909x167.323 with 1 Axes>"
      ]
     },
     "metadata": {},
     "output_type": "display_data"
    }
   ],
   "source": [
    "name = \"R0(pol,mean)_SIRV.pdf\"\n",
    "\n",
    "fig, ax = plt.subplots(figsize=(Lx/2.2, Ly))\n",
    "cax = ax.imshow(FIG_B_R0, cmap =  my_vir_r, aspect = \"auto\", origin = \"lower\", extent = [pol_range[\"m\"],pol_range[\"M\"],mean_range[\"m\"],mean_range[\"M\"]], vmin = 5.001, vmax = 7.001)\n",
    "cbar = fig.colorbar(cax, ax = ax)\n",
    "CS = ax.contour(pol, mean_vals, FIG_B_RI, \n",
    "    levels=[0.25, 0.5, 0.75], linewidths=0.5, \n",
    "    colors=\"black\", linestyles=\"dashed\")\n",
    "ax.set_xticks([0,1])\n",
    "ax.set_yticks([])\n",
    "fig.patch.set_visible(False)\n",
    "double_savefig(fig, ax, name, path_Plot_with_labels, path_Plot_without_labels, cbar=cbar)\n"
   ]
  },
  {
   "cell_type": "code",
   "execution_count": 33,
   "metadata": {},
   "outputs": [
    {
     "name": "stderr",
     "output_type": "stream",
     "text": [
      "No artists with labels found to put in legend.  Note that artists whose label start with an underscore are ignored when legend() is called with no argument.\n",
      "No artists with labels found to put in legend.  Note that artists whose label start with an underscore are ignored when legend() is called with no argument.\n"
     ]
    },
    {
     "data": {
      "image/png": "[encoded data removed]",
      "text/plain": [
       "<Figure size 103.909x167.323 with 1 Axes>"
      ]
     },
     "metadata": {},
     "output_type": "display_data"
    },
    {
     "data": {
      "image/png": "[encoded data removed]",
      "text/plain": [
       "<Figure size 103.909x167.323 with 1 Axes>"
      ]
     },
     "metadata": {},
     "output_type": "display_data"
    }
   ],
   "source": [
    "NP = 5  # number of polarization points\n",
    "NM = 100  # number of mean points\n",
    "pol_range={\"m\": 0, \"M\": 1, \"n\": NP}  \n",
    "mean_range={\"m\": 0, \"M\": 1, \"n\": NM}         \n",
    "\n",
    "pols = homogeneous_distribution(pol_range[\"n\"], pol_range[\"m\"], pol_range[\"M\"])\n",
    "means = homogeneous_distribution(mean_range[\"n\"], mean_range[\"m\"], mean_range[\"M\"])\n",
    "\n",
    "results = sweep_pol_mean_SIRV(\n",
    "    mean_range=mean_range,\n",
    "    pol_range=pol_range,\n",
    "    h=0,\n",
    "    dT=1,\n",
    "    T=1000,\n",
    "    susceptibility_rate=0.6,\n",
    "    batch_size=1000,\n",
    "    vaccination_rate=0.06\n",
    ")\n",
    "\n",
    "(S_final, I_final, R_final, V_final), R0, OH = results\n",
    "S = np.sum(S_final, axis=1)\n",
    "I = np.sum(I_final, axis=1)\n",
    "R = np.sum(R_final, axis=1)\n",
    "\n",
    "# Correct reshaping\n",
    "S = S.reshape(NM, NP).T  # Shape becomes (NP, NM)\n",
    "I = I.reshape(NM, NP).T\n",
    "R = R.reshape(NM, NP).T\n",
    "R0 = R0.reshape(NM, NP).T\n",
    "OH = OH.reshape(NM, NP).T\n",
    "\n",
    "temp = R + I\n",
    "\n",
    "fig, ax = plt.subplots(figsize=(Lx/2.2, Ly))\n",
    "for i in range(NP):\n",
    "    ax.plot(means, temp[i, :], color = CP1[i])\n",
    "\n",
    "ax.set_xlim(0, 1)\n",
    "ax.set_ylim(0, 1)\n",
    "ax.set_xticks([0,0.5,1])\n",
    "ax.set_yticks([0,0.5,1])\n",
    "name = \"SIRV_B_(m)_RI.pdf\"\n",
    "\n",
    "fig.patch.set_visible(False)\n",
    "double_savefig(fig, ax, name, path_Plot_with_labels, path_Plot_without_labels)\n",
    "\n",
    "\n",
    "# Plot each polarization value\n",
    "# find the index of the mean value closest to 0.5\n",
    "idx = np.argmin(np.abs(means - 0.5))\n",
    "fig, ax = plt.subplots(figsize=(Lx/2.2, Ly))\n",
    "for i in range(NP):\n",
    "    ax.plot(means, (temp[i, :]-temp[i, idx])/temp[i, idx]*100, color = CP1[i])\n",
    "\n",
    "# draw a horizontal line at y=0\n",
    "ax.axhline(0, color='black', lw=1, ls='dashed')\n",
    "ax.set_ylim(-100, 150)\n",
    "ax.set_xticks([0,0.5,1])\n",
    "name = \"SIRV_B_(m)_RI100.pdf\"\n",
    "\n",
    "fig.patch.set_visible(False)\n",
    "double_savefig(fig, ax, name, path_Plot_with_labels, path_Plot_without_labels)"
   ]
  },
  {
   "cell_type": "code",
   "execution_count": 34,
   "metadata": {},
   "outputs": [
    {
     "name": "stderr",
     "output_type": "stream",
     "text": [
      "No artists with labels found to put in legend.  Note that artists whose label start with an underscore are ignored when legend() is called with no argument.\n",
      "No artists with labels found to put in legend.  Note that artists whose label start with an underscore are ignored when legend() is called with no argument.\n"
     ]
    },
    {
     "data": {
      "image/png": "[encoded data removed]",
      "text/plain": [
       "<Figure size 228.6x167.323 with 1 Axes>"
      ]
     },
     "metadata": {},
     "output_type": "display_data"
    },
    {
     "data": {
      "image/png": "[encoded data removed]",
      "text/plain": [
       "<Figure size 103.909x167.323 with 1 Axes>"
      ]
     },
     "metadata": {},
     "output_type": "display_data"
    }
   ],
   "source": [
    "NP = 100  # number of polarization points\n",
    "NM = 5  # number of mean points\n",
    "pol_range={\"m\": 0, \"M\": 1, \"n\": NP}  \n",
    "mean_range={\"m\": 0, \"M\": 1, \"n\": NM}         \n",
    "\n",
    "pols = homogeneous_distribution(pol_range[\"n\"], pol_range[\"m\"], pol_range[\"M\"])\n",
    "means = homogeneous_distribution(mean_range[\"n\"], mean_range[\"m\"], mean_range[\"M\"])\n",
    "\n",
    "results = sweep_pol_mean_SIRV(\n",
    "    mean_range=mean_range,\n",
    "    pol_range=pol_range,\n",
    "    h=0,\n",
    "    dT=1,\n",
    "    T=1000,\n",
    "    susceptibility_rate=0.6,\n",
    "    batch_size=1000,\n",
    "    vaccination_rate=0.06\n",
    ")\n",
    "\n",
    "(S_final, I_final, R_final, V_final), R0, OH = results\n",
    "S = np.sum(S_final, axis=1)\n",
    "I = np.sum(I_final, axis=1)\n",
    "R = np.sum(R_final, axis=1)\n",
    "\n",
    "# Correct reshaping\n",
    "S = S.reshape(NM, NP).T  # Shape becomes (NP, NM)\n",
    "I = I.reshape(NM, NP).T\n",
    "R = R.reshape(NM, NP).T\n",
    "R0 = R0.reshape(NM, NP).T\n",
    "OH = OH.reshape(NM, NP).T\n",
    "\n",
    "temp = R + I\n",
    "\n",
    "fig, ax = plt.subplots(figsize=(Lx, Ly))\n",
    "for i in range(NM):\n",
    "    ax.plot(pols, temp[:, i], color = CP2[i])\n",
    "\n",
    "ax.set_xlim(0, 1)\n",
    "ax.set_ylim(0, 1)\n",
    "ax.set_xticks([0,0.5,1])\n",
    "ax.set_yticks([0,0.5,1])\n",
    "\n",
    "name = \"SIRV_B_(pol)_RI.pdf\"\n",
    "\n",
    "fig.patch.set_visible(False)\n",
    "double_savefig(fig, ax, name, path_Plot_with_labels, path_Plot_without_labels)\n",
    "\n",
    "\n",
    "# Plot each polarization value\n",
    "fig, ax = plt.subplots(figsize=(Lx/2.2, Ly))\n",
    "for i in range(NM):\n",
    "    ax.plot(pols, (temp[:, i]-temp[0, i])/temp[0, i]*100, color = CP2[i])\n",
    "# plot a horizontal line at 0\n",
    "ax.axhline(0, color='black', lw=1, ls='dashed')\n",
    "ax.set_ylim(-50, 100)\n",
    "ax.set_xticks([0,0.5,1])\n",
    "ax.set_yticks([-50,0,50,100])\n",
    "name = \"SIRV_B_(pol)_RI100.pdf\"\n",
    "\n",
    "fig.patch.set_visible(False)\n",
    "double_savefig(fig, ax, name, path_Plot_with_labels, path_Plot_without_labels)"
   ]
  },
  {
   "cell_type": "code",
   "execution_count": 13,
   "metadata": {},
   "outputs": [],
   "source": [
    "NP = 100  # number of polarization points\n",
    "NH = 100  # number of homophily points\n",
    "h_range={\"m\": -10.0, \"M\": 10.0, \"n\": NH}\n",
    "pol_range={\"m\": 0, \"M\": 1, \"n\": NP}\n",
    "\n",
    "homs = homogeneous_distribution(NH, h_range[\"m\"], h_range[\"M\"])\n",
    "pols = homogeneous_distribution(NP, pol_range[\"m\"], pol_range[\"M\"])\n",
    "\n",
    "results = sweep_pol_hom_SIRV(\n",
    "    h_range=h_range,     # homophily range\n",
    "    pol_range=pol_range,  # polarization range\n",
    "    dT=1,\n",
    "    T=1000,\n",
    "    recovery_rate=0.2,\n",
    "    susceptibility_rate=0.3,  \n",
    "    batch_size=1000,\n",
    "    N_COMPARTMENTS=5,\n",
    "    vaccination_rate = 2/365\n",
    ")\n",
    "\n",
    "(S_final, I_final, R_final), R0, OH = results\n",
    "S = np.sum(S_final, axis=1)\n",
    "I = np.sum(I_final, axis=1)\n",
    "R = np.sum(R_final, axis=1)\n",
    "\n",
    "# Reshape arrays\n",
    "S = S.reshape(NP, NH)  # No transpose needed\n",
    "I = I.reshape(NP, NH)\n",
    "R = R.reshape(NP, NH)\n",
    "R0 = R0.reshape(NP, NH)\n",
    "OH = OH.reshape(NP, NH)\n",
    "\n",
    "FIG_C_RI = R + I\n",
    "FIG_C_R0 = R0\n",
    "FIG_C_OH = OH\n",
    "homs = np.linspace(h_range[\"m\"], h_range[\"M\"], h_range[\"n\"])"
   ]
  },
  {
   "cell_type": "code",
   "execution_count": 36,
   "metadata": {},
   "outputs": [
    {
     "data": {
      "image/png": "[encoded data removed]",
      "text/plain": [
       "<Figure size 457.201x167.323 with 4 Axes>"
      ]
     },
     "metadata": {},
     "output_type": "display_data"
    }
   ],
   "source": [
    "fig, ax = plt.subplots(1,2, figsize=(2*Lx, Ly))\n",
    "\n",
    "cax = ax[0].imshow(FIG_C_RI, cmap=my_hot_r, aspect=\"auto\", origin=\"lower\",\n",
    "    extent=[homs[0], homs[-1],0,1], vmin=0, vmax=1, interpolation=\"none\")\n",
    "cbar = fig.colorbar(cax, ax=ax[0])\n",
    "\n",
    "cax = ax[1].imshow(FIG_C_R0, cmap=my_vir_r, aspect=\"auto\", origin=\"lower\",\n",
    "    extent=[homs[0], homs[-1],0,1], interpolation=\"none\", vmin = 1, vmax = 4)\n",
    "cbar = fig.colorbar(cax, ax=ax[1])\n",
    "\n",
    "fig.tight_layout()"
   ]
  },
  {
   "cell_type": "code",
   "execution_count": 8,
   "metadata": {},
   "outputs": [],
   "source": [
    "# homophily values for masks, testing, and vaccination\n",
    "Mh = np.array([2.2332, 2.5102, 2.7551])\n",
    "Th = np.array([2.1429, 2.3265, 2.5102])\n",
    "Vh = np.array([1.6531, 1.8367, 1.9592])\n",
    "\n",
    "# polarization values for masks, testing, and vaccination\n",
    "Mp = np.array([0.2658, 0.2898, 0.3149])\n",
    "Tp = np.array([0.4575, 0.4780, 0.4981])\n",
    "Vp = np.array([0.5387, 0.5637, 0.5913])"
   ]
  },
  {
   "cell_type": "code",
   "execution_count": 14,
   "metadata": {},
   "outputs": [
    {
     "name": "stderr",
     "output_type": "stream",
     "text": [
      "No artists with labels found to put in legend.  Note that artists whose label start with an underscore are ignored when legend() is called with no argument.\n"
     ]
    },
    {
     "data": {
      "image/png": "[encoded data removed]",
      "text/plain": [
       "<Figure size 228.6x167.323 with 1 Axes>"
      ]
     },
     "metadata": {},
     "output_type": "display_data"
    }
   ],
   "source": [
    "name = \"I(h,pol)_SIRV.pdf\"\n",
    "h_vals = homogeneous_distribution(h_range[\"n\"], h_range[\"m\"], h_range[\"M\"])\n",
    "\n",
    "fig, ax = plt.subplots(figsize=(Lx, Ly))\n",
    "cax = ax.imshow(FIG_C_RI, cmap =  my_hot_r, aspect = \"auto\", origin = \"lower\", extent = [-10,10,0,1], vmin = 0, vmax = 1, interpolation=\"none\")\n",
    "#cbar = fig.colorbar(cax, ax = ax)\n",
    "CS = ax.contour(h_vals, pols, FIG_C_RI, levels = [0.25, 0.5, 0.75], linewidths = 1, colors = \"black\", linestyles = \"dashed\")\n",
    "ax.set_yticks([0,0.5,1])\n",
    "ax.set_xticks([-10,0,10])\n",
    "\n",
    "# add a square for the homophily-polarization values\n",
    "# bottom left corner = Vh[0], Vp[0]\n",
    "# top right corner = Vh[2], Vp[2]\n",
    "rect = plt.Rectangle((Vh[0], Vp[0]), Vh[2]-Vh[0], Vp[2]-Vp[0], fill=False, edgecolor='black', lw=2)\n",
    "ax.add_patch(rect)\n",
    "\n",
    "fig.patch.set_visible(False)\n",
    "double_savefig(fig, ax, name, path_Plot_with_labels, path_Plot_without_labels)"
   ]
  },
  {
   "cell_type": "code",
   "execution_count": 16,
   "metadata": {},
   "outputs": [
    {
     "name": "stderr",
     "output_type": "stream",
     "text": [
      "No artists with labels found to put in legend.  Note that artists whose label start with an underscore are ignored when legend() is called with no argument.\n"
     ]
    },
    {
     "data": {
      "image/png": "[encoded data removed]",
      "text/plain": [
       "<Figure size 103.909x167.323 with 1 Axes>"
      ]
     },
     "metadata": {},
     "output_type": "display_data"
    }
   ],
   "source": [
    "name = \"R0(h,pol)_SIRV.pdf\"\n",
    "\n",
    "fig, ax = plt.subplots(figsize=(Lx/2.2, Ly))\n",
    "cax = ax.imshow(FIG_C_R0, cmap =  my_vir_r, aspect = \"auto\", origin = \"lower\", extent = [0-10,10,0,1], vmin = 0.999, vmax = 4, interpolation=\"none\")\n",
    "cbar = fig.colorbar(cax, ax = ax)\n",
    "CS = ax.contour(h_vals, pols, FIG_C_RI, levels = [0.25, 0.5, 0.75], linewidths = 1, colors = \"black\", linestyles = \"dashed\")\n",
    "ax.set_yticks([0,0.5,1])\n",
    "ax.set_xticks([-10,0,10])\n",
    "\n",
    "fig.patch.set_visible(False)\n",
    "double_savefig(fig, ax, name, path_Plot_with_labels, path_Plot_without_labels, cbar=cbar)"
   ]
  },
  {
   "cell_type": "code",
   "execution_count": 49,
   "metadata": {},
   "outputs": [],
   "source": [
    "CP2[2] = \"#000\""
   ]
  },
  {
   "cell_type": "code",
   "execution_count": 50,
   "metadata": {},
   "outputs": [
    {
     "name": "stderr",
     "output_type": "stream",
     "text": [
      "No artists with labels found to put in legend.  Note that artists whose label start with an underscore are ignored when legend() is called with no argument.\n",
      "No artists with labels found to put in legend.  Note that artists whose label start with an underscore are ignored when legend() is called with no argument.\n",
      "No artists with labels found to put in legend.  Note that artists whose label start with an underscore are ignored when legend() is called with no argument.\n"
     ]
    },
    {
     "name": "stdout",
     "output_type": "stream",
     "text": [
      "[-8. -4.  0.  4.  8.]\n"
     ]
    },
    {
     "data": {
      "image/png": "[encoded data removed]",
      "text/plain": [
       "<Figure size 228.6x167.323 with 1 Axes>"
      ]
     },
     "metadata": {},
     "output_type": "display_data"
    },
    {
     "data": {
      "image/png": "[encoded data removed]",
      "text/plain": [
       "<Figure size 103.909x167.323 with 1 Axes>"
      ]
     },
     "metadata": {},
     "output_type": "display_data"
    },
    {
     "data": {
      "image/png": "[encoded data removed]",
      "text/plain": [
       "<Figure size 228.6x167.323 with 1 Axes>"
      ]
     },
     "metadata": {},
     "output_type": "display_data"
    }
   ],
   "source": [
    "NP = 100  # number of polarization points\n",
    "NH = 5  # number of homophily points\n",
    "h_range={\"m\": -10.0, \"M\": 10.0, \"n\": NH}\n",
    "pol_range={\"m\": 0, \"M\": 1, \"n\": NP}\n",
    "\n",
    "homs = homogeneous_distribution(h_range[\"n\"], h_range[\"m\"], h_range[\"M\"])\n",
    "pols = homogeneous_distribution(pol_range[\"n\"], pol_range[\"m\"], pol_range[\"M\"])\n",
    "\n",
    "results = sweep_pol_hom_SIRV(\n",
    "    h_range=h_range,     # homophily range\n",
    "    pol_range=pol_range,  # polarization range\n",
    "    dT=1,\n",
    "    T=1000,\n",
    "    recovery_rate=0.2,\n",
    "    susceptibility_rate=0.3,  \n",
    "    batch_size=1000,\n",
    "    vaccination_rate = 2/365\n",
    ")\n",
    "\n",
    "(S_final, I_final, R_final, V_final), R0, OH = results\n",
    "S = np.sum(S_final, axis=1)\n",
    "I = np.sum(I_final, axis=1)\n",
    "R = np.sum(R_final, axis=1)\n",
    "\n",
    "# Reshape arrays\n",
    "S = S.reshape(NP, NH)  # No transpose needed\n",
    "I = I.reshape(NP, NH)\n",
    "R = R.reshape(NP, NH)\n",
    "R0 = R0.reshape(NP, NH)\n",
    "OH = OH.reshape(NP, NH)\n",
    "\n",
    "temp = R + I\n",
    "\n",
    "fig, ax = plt.subplots(figsize=(Lx, Ly))\n",
    "for i in range(NH):\n",
    "    ax.plot(pols, temp[:, i], color = CP2[i])\n",
    "\n",
    "ax.set_xlim(0, 1)\n",
    "ax.set_ylim(0, 1)\n",
    "ax.set_xticks([0,0.5,1])\n",
    "ax.set_yticks([0,0.5,1])\n",
    "\n",
    "name = \"SIRV_C_(pol)_RI.pdf\"\n",
    "double_savefig(fig, ax, name, path_Plot_with_labels, path_Plot_without_labels)\n",
    "\n",
    "fig, ax = plt.subplots(figsize=(Lx/2.2, Ly))\n",
    "for i in range(NH):\n",
    "    ax.plot(pols, (temp[:, i]-temp[0, i])/temp[0, i]*100, color = CP2[i])\n",
    "\n",
    "ax.set_xlim(0, 1)\n",
    "ax.set_ylim(-100, 100)\n",
    "# plot a horizontal line at 0\n",
    "ax.axhline(0, color='black', lw=1, ls='dashed')\n",
    "ax.set_xticks([0,0.5,1])\n",
    "ax.set_yticks([-100,0,100])\n",
    "name = \"SIRV_C_(pol)_RI100.pdf\"\n",
    "\n",
    "fig.patch.set_visible(False)\n",
    "double_savefig(fig, ax, name, path_Plot_with_labels, path_Plot_without_labels)\n",
    "\n",
    "\n",
    "\n",
    "\n",
    "\n",
    "\n",
    "fig, ax = plt.subplots(figsize=(Lx, Ly))\n",
    "for i in range(NH):\n",
    "    ax.plot(pols, (temp[:, i]-temp[0, i])/temp[0, i]*100, color = CP2[i])\n",
    "\n",
    "ax.set_xlim(0, 1)\n",
    "ax.set_ylim(-100, 100)\n",
    "# plot a horizontal line at 0\n",
    "ax.axhline(0, color='black', lw=1, ls='dashed')\n",
    "ax.set_xticks([0,0.5,1])\n",
    "ax.set_yticks([-100,0,100])\n",
    "name = \"SIRV_C_(pol)_RI100_long.pdf\"\n",
    "\n",
    "fig.patch.set_visible(False)\n",
    "double_savefig(fig, ax, name, path_Plot_with_labels, path_Plot_without_labels)\n",
    "\n",
    "\n",
    "print(homs)"
   ]
  },
  {
   "cell_type": "code",
   "execution_count": null,
   "metadata": {},
   "outputs": [],
   "source": []
  },
  {
   "cell_type": "code",
   "execution_count": 41,
   "metadata": {},
   "outputs": [
    {
     "name": "stderr",
     "output_type": "stream",
     "text": [
      "No artists with labels found to put in legend.  Note that artists whose label start with an underscore are ignored when legend() is called with no argument.\n"
     ]
    },
    {
     "data": {
      "image/png": "[encoded data removed]",
      "text/plain": [
       "<Figure size 103.909x167.323 with 1 Axes>"
      ]
     },
     "metadata": {},
     "output_type": "display_data"
    }
   ],
   "source": [
    "NP = 5  # number of polarization points\n",
    "NH = 100  # number of homophily points\n",
    "h_range={\"m\": -10.0, \"M\": 10.0, \"n\": NH}\n",
    "pol_range={\"m\": 0, \"M\": 1, \"n\": NP}\n",
    "\n",
    "homs = homogeneous_distribution(h_range[\"n\"], h_range[\"m\"], h_range[\"M\"])\n",
    "pols = homogeneous_distribution(pol_range[\"n\"], pol_range[\"m\"], pol_range[\"M\"])\n",
    "\n",
    "results = sweep_pol_hom_SIRV(\n",
    "    h_range=h_range,     # homophily range\n",
    "    pol_range=pol_range,  # polarization range\n",
    "    dT=1,\n",
    "    T=1000,\n",
    "    recovery_rate=0.2,\n",
    "    susceptibility_rate=0.3,  \n",
    "    batch_size=1000,\n",
    "    vaccination_rate = 2/365\n",
    ")\n",
    "\n",
    "(S_final, I_final, R_final, V_final), R0, OH = results\n",
    "S = np.sum(S_final, axis=1)\n",
    "I = np.sum(I_final, axis=1)\n",
    "R = np.sum(R_final, axis=1)\n",
    "\n",
    "# Reshape arrays\n",
    "S = S.reshape(NP, NH)  # No transpose needed\n",
    "I = I.reshape(NP, NH)\n",
    "R = R.reshape(NP, NH)\n",
    "R0 = R0.reshape(NP, NH)\n",
    "OH = OH.reshape(NP, NH)\n",
    "\n",
    "temp = R + I\n",
    "\n",
    "# find the index of the homophily value closest to 0\n",
    "idx = np.argmin(np.abs(homs - 0))\n",
    "\n",
    "fig, ax = plt.subplots(figsize=(Lx/2.2, Ly))\n",
    "for i in range(NP):\n",
    "    ax.plot(homs, (temp[i, :] - temp[i, idx])/temp[i, idx]*100, color = CP3[i])\n",
    "    ax.set_ylim(-50, 150)\n",
    "\n",
    "fig.patch.set_visible(False)\n",
    "# plot a horizontal line at 0\n",
    "ax.axhline(0, color='black', lw=1, ls='dashed')\n",
    "ax.set_yticks([-50,0,100])\n",
    "ax.set_xticks([-10,0,10])\n",
    "name = \"SIRV_C_(h)_RI100.pdf\"\n",
    "\n",
    "fig.patch.set_visible(False)\n",
    "double_savefig(fig, ax, name, path_Plot_with_labels, path_Plot_without_labels)"
   ]
  },
  {
   "cell_type": "code",
   "execution_count": 2,
   "metadata": {},
   "outputs": [
    {
     "name": "stderr",
     "output_type": "stream",
     "text": [
      "No GPU/TPU found, falling back to CPU. (Set TF_CPP_MIN_LOG_LEVEL=0 and rerun for more info.)\n",
      "No artists with labels found to put in legend.  Note that artists whose label start with an underscore are ignored when legend() is called with no argument.\n"
     ]
    },
    {
     "data": {
      "image/png": "[encoded data removed]",
      "text/plain": [
       "<Figure size 103.909x167.323 with 1 Axes>"
      ]
     },
     "metadata": {},
     "output_type": "display_data"
    }
   ],
   "source": [
    "NP = 100\n",
    "NS = 1\n",
    "N_COMPARTMENTS = 100\n",
    "\n",
    "\n",
    "vacc_max_range={\"m\": 0.075, \"M\": 0.075, \"n\": NS}\n",
    "pol_range={\"m\": 0, \"M\": 1, \"n\": NP}\n",
    "\n",
    "vaccs = np.linspace(vacc_max_range[\"m\"], vacc_max_range[\"M\"], vacc_max_range[\"n\"])\n",
    "pols = np.linspace(pol_range[\"m\"], pol_range[\"M\"], pol_range[\"n\"])\n",
    "\n",
    "results = sweep_pol_SPB_SIRVD(\n",
    "    vacc_max_range=vacc_max_range,\n",
    "    pol_range=pol_range,\n",
    "    dT=1,\n",
    "    T=1000,\n",
    "    batch_size=1000,\n",
    "    N_COMPARTMENTS=N_COMPARTMENTS\n",
    ")\n",
    "\n",
    "(S_final, I_final, R_final, V_final), _, _ = results\n",
    "\n",
    "S = S_final.reshape(NP, N_COMPARTMENTS).transpose()\n",
    "I = I_final.reshape(NP, N_COMPARTMENTS).transpose()\n",
    "R = R_final.reshape(NP, N_COMPARTMENTS).transpose()\n",
    "V = V_final.reshape(NP, N_COMPARTMENTS).transpose()\n",
    "\n",
    "Sf = np.zeros((N_COMPARTMENTS, NP))\n",
    "If = np.zeros((N_COMPARTMENTS, NP))\n",
    "Rf = np.zeros((N_COMPARTMENTS, NP))\n",
    "Vf = np.zeros((N_COMPARTMENTS, NP))\n",
    "for i in range(NP):\n",
    "\n",
    "    N_i = S_final[i,:] + I_final[i,:] + R_final[i,:] + V_final[i,:]\n",
    "    Sf[:,i] = S_final[i,:]/N_i\n",
    "    If[:,i] = I_final[i,:]/N_i\n",
    "    Rf[:,i] = R_final[i,:]/N_i\n",
    "    Vf[:,i] = V_final[i,:]/N_i\n",
    "\n",
    "RI = Rf + If\n",
    "name = \"RI_fraction_SIRV_disconnected.pdf\"\n",
    "fig, ax = plt.subplots(figsize=(Lx/2.2, Ly))\n",
    "cax = ax.imshow(np.flipud(RI), cmap = my_hot_r, aspect = \"auto\", origin = \"lower\", extent = [0,1,0,1], vmin = 0, vmax = 1, interpolation = \"none\")\n",
    "cbar = fig.colorbar(cax, ax = ax)\n",
    "ax.set_yticks([0,0.5,1])\n",
    "\n",
    "fig.patch.set_visible(False)\n",
    "double_savefig(fig, ax, name, path_Plot_with_labels, path_Plot_without_labels, cbar=cbar)"
   ]
  },
  {
   "cell_type": "code",
   "execution_count": null,
   "metadata": {},
   "outputs": [],
   "source": []
  },
  {
   "cell_type": "code",
   "execution_count": 52,
   "metadata": {},
   "outputs": [
    {
     "name": "stderr",
     "output_type": "stream",
     "text": [
      "No artists with labels found to put in legend.  Note that artists whose label start with an underscore are ignored when legend() is called with no argument.\n"
     ]
    },
    {
     "data": {
      "image/png": "[encoded data removed]",
      "text/plain": [
       "<Figure size 103.909x167.323 with 1 Axes>"
      ]
     },
     "metadata": {},
     "output_type": "display_data"
    }
   ],
   "source": [
    "NP = 100\n",
    "NS = 1\n",
    "N_COMPARTMENTS = 100\n",
    "\n",
    "\n",
    "vacc_max_range={\"m\": 0.075, \"M\": 0.075, \"n\": NS}\n",
    "pol_range={\"m\": 0, \"M\": 1, \"n\": NP}\n",
    "\n",
    "vaccs = np.linspace(vacc_max_range[\"m\"], vacc_max_range[\"M\"], vacc_max_range[\"n\"])\n",
    "pols = np.linspace(pol_range[\"m\"], pol_range[\"M\"], pol_range[\"n\"])\n",
    "\n",
    "results = sweep_pol_SPB_SIRV(\n",
    "    vacc_max_range=vacc_max_range,\n",
    "    pol_range=pol_range,\n",
    "    h=0,\n",
    "    dT=1,\n",
    "    T=1000,\n",
    "    batch_size=1000,\n",
    "    N_COMPARTMENTS=N_COMPARTMENTS\n",
    ")\n",
    "\n",
    "(S_final, I_final, R_final, V_final), _, _ = results\n",
    "\n",
    "S = S_final.reshape(NP, N_COMPARTMENTS).transpose()\n",
    "I = I_final.reshape(NP, N_COMPARTMENTS).transpose()\n",
    "R = R_final.reshape(NP, N_COMPARTMENTS).transpose()\n",
    "V = V_final.reshape(NP, N_COMPARTMENTS).transpose()\n",
    "\n",
    "Sf = np.zeros((N_COMPARTMENTS, NP))\n",
    "If = np.zeros((N_COMPARTMENTS, NP))\n",
    "Rf = np.zeros((N_COMPARTMENTS, NP))\n",
    "Vf = np.zeros((N_COMPARTMENTS, NP))\n",
    "for i in range(NP):\n",
    "\n",
    "    N_i = S_final[i,:] + I_final[i,:] + R_final[i,:] + V_final[i,:]\n",
    "    Sf[:,i] = S_final[i,:]/N_i\n",
    "    If[:,i] = I_final[i,:]/N_i\n",
    "    Rf[:,i] = R_final[i,:]/N_i\n",
    "    Vf[:,i] = V_final[i,:]/N_i\n",
    "\n",
    "RI = Rf + If\n",
    "name = \"RI_fraction_SIRV.pdf\"\n",
    "fig, ax = plt.subplots(figsize=(Lx/2.2, Ly))\n",
    "cax = ax.imshow(np.flipud(RI), cmap = my_hot_r, aspect = \"auto\", origin = \"lower\", extent = [0,1,0,1], vmin = 0, vmax = 1, interpolation = \"none\")\n",
    "cbar = fig.colorbar(cax, ax = ax)\n",
    "ax.set_yticks([0,0.5,1])\n",
    "\n",
    "fig.patch.set_visible(False)\n",
    "double_savefig(fig, ax, name, path_Plot_with_labels, path_Plot_without_labels, cbar=cbar)"
   ]
  },
  {
   "cell_type": "code",
   "execution_count": 53,
   "metadata": {},
   "outputs": [
    {
     "name": "stderr",
     "output_type": "stream",
     "text": [
      "No artists with labels found to put in legend.  Note that artists whose label start with an underscore are ignored when legend() is called with no argument.\n"
     ]
    },
    {
     "data": {
      "image/png": "[encoded data removed]",
      "text/plain": [
       "<Figure size 103.909x167.323 with 1 Axes>"
      ]
     },
     "metadata": {},
     "output_type": "display_data"
    }
   ],
   "source": [
    "NP = 100\n",
    "NS = 1\n",
    "N_COMPARTMENTS = 100\n",
    "\n",
    "\n",
    "vacc_max_range={\"m\": 0.075, \"M\": 0.075, \"n\": NS}\n",
    "pol_range={\"m\": 0, \"M\": 1, \"n\": NP}\n",
    "\n",
    "vaccs = np.linspace(vacc_max_range[\"m\"], vacc_max_range[\"M\"], vacc_max_range[\"n\"])\n",
    "pols = np.linspace(pol_range[\"m\"], pol_range[\"M\"], pol_range[\"n\"])\n",
    "\n",
    "results = sweep_pol_SPB_SIRV(\n",
    "    vacc_max_range=vacc_max_range,\n",
    "    pol_range=pol_range,\n",
    "    h=-10,\n",
    "    dT=1,\n",
    "    T=1000,\n",
    "    batch_size=1000,\n",
    "    N_COMPARTMENTS=N_COMPARTMENTS\n",
    ")\n",
    "\n",
    "(S_final, I_final, R_final, V_final), _, _ = results\n",
    "\n",
    "S = S_final.reshape(NP, N_COMPARTMENTS).transpose()\n",
    "I = I_final.reshape(NP, N_COMPARTMENTS).transpose()\n",
    "R = R_final.reshape(NP, N_COMPARTMENTS).transpose()\n",
    "V = V_final.reshape(NP, N_COMPARTMENTS).transpose()\n",
    "\n",
    "Sf = np.zeros((N_COMPARTMENTS, NP))\n",
    "If = np.zeros((N_COMPARTMENTS, NP))\n",
    "Rf = np.zeros((N_COMPARTMENTS, NP))\n",
    "Vf = np.zeros((N_COMPARTMENTS, NP))\n",
    "for i in range(NP):\n",
    "\n",
    "    N_i = S_final[i,:] + I_final[i,:] + R_final[i,:] + V_final[i,:]\n",
    "    Sf[:,i] = S_final[i,:]/N_i\n",
    "    If[:,i] = I_final[i,:]/N_i\n",
    "    Rf[:,i] = R_final[i,:]/N_i\n",
    "    Vf[:,i] = V_final[i,:]/N_i\n",
    "\n",
    "RI = Rf + If\n",
    "name = \"RI_fraction_SIRV_negative_h.pdf\"\n",
    "fig, ax = plt.subplots(figsize=(Lx/2.2, Ly))\n",
    "cax = ax.imshow(np.flipud(RI), cmap = my_hot_r, aspect = \"auto\", origin = \"lower\", extent = [0,1,0,1], vmin = 0, vmax = 1, interpolation = \"none\")\n",
    "cbar = fig.colorbar(cax, ax = ax)\n",
    "ax.set_yticks([0,0.5,1])\n",
    "\n",
    "fig.patch.set_visible(False)\n",
    "double_savefig(fig, ax, name, path_Plot_with_labels, path_Plot_without_labels, cbar=cbar)"
   ]
  },
  {
   "cell_type": "code",
   "execution_count": 54,
   "metadata": {},
   "outputs": [
    {
     "name": "stderr",
     "output_type": "stream",
     "text": [
      "No artists with labels found to put in legend.  Note that artists whose label start with an underscore are ignored when legend() is called with no argument.\n"
     ]
    },
    {
     "data": {
      "image/png": "[encoded data removed]",
      "text/plain": [
       "<Figure size 103.909x167.323 with 1 Axes>"
      ]
     },
     "metadata": {},
     "output_type": "display_data"
    }
   ],
   "source": [
    "NP = 100\n",
    "NS = 1\n",
    "N_COMPARTMENTS = 100\n",
    "\n",
    "\n",
    "vacc_max_range={\"m\": 0.075, \"M\": 0.075, \"n\": NS}\n",
    "pol_range={\"m\": 0, \"M\": 1, \"n\": NP}\n",
    "\n",
    "vaccs = np.linspace(vacc_max_range[\"m\"], vacc_max_range[\"M\"], vacc_max_range[\"n\"])\n",
    "pols = np.linspace(pol_range[\"m\"], pol_range[\"M\"], pol_range[\"n\"])\n",
    "\n",
    "results = sweep_pol_SPB_SIRV(\n",
    "    vacc_max_range=vacc_max_range,\n",
    "    pol_range=pol_range,\n",
    "    h=10,\n",
    "    dT=1,\n",
    "    T=1000,\n",
    "    batch_size=1000,\n",
    "    N_COMPARTMENTS=N_COMPARTMENTS\n",
    ")\n",
    "\n",
    "(S_final, I_final, R_final, V_final), _, _ = results\n",
    "\n",
    "S = S_final.reshape(NP, N_COMPARTMENTS).transpose()\n",
    "I = I_final.reshape(NP, N_COMPARTMENTS).transpose()\n",
    "R = R_final.reshape(NP, N_COMPARTMENTS).transpose()\n",
    "V = V_final.reshape(NP, N_COMPARTMENTS).transpose()\n",
    "\n",
    "Sf = np.zeros((N_COMPARTMENTS, NP))\n",
    "If = np.zeros((N_COMPARTMENTS, NP))\n",
    "Rf = np.zeros((N_COMPARTMENTS, NP))\n",
    "Vf = np.zeros((N_COMPARTMENTS, NP))\n",
    "for i in range(NP):\n",
    "\n",
    "    N_i = S_final[i,:] + I_final[i,:] + R_final[i,:] + V_final[i,:]\n",
    "    Sf[:,i] = S_final[i,:]/N_i\n",
    "    If[:,i] = I_final[i,:]/N_i\n",
    "    Rf[:,i] = R_final[i,:]/N_i\n",
    "    Vf[:,i] = V_final[i,:]/N_i\n",
    "\n",
    "RI = Rf + If\n",
    "name = \"RI_fraction_SIRV_positive_h.pdf\"\n",
    "fig, ax = plt.subplots(figsize=(Lx/2.2, Ly))\n",
    "cax = ax.imshow(np.flipud(RI), cmap = my_hot_r, aspect = \"auto\", origin = \"lower\", extent = [0,1,0,1], vmin = 0, vmax = 1, interpolation = \"none\")\n",
    "cbar = fig.colorbar(cax, ax = ax)\n",
    "ax.set_yticks([0,0.5,1])\n",
    "\n",
    "fig.patch.set_visible(False)\n",
    "double_savefig(fig, ax, name, path_Plot_with_labels, path_Plot_without_labels, cbar=cbar)"
   ]
  },
  {
   "cell_type": "code",
   "execution_count": null,
   "metadata": {},
   "outputs": [],
   "source": []
  }
 ],
 "metadata": {
  "kernelspec": {
   "display_name": "Optimal",
   "language": "python",
   "name": "python3"
  },
  "language_info": {
   "codemirror_mode": {
    "name": "ipython",
    "version": 3
   },
   "file_extension": ".py",
   "mimetype": "text/x-python",
   "name": "python",
   "nbconvert_exporter": "python",
   "pygments_lexer": "ipython3",
   "version": "3.11.4"
  }
 },
 "nbformat": 4,
 "nbformat_minor": 2
}
