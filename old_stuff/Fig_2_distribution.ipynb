{
 "cells": [
  {
   "cell_type": "code",
   "execution_count": null,
   "id": "49c82d37",
   "metadata": {},
   "outputs": [],
   "source": [
    "%load_ext autoreload\n",
    "%autoreload 2\n",
    "\n",
    "import numpy as np\n",
    "import pandas as pd\n",
    "import matplotlib.pyplot as plt\n",
    "from tqdm import tqdm\n",
    "\n",
    "from src.utils.Contact_Matrix import create_contact_matrix"
   ]
  },
  {
   "cell_type": "code",
   "execution_count": null,
   "id": "0d22bcb8",
   "metadata": {},
   "outputs": [],
   "source": [
    "def extract_behavior_distribution(df, behavior_type):\n",
    "    \"\"\"\n",
    "    Extract behavior distribution from survey data.\n",
    "    \n",
    "    Args:\n",
    "        df: DataFrame with survey data\n",
    "        behavior_type: Type of behavior (\"masks\", \"testing\", or \"vacc\")\n",
    "        \n",
    "    Returns:\n",
    "        Normalized behavior distribution as a numpy array\n",
    "    \"\"\"\n",
    "    # Clean data\n",
    "    df = df.dropna()\n",
    "    \n",
    "    # Extract self-reported behavior\n",
    "    self_behavior = df[f'{behavior_type}_self'].astype(int)\n",
    "    \n",
    "    # Count occurrences of each behavior level (1-5)\n",
    "    n_bins = 5\n",
    "    behavior_vector = np.zeros(n_bins)\n",
    "    for i in range(n_bins):\n",
    "        behavior_vector[i] = np.sum(self_behavior == i+1)\n",
    "    \n",
    "    # Normalize to get distribution\n",
    "    behavior_vector = behavior_vector / np.sum(behavior_vector)\n",
    "    \n",
    "    return behavior_vector\n"
   ]
  },
  {
   "cell_type": "code",
   "execution_count": null,
   "id": "b9c7041c",
   "metadata": {},
   "outputs": [],
   "source": [
    "def bootstrap_behavior_distribution(df, behavior_type, n_bootstrap=1000, random_state=None):\n",
    "    \"\"\"\n",
    "    Perform bootstrap analysis on behavior distribution to estimate mean and polarization.\n",
    "    \n",
    "    Args:\n",
    "        df: DataFrame with survey data\n",
    "        behavior_type: Type of behavior (\"masks\", \"testing\", or \"vacc\")\n",
    "        n_bootstrap: Number of bootstrap samples\n",
    "        random_state: Random seed for reproducibility\n",
    "        \n",
    "    Returns:\n",
    "        Dictionary with bootstrap results\n",
    "    \"\"\"\n",
    "    if random_state is not None:\n",
    "        np.random.seed(random_state)\n",
    "    \n",
    "    # Get clean dataset with no NAs in the target behavior\n",
    "    df_clean = df.dropna(subset=[f'{behavior_type}_self'])\n",
    "    n_samples = len(df_clean)\n",
    "    \n",
    "    # Arrays to store bootstrap results\n",
    "    bootstrap_means = np.zeros(n_bootstrap)\n",
    "    bootstrap_polarizations = np.zeros(n_bootstrap)\n",
    "    \n",
    "    # Perform bootstrap\n",
    "    for i in tqdm(range(n_bootstrap), desc=f\"Bootstrapping {behavior_type}\"):\n",
    "        # Sample with replacement\n",
    "        bootstrap_indices = np.random.choice(n_samples, size=n_samples, replace=True)\n",
    "        bootstrap_sample = df_clean.iloc[bootstrap_indices]\n",
    "        \n",
    "        # Get self-reported behavior and rescale from 1-5 to 0-1\n",
    "        self_behavior = bootstrap_sample[f'{behavior_type}_self'].astype(int)\n",
    "        rescaled_behavior = (self_behavior - 1) / 4  # Rescale from 1-5 to 0-1\n",
    "        \n",
    "        # Calculate mean and polarization for this bootstrap sample\n",
    "        bootstrap_means[i] = np.mean(rescaled_behavior)\n",
    "        bootstrap_polarizations[i] = 4 * np.var(rescaled_behavior)  # Calculate polarization as 4*variance\n",
    "        \n",
    "    \n",
    "    # Calculate summary statistics\n",
    "    mean_estimate = np.mean(bootstrap_means)\n",
    "    polarization_estimate = np.mean(bootstrap_polarizations)\n",
    "    \n",
    "    # Calculate 95% confidence intervals\n",
    "    mean_ci = np.percentile(bootstrap_means, [2.5, 97.5])\n",
    "    polarization_ci = np.percentile(bootstrap_polarizations, [2.5, 97.5])\n",
    "    \n",
    "    # Calculate standard errors\n",
    "    mean_se = np.std(bootstrap_means)\n",
    "    polarization_se = np.std(bootstrap_polarizations)\n",
    "    \n",
    "    return {\n",
    "        'bootstrap_means': bootstrap_means,\n",
    "        'bootstrap_polarizations': bootstrap_polarizations,\n",
    "        'mean_estimate': mean_estimate,\n",
    "        'mean_se': mean_se,\n",
    "        'mean_ci': mean_ci,\n",
    "        'polarization_estimate': polarization_estimate,\n",
    "        'polarization_se': polarization_se,\n",
    "        'polarization_ci': polarization_ci\n",
    "    }\n"
   ]
  },
  {
   "cell_type": "code",
   "execution_count": 1,
   "id": "a45e5ff1",
   "metadata": {},
   "outputs": [
    {
     "ename": "NameError",
     "evalue": "name 'pd' is not defined",
     "output_type": "error",
     "traceback": [
      "\u001b[1;31m---------------------------------------------------------------------------\u001b[0m",
      "\u001b[1;31mNameError\u001b[0m                                 Traceback (most recent call last)",
      "Cell \u001b[1;32mIn[1], line 3\u001b[0m\n\u001b[0;32m      1\u001b[0m \u001b[38;5;66;03m# Load data\u001b[39;00m\n\u001b[0;32m      2\u001b[0m csv_path \u001b[38;5;241m=\u001b[39m \u001b[38;5;124m'\u001b[39m\u001b[38;5;124mdata_homophily.csv\u001b[39m\u001b[38;5;124m'\u001b[39m\n\u001b[1;32m----> 3\u001b[0m df \u001b[38;5;241m=\u001b[39m pd\u001b[38;5;241m.\u001b[39mread_csv(csv_path)\n\u001b[0;32m      5\u001b[0m \u001b[38;5;66;03m# Clean data (remove rows with missing values)\u001b[39;00m\n\u001b[0;32m      6\u001b[0m \u001b[38;5;28mprint\u001b[39m(\u001b[38;5;124mf\u001b[39m\u001b[38;5;124m\"\u001b[39m\u001b[38;5;124mNumber of rows before dropping NAs: \u001b[39m\u001b[38;5;132;01m{\u001b[39;00m\u001b[38;5;28mlen\u001b[39m(df)\u001b[38;5;132;01m}\u001b[39;00m\u001b[38;5;124m\"\u001b[39m)\n",
      "\u001b[1;31mNameError\u001b[0m: name 'pd' is not defined"
     ]
    }
   ],
   "source": [
    "# Load data\n",
    "csv_path = 'data_homophily.csv'\n",
    "df = pd.read_csv(csv_path)\n",
    "\n",
    "# Clean data (remove rows with missing values)\n",
    "print(f\"Number of rows before dropping NAs: {len(df)}\")\n",
    "df = df.dropna()\n",
    "print(f\"Number of rows after dropping NAs: {len(df)}\")"
   ]
  },
  {
   "cell_type": "code",
   "execution_count": 13,
   "id": "e4ab16c7",
   "metadata": {},
   "outputs": [
    {
     "name": "stderr",
     "output_type": "stream",
     "text": [
      "Bootstrapping masks: 100%|██████████| 1000/1000 [00:00<00:00, 1272.89it/s]\n"
     ]
    },
    {
     "name": "stdout",
     "output_type": "stream",
     "text": [
      "\n",
      "Masks behavior statistics:\n",
      "Mean: 0.7717 ± 0.0071\n",
      "Polarization: 0.2785 ± 0.0130\n"
     ]
    },
    {
     "name": "stderr",
     "output_type": "stream",
     "text": [
      "Bootstrapping testing: 100%|██████████| 1000/1000 [00:00<00:00, 1338.34it/s]\n"
     ]
    },
    {
     "name": "stdout",
     "output_type": "stream",
     "text": [
      "\n",
      "Testing behavior statistics:\n",
      "Mean: 0.4699 ± 0.0093\n",
      "Polarization: 0.4802 ± 0.0110\n"
     ]
    },
    {
     "name": "stderr",
     "output_type": "stream",
     "text": [
      "Bootstrapping vacc: 100%|██████████| 1000/1000 [00:00<00:00, 1471.18it/s]"
     ]
    },
    {
     "name": "stdout",
     "output_type": "stream",
     "text": [
      "\n",
      "Vacc behavior statistics:\n",
      "Mean: 0.6133 ± 0.0104\n",
      "Polarization: 0.5725 ± 0.0135\n"
     ]
    },
    {
     "name": "stderr",
     "output_type": "stream",
     "text": [
      "\n"
     ]
    }
   ],
   "source": [
    "# Run bootstrap analysis for each behavior type\n",
    "n_bootstrap = 1000  # Adjust based on computational resources\n",
    "behavior_types = [\"masks\", \"testing\", \"vacc\"]\n",
    "behavior_stats = {}\n",
    "\n",
    "for behavior_type in behavior_types:\n",
    "    behavior_stats[behavior_type] = bootstrap_behavior_distribution(\n",
    "        df, \n",
    "        behavior_type, \n",
    "        n_bootstrap=n_bootstrap, \n",
    "        random_state=42\n",
    "    )\n",
    "    \n",
    "    # Print results\n",
    "    print(f\"\\n{behavior_type.capitalize()} behavior statistics:\")\n",
    "    print(f\"Mean: {behavior_stats[behavior_type]['mean_estimate']:.4f} ± {behavior_stats[behavior_type]['mean_se']:.4f}\")\n",
    "    print(f\"Polarization: {behavior_stats[behavior_type]['polarization_estimate']:.4f} ± {behavior_stats[behavior_type]['polarization_se']:.4f}\")"
   ]
  },
  {
   "cell_type": "code",
   "execution_count": 16,
   "id": "4cc2164e",
   "metadata": {},
   "outputs": [
    {
     "name": "stderr",
     "output_type": "stream",
     "text": [
      "Processing individuals for masks: 100%|██████████| 1360/1360 [00:00<00:00, 7217.43it/s]\n",
      "Bootstrapping homophily for masks: 100%|██████████| 1000/1000 [00:00<00:00, 1020.66it/s]\n"
     ]
    },
    {
     "name": "stdout",
     "output_type": "stream",
     "text": [
      "\n",
      "Masks homophily statistics:\n",
      "Homophily: 1.9624 ± 0.0396\n",
      "95% CI: [1.8990, 2.0202]\n"
     ]
    },
    {
     "name": "stderr",
     "output_type": "stream",
     "text": [
      "Processing individuals for testing: 100%|██████████| 1360/1360 [00:00<00:00, 7160.42it/s]\n",
      "Bootstrapping homophily for testing: 100%|██████████| 1000/1000 [00:00<00:00, 1195.80it/s]\n"
     ]
    },
    {
     "name": "stdout",
     "output_type": "stream",
     "text": [
      "\n",
      "Testing homophily statistics:\n",
      "Homophily: 0.4813 ± 0.0178\n",
      "95% CI: [0.4444, 0.5253]\n"
     ]
    },
    {
     "name": "stderr",
     "output_type": "stream",
     "text": [
      "Processing individuals for vacc: 100%|██████████| 1360/1360 [00:00<00:00, 7073.37it/s]\n",
      "Bootstrapping homophily for vacc: 100%|██████████| 1000/1000 [00:00<00:00, 1174.06it/s]"
     ]
    },
    {
     "name": "stdout",
     "output_type": "stream",
     "text": [
      "\n",
      "Vacc homophily statistics:\n",
      "Homophily: 0.4967 ± 0.0204\n",
      "95% CI: [0.4848, 0.5253]\n"
     ]
    },
    {
     "name": "stderr",
     "output_type": "stream",
     "text": [
      "\n"
     ]
    }
   ],
   "source": [
    "# Estimate homophily for each behavior type\n",
    "homophily_stats = {}\n",
    "\n",
    "for behavior_type in behavior_types:\n",
    "    homophily_stats[behavior_type] = bootstrap_homophily(\n",
    "        df, \n",
    "        behavior_type, \n",
    "        n_bootstrap=1000,  # Adjust based on computational resources\n",
    "        h_min=0, \n",
    "        h_max=4, \n",
    "        random_state=42\n",
    "    )\n",
    "    \n",
    "    # Print results\n",
    "    print(f\"\\n{behavior_type.capitalize()} homophily statistics:\")\n",
    "    print(f\"Homophily: {homophily_stats[behavior_type]['mean']:.4f} ± {homophily_stats[behavior_type]['se']:.4f}\")\n",
    "    print(f\"95% CI: [{homophily_stats[behavior_type]['ci'][0]:.4f}, {homophily_stats[behavior_type]['ci'][1]:.4f}]\")"
   ]
  },
  {
   "cell_type": "code",
   "execution_count": 11,
   "id": "7fff05cc",
   "metadata": {},
   "outputs": [
    {
     "data": {
      "image/png": "[encoded data removed]",
      "text/plain": [
       "<Figure size 1800x600 with 3 Axes>"
      ]
     },
     "metadata": {},
     "output_type": "display_data"
    }
   ],
   "source": [
    "# Generate normalized contact matrices\n",
    "contact_matrices = {}\n",
    "for behavior_type in behavior_types:\n",
    "    contact_matrices[behavior_type] = generate_normalized_matrix(df, behavior_type)\n",
    "\n",
    "# Visualize contact matrices\n",
    "plt.figure(figsize=(18, 6))\n",
    "\n",
    "for i, behavior_type in enumerate(behavior_types):\n",
    "    plt.subplot(1, 3, i+1)\n",
    "    plt.imshow(contact_matrices[behavior_type], cmap=\"Blues\", vmin=0, vmax=0.6)\n",
    "    plt.title(f\"{behavior_type.capitalize()} Contact Matrix\")\n",
    "    plt.xticks([])\n",
    "    plt.yticks([])\n",
    "\n",
    "plt.tight_layout()\n",
    "plt.show()"
   ]
  },
  {
   "cell_type": "code",
   "execution_count": 12,
   "id": "500f3d5b",
   "metadata": {},
   "outputs": [
    {
     "data": {
      "image/png": "[encoded data removed]",
      "text/plain": [
       "<Figure size 1800x600 with 3 Axes>"
      ]
     },
     "metadata": {},
     "output_type": "display_data"
    }
   ],
   "source": [
    "# Define colors for behavior levels\n",
    "intensity_colors = ['#8E0152', '#DE77AE', '#F7F7F7', '#7FBC41', '#276419']\n",
    "\n",
    "# Visualize behavior distributions\n",
    "plt.figure(figsize=(18, 6))\n",
    "\n",
    "for i, behavior_type in enumerate(behavior_types):\n",
    "    plt.subplot(1, 3, i+1)\n",
    "    \n",
    "    # Get behavior distribution\n",
    "    distribution = extract_behavior_distribution(df, behavior_type)\n",
    "    \n",
    "    # Plot distribution\n",
    "    for j in range(5):\n",
    "        plt.bar(j+1, distribution[j], color=intensity_colors[j], edgecolor='black')\n",
    "    \n",
    "    plt.title(f\"{behavior_type.capitalize()} Behavior Distribution\")\n",
    "    plt.xlim(0.5, 5.5)\n",
    "    plt.ylim(0, 0.5)\n",
    "    plt.xticks([])\n",
    "    plt.yticks([])\n",
    "\n",
    "plt.tight_layout()\n",
    "plt.show()"
   ]
  },
  {
   "cell_type": "code",
   "execution_count": 13,
   "id": "18ce2291",
   "metadata": {},
   "outputs": [
    {
     "name": "stdout",
     "output_type": "stream",
     "text": [
      "  Behavior        Mean ± SE Polarization ± SE     Homophily ± SE\n",
      "0    Masks  0.7713 ± 0.0071   0.2786 ± 0.0128  40.9565 ± 14.4968\n",
      "1  Testing  0.4699 ± 0.0094   0.4803 ± 0.0111   49.9763 ± 0.8383\n",
      "2     Vacc  0.6129 ± 0.0103   0.5729 ± 0.0137   11.0943 ± 1.1541\n"
     ]
    }
   ],
   "source": [
    "# Create summary table with all statistics\n",
    "summary_data = {\n",
    "    'Behavior': [],\n",
    "    'Mean ± SE': [],\n",
    "    'Polarization ± SE': [],\n",
    "    'Homophily ± SE': []\n",
    "}\n",
    "\n",
    "for behavior_type in behavior_types:\n",
    "    summary_data['Behavior'].append(behavior_type.capitalize())\n",
    "    \n",
    "    mean = behavior_stats[behavior_type]['mean_estimate']\n",
    "    mean_se = behavior_stats[behavior_type]['mean_se']\n",
    "    summary_data['Mean ± SE'].append(f\"{mean:.4f} ± {mean_se:.4f}\")\n",
    "    \n",
    "    pol = behavior_stats[behavior_type]['polarization_estimate']\n",
    "    pol_se = behavior_stats[behavior_type]['polarization_se']\n",
    "    summary_data['Polarization ± SE'].append(f\"{pol:.4f} ± {pol_se:.4f}\")\n",
    "    \n",
    "    hom = homophily_stats[behavior_type]['mean']\n",
    "    hom_se = homophily_stats[behavior_type]['se']\n",
    "    summary_data['Homophily ± SE'].append(f\"{hom:.4f} ± {hom_se:.4f}\")\n",
    "\n",
    "# Convert to DataFrame and display\n",
    "summary_df = pd.DataFrame(summary_data)\n",
    "print(summary_df)"
   ]
  },
  {
   "cell_type": "code",
   "execution_count": null,
   "id": "f2902c81",
   "metadata": {},
   "outputs": [],
   "source": []
  }
 ],
 "metadata": {
  "kernelspec": {
   "display_name": "Optimal",
   "language": "python",
   "name": "python3"
  },
  "language_info": {
   "codemirror_mode": {
    "name": "ipython",
    "version": 3
   },
   "file_extension": ".py",
   "mimetype": "text/x-python",
   "name": "python",
   "nbconvert_exporter": "python",
   "pygments_lexer": "ipython3",
   "version": "3.11.4"
  }
 },
 "nbformat": 4,
 "nbformat_minor": 5
}
