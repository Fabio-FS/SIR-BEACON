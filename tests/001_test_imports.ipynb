{
 "cells": [
  {
   "cell_type": "code",
   "execution_count": null,
   "metadata": {},
   "outputs": [],
   "source": [
    "%load_ext autoreload\n",
    "%autoreload 2\n",
    "from typing import Tuple\n",
    "import unittest\n",
    "import sys\n",
    "import jax.numpy as jnp"
   ]
  },
  {
   "cell_type": "code",
   "execution_count": null,
   "metadata": {},
   "outputs": [],
   "source": [
    "def test_imports() -> Tuple[bool, str]:\n",
    "    \"\"\"Test if all required modules can be imported\n",
    "    \n",
    "    Returns:\n",
    "        Tuple of (success, message)\n",
    "    \"\"\"\n",
    "    try:\n",
    "        # Test core imports\n",
    "        from core.sir_base import sir_step, simulate_trajectory\n",
    "        from core.interaction import create_contact_matrix\n",
    "        from core.population import (\n",
    "            my_beta_symmetric,\n",
    "            my_beta_asymmetric,\n",
    "            initialize_states,\n",
    "            generate_behavior_values\n",
    "        )\n",
    "        \n",
    "        # Test model imports\n",
    "        from models.variable_susceptibility import (\n",
    "            simulate_variable_susceptibility_pol,\n",
    "            simulate_variable_susceptibility_hom,\n",
    "            susceptibility_step_pol,\n",
    "            susceptibility_step_hom\n",
    "        )\n",
    "        \n",
    "        # Test minimal functionality\n",
    "        state = (jnp.array([1.0]), jnp.array([0.1]), jnp.array([0.0]))\n",
    "        params = {\n",
    "            'transmission_rate': 0.3,\n",
    "            'recovery_rate': 0.1,\n",
    "            'dt': 0.1\n",
    "        }\n",
    "        sir_step(state, params)\n",
    "        \n",
    "        n_groups = 10\n",
    "        h = 0.5\n",
    "        pops = jnp.ones(n_groups)\n",
    "        create_contact_matrix(n_groups, h, pops)\n",
    "        \n",
    "        return True, \"All imports and basic functionality tests passed\"\n",
    "        \n",
    "    except Exception as e:\n",
    "        return False, f\"Error during testing: {str(e)}\"\n",
    "\n",
    "class TestImports(unittest.TestCase):\n",
    "    def test_all_imports(self):\n",
    "        success, message = test_imports()\n",
    "        self.assertTrue(success, message)\n",
    "\n"
   ]
  },
  {
   "cell_type": "code",
   "execution_count": null,
   "metadata": {},
   "outputs": [],
   "source": [
    "success, message = test_imports()\n",
    "print(message)"
   ]
  },
  {
   "cell_type": "code",
   "execution_count": null,
   "metadata": {},
   "outputs": [],
   "source": []
  }
 ],
 "metadata": {
  "kernelspec": {
   "display_name": "Optimal",
   "language": "python",
   "name": "python3"
  },
  "language_info": {
   "codemirror_mode": {
    "name": "ipython",
    "version": 3
   },
   "file_extension": ".py",
   "mimetype": "text/x-python",
   "name": "python",
   "nbconvert_exporter": "python",
   "pygments_lexer": "ipython3",
   "version": "3.11.4"
  }
 },
 "nbformat": 4,
 "nbformat_minor": 2
}
