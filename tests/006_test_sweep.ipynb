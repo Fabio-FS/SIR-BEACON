{
 "cells": [
  {
   "cell_type": "code",
   "execution_count": 4,
   "metadata": {},
   "outputs": [
    {
     "name": "stdout",
     "output_type": "stream",
     "text": [
      "The autoreload extension is already loaded. To reload it, use:\n",
      "  %reload_ext autoreload\n"
     ]
    }
   ],
   "source": [
    "%load_ext autoreload\n",
    "%autoreload 2\n",
    "import jax\n",
    "import jax.numpy as jnp\n",
    "from models.variable_susceptibility import simulate_variable_susceptibility_hom\n",
    "from utils.parallel import (\n",
    "    parameter_sweep,\n",
    "    create_h_sweep,\n",
    "    create_susceptibility_sweep,\n",
    "    create_beta_sweep\n",
    ")"
   ]
  },
  {
   "cell_type": "code",
   "execution_count": null,
   "metadata": {},
   "outputs": [],
   "source": [
    "def test_h_sweep(h_min: float = -5.0, h_max: float = 5.0, n_h: int = 50):\n",
    "    \"\"\"Test parameter sweep varying only homophilic tendency\"\"\"\n",
    "    \n",
    "    # Setup parameters\n",
    "    base_params = {\n",
    "        'transmission_rates': (0.1, 0.5),\n",
    "        'recovery_rate': 0.1,\n",
    "        'dt': 0.25,\n",
    "        'beta_params': (2.0, 2.0)\n",
    "    }\n",
    "    \n",
    "    param_ranges = create_h_sweep(h_min, h_max, n_h)\n",
    "    n_steps = 100\n",
    "    \n",
    "    # Run sweep\n",
    "    S_t, I_t, R_t = parameter_sweep(\n",
    "        simulation_fn=simulate_variable_susceptibility_hom,\n",
    "        param_ranges=param_ranges,  # Changed from params to param_ranges\n",
    "        base_params=base_params,\n",
    "        n_steps=n_steps,\n",
    "        sweep_type='h'\n",
    "    )\n",
    "    \n",
    "    return S_t, I_t, R_t  # Return results for plotting/analysis\n",
    "\n",
    "def test_susceptibility_symmetric_sweep(\n",
    "    susc_min: float = 0.2,\n",
    "    susc_max: float = 0.8,\n",
    "    n_susc: int = 10,\n",
    "    ab_min: float = 0.5,\n",
    "    ab_max: float = 5.0,\n",
    "    n_ab: int = 10\n",
    "):\n",
    "    \"\"\"Test parameter sweep varying susceptibility range and symmetric beta params\"\"\"\n",
    "    \n",
    "    # Added beta_params to base_params\n",
    "    base_params = {\n",
    "        'recovery_rate': 0.1,\n",
    "        'dt': 0.25,\n",
    "        'homophilic_tendency': 0,\n",
    "        'beta_params': (1.0, 1.0),  # Added this line\n",
    "        'transmission_rates': (0.0, 0.6)  # Added this line\n",
    "    }\n",
    "    \n",
    "    param_ranges = create_susceptibility_sweep(\n",
    "        susc_min, susc_max, n_susc,\n",
    "        ab_min, ab_max, n_ab\n",
    "    )\n",
    "    \n",
    "    n_steps = 100\n",
    "    \n",
    "    # Run sweep\n",
    "    S_t, I_t, R_t = parameter_sweep(\n",
    "        simulation_fn=simulate_variable_susceptibility_hom,\n",
    "        param_ranges=param_ranges,\n",
    "        base_params=base_params,\n",
    "        n_steps=n_steps,\n",
    "        sweep_type='susc'\n",
    "    )\n",
    "    \n",
    "    return S_t, I_t, R_t\n",
    "\n",
    "def test_asymmetric_beta_sweep( \n",
    "        range_a: dict ={\"m\" : 0.5, \"M\" : 5.0, \"n\" : 10}, \n",
    "        range_b: dict ={\"m\" : 0.5, \"M\" : 5.0, \"n\" : 10}, \n",
    "        h: float = 0, dt: float = 0.25, recovery_rate: float = 0.1, transmission_rates: tuple = (0, 0.6), T = 1000):\n",
    "    \"\"\"Test parameter sweep varying asymmetric beta parameters\"\"\"\n",
    "    \n",
    "    base_params = {\n",
    "        'transmission_rates': transmission_rates,\n",
    "        'recovery_rate': recovery_rate,\n",
    "        'dt': 0.25,\n",
    "        'homophilic_tendency': h,\n",
    "        'beta_params': (1.0, 1.0)  # Added default beta_params\n",
    "    }\n",
    "    \n",
    "    param_ranges = create_beta_sweep(\n",
    "        range_a[\"m\"], range_a[\"M\"], range_a[\"n\"],\n",
    "        range_b[\"m\"], range_b[\"M\"], range_b[\"n\"]\n",
    "    )\n",
    "    \n",
    "    n_steps = np.round(T / dt).astype(int)\n",
    "    \n",
    "    # Run sweep\n",
    "    S_t, I_t, R_t = parameter_sweep(\n",
    "        simulation_fn=simulate_variable_susceptibility_hom,\n",
    "        param_ranges=param_ranges,\n",
    "        base_params=base_params,\n",
    "        n_steps=n_steps,\n",
    "        sweep_type='beta'\n",
    "    )\n",
    "    \n",
    "    return S_t, I_t, R_t"
   ]
  },
  {
   "cell_type": "code",
   "execution_count": 29,
   "metadata": {},
   "outputs": [
    {
     "ename": "KeyboardInterrupt",
     "evalue": "",
     "output_type": "error",
     "traceback": [
      "\u001b[1;31m---------------------------------------------------------------------------\u001b[0m",
      "\u001b[1;31mKeyboardInterrupt\u001b[0m                         Traceback (most recent call last)",
      "Cell \u001b[1;32mIn[29], line 1\u001b[0m\n\u001b[1;32m----> 1\u001b[0m S, I, R \u001b[38;5;241m=\u001b[39m test_asymmetric_beta_sweep()\n",
      "Cell \u001b[1;32mIn[28], line 85\u001b[0m, in \u001b[0;36mtest_asymmetric_beta_sweep\u001b[1;34m(range_a, range_b, h, dt, recovery_rate, transmission_rates, T)\u001b[0m\n\u001b[0;32m     82\u001b[0m n_steps \u001b[38;5;241m=\u001b[39m np\u001b[38;5;241m.\u001b[39mround(T \u001b[38;5;241m/\u001b[39m dt)\u001b[38;5;241m.\u001b[39mastype(\u001b[38;5;28mint\u001b[39m)\n\u001b[0;32m     84\u001b[0m \u001b[38;5;66;03m# Run sweep\u001b[39;00m\n\u001b[1;32m---> 85\u001b[0m S_t, I_t, R_t \u001b[38;5;241m=\u001b[39m parameter_sweep(\n\u001b[0;32m     86\u001b[0m     simulation_fn\u001b[38;5;241m=\u001b[39msimulate_variable_susceptibility_hom,\n\u001b[0;32m     87\u001b[0m     param_ranges\u001b[38;5;241m=\u001b[39mparam_ranges,\n\u001b[0;32m     88\u001b[0m     base_params\u001b[38;5;241m=\u001b[39mbase_params,\n\u001b[0;32m     89\u001b[0m     n_steps\u001b[38;5;241m=\u001b[39mn_steps,\n\u001b[0;32m     90\u001b[0m     sweep_type\u001b[38;5;241m=\u001b[39m\u001b[38;5;124m'\u001b[39m\u001b[38;5;124mbeta\u001b[39m\u001b[38;5;124m'\u001b[39m\n\u001b[0;32m     91\u001b[0m )\n\u001b[0;32m     93\u001b[0m \u001b[38;5;28;01mreturn\u001b[39;00m S_t, I_t, R_t\n",
      "File \u001b[1;32mc:\\users\\nel_t\\documents\\work\\projects\\pol_hom\\src\\utils\\parallel.py:83\u001b[0m, in \u001b[0;36mparameter_sweep\u001b[1;34m(simulation_fn, param_ranges, base_params, n_steps, sweep_type, initial_infected_prop)\u001b[0m\n\u001b[0;32m     80\u001b[0m \u001b[38;5;66;03m# Vectorize simulation\u001b[39;00m\n\u001b[0;32m     81\u001b[0m vectorized_sim \u001b[38;5;241m=\u001b[39m jax\u001b[38;5;241m.\u001b[39mvmap(run_single_sim)\n\u001b[1;32m---> 83\u001b[0m \u001b[38;5;28;01mreturn\u001b[39;00m vectorized_sim(param_ranges)\n",
      "    \u001b[1;31m[... skipping hidden 1 frame]\u001b[0m\n",
      "File \u001b[1;32mc:\\Users\\nel_t\\anaconda3\\envs\\Optimal\\Lib\\site-packages\\jax\\_src\\api.py:1258\u001b[0m, in \u001b[0;36mvmap.<locals>.vmap_f\u001b[1;34m(*args, **kwargs)\u001b[0m\n\u001b[0;32m   1255\u001b[0m in_axes_flat \u001b[38;5;241m=\u001b[39m flatten_axes(\u001b[38;5;124m\"\u001b[39m\u001b[38;5;124mvmap in_axes\u001b[39m\u001b[38;5;124m\"\u001b[39m, in_tree, (in_axes, \u001b[38;5;241m0\u001b[39m), kws\u001b[38;5;241m=\u001b[39m\u001b[38;5;28;01mTrue\u001b[39;00m)\n\u001b[0;32m   1256\u001b[0m axis_size_ \u001b[38;5;241m=\u001b[39m (axis_size \u001b[38;5;28;01mif\u001b[39;00m axis_size \u001b[38;5;129;01mis\u001b[39;00m \u001b[38;5;129;01mnot\u001b[39;00m \u001b[38;5;28;01mNone\u001b[39;00m \u001b[38;5;28;01melse\u001b[39;00m\n\u001b[0;32m   1257\u001b[0m               _mapped_axis_size(fun, in_tree, args_flat, in_axes_flat, \u001b[38;5;124m\"\u001b[39m\u001b[38;5;124mvmap\u001b[39m\u001b[38;5;124m\"\u001b[39m))\n\u001b[1;32m-> 1258\u001b[0m out_flat \u001b[38;5;241m=\u001b[39m batching\u001b[38;5;241m.\u001b[39mbatch(\n\u001b[0;32m   1259\u001b[0m     flat_fun, axis_name, axis_size_, in_axes_flat,\n\u001b[0;32m   1260\u001b[0m     \u001b[38;5;28;01mlambda\u001b[39;00m: flatten_axes(\u001b[38;5;124m\"\u001b[39m\u001b[38;5;124mvmap out_axes\u001b[39m\u001b[38;5;124m\"\u001b[39m, out_tree(), out_axes),\n\u001b[0;32m   1261\u001b[0m     spmd_axis_name\u001b[38;5;241m=\u001b[39mspmd_axis_name\n\u001b[0;32m   1262\u001b[0m )\u001b[38;5;241m.\u001b[39mcall_wrapped(\u001b[38;5;241m*\u001b[39margs_flat)\n\u001b[0;32m   1263\u001b[0m \u001b[38;5;28;01mreturn\u001b[39;00m tree_unflatten(out_tree(), out_flat)\n",
      "File \u001b[1;32mc:\\Users\\nel_t\\anaconda3\\envs\\Optimal\\Lib\\site-packages\\jax\\_src\\linear_util.py:188\u001b[0m, in \u001b[0;36mWrappedFun.call_wrapped\u001b[1;34m(self, *args, **kwargs)\u001b[0m\n\u001b[0;32m    185\u001b[0m gen \u001b[38;5;241m=\u001b[39m gen_static_args \u001b[38;5;241m=\u001b[39m out_store \u001b[38;5;241m=\u001b[39m \u001b[38;5;28;01mNone\u001b[39;00m\n\u001b[0;32m    187\u001b[0m \u001b[38;5;28;01mtry\u001b[39;00m:\n\u001b[1;32m--> 188\u001b[0m   ans \u001b[38;5;241m=\u001b[39m \u001b[38;5;28mself\u001b[39m\u001b[38;5;241m.\u001b[39mf(\u001b[38;5;241m*\u001b[39margs, \u001b[38;5;241m*\u001b[39m\u001b[38;5;241m*\u001b[39m\u001b[38;5;28mdict\u001b[39m(\u001b[38;5;28mself\u001b[39m\u001b[38;5;241m.\u001b[39mparams, \u001b[38;5;241m*\u001b[39m\u001b[38;5;241m*\u001b[39mkwargs))\n\u001b[0;32m    189\u001b[0m \u001b[38;5;28;01mexcept\u001b[39;00m:\n\u001b[0;32m    190\u001b[0m   \u001b[38;5;66;03m# Some transformations yield from inside context managers, so we have to\u001b[39;00m\n\u001b[0;32m    191\u001b[0m   \u001b[38;5;66;03m# interrupt them before reraising the exception. Otherwise they will only\u001b[39;00m\n\u001b[0;32m    192\u001b[0m   \u001b[38;5;66;03m# get garbage-collected at some later time, running their cleanup tasks\u001b[39;00m\n\u001b[0;32m    193\u001b[0m   \u001b[38;5;66;03m# only after this exception is handled, which can corrupt the global\u001b[39;00m\n\u001b[0;32m    194\u001b[0m   \u001b[38;5;66;03m# state.\u001b[39;00m\n\u001b[0;32m    195\u001b[0m   \u001b[38;5;28;01mwhile\u001b[39;00m stack:\n",
      "File \u001b[1;32mc:\\users\\nel_t\\documents\\work\\projects\\pol_hom\\src\\utils\\parallel.py:73\u001b[0m, in \u001b[0;36mparameter_sweep.<locals>.run_single_sim\u001b[1;34m(param_values)\u001b[0m\n\u001b[0;32m     70\u001b[0m \u001b[38;5;28;01melse\u001b[39;00m:  \u001b[38;5;66;03m# beta sweep\u001b[39;00m\n\u001b[0;32m     71\u001b[0m     sim_params[\u001b[38;5;124m'\u001b[39m\u001b[38;5;124mbeta_params\u001b[39m\u001b[38;5;124m'\u001b[39m] \u001b[38;5;241m=\u001b[39m (param_values[\u001b[38;5;241m0\u001b[39m], param_values[\u001b[38;5;241m1\u001b[39m])\n\u001b[1;32m---> 73\u001b[0m \u001b[38;5;28;01mreturn\u001b[39;00m simulation_fn(\n\u001b[0;32m     74\u001b[0m     beta_params\u001b[38;5;241m=\u001b[39msim_params\u001b[38;5;241m.\u001b[39mget(\u001b[38;5;124m'\u001b[39m\u001b[38;5;124mbeta_params\u001b[39m\u001b[38;5;124m'\u001b[39m, base_params[\u001b[38;5;124m'\u001b[39m\u001b[38;5;124mbeta_params\u001b[39m\u001b[38;5;124m'\u001b[39m]),\n\u001b[0;32m     75\u001b[0m     params\u001b[38;5;241m=\u001b[39msim_params,\n\u001b[0;32m     76\u001b[0m     n_steps\u001b[38;5;241m=\u001b[39mn_steps,\n\u001b[0;32m     77\u001b[0m     initial_infected_prop\u001b[38;5;241m=\u001b[39minitial_infected_prop\n\u001b[0;32m     78\u001b[0m )\n",
      "File \u001b[1;32mc:\\users\\nel_t\\documents\\work\\projects\\pol_hom\\src\\models\\variable_susceptibility.py:113\u001b[0m, in \u001b[0;36msimulate_variable_susceptibility_hom\u001b[1;34m(beta_params, params, n_steps, initial_infected_prop)\u001b[0m\n\u001b[0;32m    111\u001b[0m     state \u001b[38;5;241m=\u001b[39m susceptibility_step_hom(state, susceptibility, C, gamma)\n\u001b[0;32m    112\u001b[0m     S_t \u001b[38;5;241m=\u001b[39m S_t\u001b[38;5;241m.\u001b[39mat[t \u001b[38;5;241m+\u001b[39m \u001b[38;5;241m1\u001b[39m]\u001b[38;5;241m.\u001b[39mset(state[\u001b[38;5;241m0\u001b[39m])\n\u001b[1;32m--> 113\u001b[0m     I_t \u001b[38;5;241m=\u001b[39m I_t\u001b[38;5;241m.\u001b[39mat[t \u001b[38;5;241m+\u001b[39m \u001b[38;5;241m1\u001b[39m]\u001b[38;5;241m.\u001b[39mset(state[\u001b[38;5;241m1\u001b[39m])\n\u001b[0;32m    114\u001b[0m     R_t \u001b[38;5;241m=\u001b[39m R_t\u001b[38;5;241m.\u001b[39mat[t \u001b[38;5;241m+\u001b[39m \u001b[38;5;241m1\u001b[39m]\u001b[38;5;241m.\u001b[39mset(state[\u001b[38;5;241m2\u001b[39m])\n\u001b[0;32m    116\u001b[0m \u001b[38;5;28;01mreturn\u001b[39;00m S_t, I_t, R_t\n",
      "File \u001b[1;32mc:\\Users\\nel_t\\anaconda3\\envs\\Optimal\\Lib\\site-packages\\jax\\_src\\numpy\\array_methods.py:477\u001b[0m, in \u001b[0;36m_IndexUpdateRef.set\u001b[1;34m(self, values, indices_are_sorted, unique_indices, mode)\u001b[0m\n\u001b[0;32m    468\u001b[0m \u001b[38;5;28;01mdef\u001b[39;00m \u001b[38;5;21mset\u001b[39m(\u001b[38;5;28mself\u001b[39m, values, \u001b[38;5;241m*\u001b[39m, indices_are_sorted\u001b[38;5;241m=\u001b[39m\u001b[38;5;28;01mFalse\u001b[39;00m, unique_indices\u001b[38;5;241m=\u001b[39m\u001b[38;5;28;01mFalse\u001b[39;00m,\n\u001b[0;32m    469\u001b[0m         mode\u001b[38;5;241m=\u001b[39m\u001b[38;5;28;01mNone\u001b[39;00m):\n\u001b[0;32m    470\u001b[0m \u001b[38;5;250m  \u001b[39m\u001b[38;5;124;03m\"\"\"Pure equivalent of ``x[idx] = y``.\u001b[39;00m\n\u001b[0;32m    471\u001b[0m \n\u001b[0;32m    472\u001b[0m \u001b[38;5;124;03m  Returns the value of ``x`` that would result from the NumPy-style\u001b[39;00m\n\u001b[1;32m   (...)\u001b[0m\n\u001b[0;32m    475\u001b[0m \u001b[38;5;124;03m  See :mod:`jax.ops` for details.\u001b[39;00m\n\u001b[0;32m    476\u001b[0m \u001b[38;5;124;03m  \"\"\"\u001b[39;00m\n\u001b[1;32m--> 477\u001b[0m   \u001b[38;5;28;01mreturn\u001b[39;00m scatter\u001b[38;5;241m.\u001b[39m_scatter_update(\u001b[38;5;28mself\u001b[39m\u001b[38;5;241m.\u001b[39marray, \u001b[38;5;28mself\u001b[39m\u001b[38;5;241m.\u001b[39mindex, values, lax\u001b[38;5;241m.\u001b[39mscatter,\n\u001b[0;32m    478\u001b[0m                                  indices_are_sorted\u001b[38;5;241m=\u001b[39mindices_are_sorted,\n\u001b[0;32m    479\u001b[0m                                  unique_indices\u001b[38;5;241m=\u001b[39munique_indices, mode\u001b[38;5;241m=\u001b[39mmode)\n",
      "File \u001b[1;32mc:\\Users\\nel_t\\anaconda3\\envs\\Optimal\\Lib\\site-packages\\jax\\_src\\ops\\scatter.py:77\u001b[0m, in \u001b[0;36m_scatter_update\u001b[1;34m(x, idx, y, scatter_op, indices_are_sorted, unique_indices, mode, normalize_indices)\u001b[0m\n\u001b[0;32m     74\u001b[0m \u001b[38;5;66;03m# XLA gathers and scatters are very similar in structure; the scatter logic\u001b[39;00m\n\u001b[0;32m     75\u001b[0m \u001b[38;5;66;03m# is more or less a transpose of the gather equivalent.\u001b[39;00m\n\u001b[0;32m     76\u001b[0m treedef, static_idx, dynamic_idx \u001b[38;5;241m=\u001b[39m jnp\u001b[38;5;241m.\u001b[39m_split_index_for_jit(idx, x\u001b[38;5;241m.\u001b[39mshape)\n\u001b[1;32m---> 77\u001b[0m \u001b[38;5;28;01mreturn\u001b[39;00m _scatter_impl(x, y, scatter_op, treedef, static_idx, dynamic_idx,\n\u001b[0;32m     78\u001b[0m                      indices_are_sorted, unique_indices, mode,\n\u001b[0;32m     79\u001b[0m                      normalize_indices)\n",
      "File \u001b[1;32mc:\\Users\\nel_t\\anaconda3\\envs\\Optimal\\Lib\\site-packages\\jax\\_src\\ops\\scatter.py:123\u001b[0m, in \u001b[0;36m_scatter_impl\u001b[1;34m(x, y, scatter_op, treedef, static_idx, dynamic_idx, indices_are_sorted, unique_indices, mode, normalize_indices)\u001b[0m\n\u001b[0;32m    116\u001b[0m \u001b[38;5;66;03m# Transpose the gather dimensions into scatter dimensions (cf.\u001b[39;00m\n\u001b[0;32m    117\u001b[0m \u001b[38;5;66;03m# lax._gather_transpose_rule)\u001b[39;00m\n\u001b[0;32m    118\u001b[0m dnums \u001b[38;5;241m=\u001b[39m lax\u001b[38;5;241m.\u001b[39mScatterDimensionNumbers(\n\u001b[0;32m    119\u001b[0m   update_window_dims\u001b[38;5;241m=\u001b[39mindexer\u001b[38;5;241m.\u001b[39mdnums\u001b[38;5;241m.\u001b[39moffset_dims,\n\u001b[0;32m    120\u001b[0m   inserted_window_dims\u001b[38;5;241m=\u001b[39mindexer\u001b[38;5;241m.\u001b[39mdnums\u001b[38;5;241m.\u001b[39mcollapsed_slice_dims,\n\u001b[0;32m    121\u001b[0m   scatter_dims_to_operand_dims\u001b[38;5;241m=\u001b[39mindexer\u001b[38;5;241m.\u001b[39mdnums\u001b[38;5;241m.\u001b[39mstart_index_map\n\u001b[0;32m    122\u001b[0m )\n\u001b[1;32m--> 123\u001b[0m out \u001b[38;5;241m=\u001b[39m scatter_op(\n\u001b[0;32m    124\u001b[0m   x, indexer\u001b[38;5;241m.\u001b[39mgather_indices, y, dnums,\n\u001b[0;32m    125\u001b[0m   indices_are_sorted\u001b[38;5;241m=\u001b[39mindexer\u001b[38;5;241m.\u001b[39mindices_are_sorted \u001b[38;5;129;01mor\u001b[39;00m indices_are_sorted,\n\u001b[0;32m    126\u001b[0m   unique_indices\u001b[38;5;241m=\u001b[39mindexer\u001b[38;5;241m.\u001b[39munique_indices \u001b[38;5;129;01mor\u001b[39;00m unique_indices,\n\u001b[0;32m    127\u001b[0m   mode\u001b[38;5;241m=\u001b[39mmode)\n\u001b[0;32m    128\u001b[0m \u001b[38;5;28;01mreturn\u001b[39;00m lax_internal\u001b[38;5;241m.\u001b[39m_convert_element_type(out, dtype, weak_type)\n",
      "File \u001b[1;32mc:\\Users\\nel_t\\anaconda3\\envs\\Optimal\\Lib\\site-packages\\jax\\_src\\lax\\slicing.py:676\u001b[0m, in \u001b[0;36mscatter\u001b[1;34m(operand, scatter_indices, updates, dimension_numbers, indices_are_sorted, unique_indices, mode)\u001b[0m\n\u001b[0;32m    634\u001b[0m \u001b[38;5;28;01mdef\u001b[39;00m \u001b[38;5;21mscatter\u001b[39m(\n\u001b[0;32m    635\u001b[0m   operand: ArrayLike, scatter_indices: ArrayLike, updates: ArrayLike,\n\u001b[0;32m    636\u001b[0m   dimension_numbers: ScatterDimensionNumbers, \u001b[38;5;241m*\u001b[39m,\n\u001b[0;32m    637\u001b[0m   indices_are_sorted: \u001b[38;5;28mbool\u001b[39m \u001b[38;5;241m=\u001b[39m \u001b[38;5;28;01mFalse\u001b[39;00m, unique_indices: \u001b[38;5;28mbool\u001b[39m \u001b[38;5;241m=\u001b[39m \u001b[38;5;28;01mFalse\u001b[39;00m,\n\u001b[0;32m    638\u001b[0m   mode: Optional[Union[\u001b[38;5;28mstr\u001b[39m, GatherScatterMode]] \u001b[38;5;241m=\u001b[39m \u001b[38;5;28;01mNone\u001b[39;00m) \u001b[38;5;241m-\u001b[39m\u001b[38;5;241m>\u001b[39m Array:\n\u001b[0;32m    639\u001b[0m \u001b[38;5;250m  \u001b[39m\u001b[38;5;124;03m\"\"\"Scatter-update operator.\u001b[39;00m\n\u001b[0;32m    640\u001b[0m \n\u001b[0;32m    641\u001b[0m \u001b[38;5;124;03m  Wraps `XLA's Scatter operator\u001b[39;00m\n\u001b[1;32m   (...)\u001b[0m\n\u001b[0;32m    674\u001b[0m \u001b[38;5;124;03m    An array containing the sum of `operand` and the scattered updates.\u001b[39;00m\n\u001b[0;32m    675\u001b[0m \u001b[38;5;124;03m  \"\"\"\u001b[39;00m\n\u001b[1;32m--> 676\u001b[0m   \u001b[38;5;28;01mreturn\u001b[39;00m scatter_p\u001b[38;5;241m.\u001b[39mbind(\n\u001b[0;32m    677\u001b[0m       operand, scatter_indices, updates, update_jaxpr\u001b[38;5;241m=\u001b[39m\u001b[38;5;28;01mNone\u001b[39;00m,\n\u001b[0;32m    678\u001b[0m       update_consts\u001b[38;5;241m=\u001b[39m(), dimension_numbers\u001b[38;5;241m=\u001b[39mdimension_numbers,\n\u001b[0;32m    679\u001b[0m       indices_are_sorted\u001b[38;5;241m=\u001b[39mindices_are_sorted, unique_indices\u001b[38;5;241m=\u001b[39munique_indices,\n\u001b[0;32m    680\u001b[0m       mode\u001b[38;5;241m=\u001b[39mGatherScatterMode\u001b[38;5;241m.\u001b[39mfrom_any(mode))\n",
      "File \u001b[1;32mc:\\Users\\nel_t\\anaconda3\\envs\\Optimal\\Lib\\site-packages\\jax\\_src\\core.py:386\u001b[0m, in \u001b[0;36mPrimitive.bind\u001b[1;34m(self, *args, **params)\u001b[0m\n\u001b[0;32m    383\u001b[0m \u001b[38;5;28;01mdef\u001b[39;00m \u001b[38;5;21mbind\u001b[39m(\u001b[38;5;28mself\u001b[39m, \u001b[38;5;241m*\u001b[39margs, \u001b[38;5;241m*\u001b[39m\u001b[38;5;241m*\u001b[39mparams):\n\u001b[0;32m    384\u001b[0m   \u001b[38;5;28;01massert\u001b[39;00m (\u001b[38;5;129;01mnot\u001b[39;00m config\u001b[38;5;241m.\u001b[39mjax_enable_checks \u001b[38;5;129;01mor\u001b[39;00m\n\u001b[0;32m    385\u001b[0m           \u001b[38;5;28mall\u001b[39m(\u001b[38;5;28misinstance\u001b[39m(arg, Tracer) \u001b[38;5;129;01mor\u001b[39;00m valid_jaxtype(arg) \u001b[38;5;28;01mfor\u001b[39;00m arg \u001b[38;5;129;01min\u001b[39;00m args)), args\n\u001b[1;32m--> 386\u001b[0m   \u001b[38;5;28;01mreturn\u001b[39;00m \u001b[38;5;28mself\u001b[39m\u001b[38;5;241m.\u001b[39mbind_with_trace(find_top_trace(args), args, params)\n",
      "File \u001b[1;32mc:\\Users\\nel_t\\anaconda3\\envs\\Optimal\\Lib\\site-packages\\jax\\_src\\core.py:389\u001b[0m, in \u001b[0;36mPrimitive.bind_with_trace\u001b[1;34m(self, trace, args, params)\u001b[0m\n\u001b[0;32m    388\u001b[0m \u001b[38;5;28;01mdef\u001b[39;00m \u001b[38;5;21mbind_with_trace\u001b[39m(\u001b[38;5;28mself\u001b[39m, trace, args, params):\n\u001b[1;32m--> 389\u001b[0m   out \u001b[38;5;241m=\u001b[39m trace\u001b[38;5;241m.\u001b[39mprocess_primitive(\u001b[38;5;28mself\u001b[39m, \u001b[38;5;28mmap\u001b[39m(trace\u001b[38;5;241m.\u001b[39mfull_raise, args), params)\n\u001b[0;32m    390\u001b[0m   \u001b[38;5;28;01mreturn\u001b[39;00m \u001b[38;5;28mmap\u001b[39m(full_lower, out) \u001b[38;5;28;01mif\u001b[39;00m \u001b[38;5;28mself\u001b[39m\u001b[38;5;241m.\u001b[39mmultiple_results \u001b[38;5;28;01melse\u001b[39;00m full_lower(out)\n",
      "File \u001b[1;32mc:\\Users\\nel_t\\anaconda3\\envs\\Optimal\\Lib\\site-packages\\jax\\_src\\interpreters\\batching.py:431\u001b[0m, in \u001b[0;36mBatchTrace.process_primitive\u001b[1;34m(self, primitive, tracers, params)\u001b[0m\n\u001b[0;32m    429\u001b[0m   frame \u001b[38;5;241m=\u001b[39m \u001b[38;5;28mself\u001b[39m\u001b[38;5;241m.\u001b[39mget_frame(vals_in, dims_in)\n\u001b[0;32m    430\u001b[0m   batched_primitive \u001b[38;5;241m=\u001b[39m \u001b[38;5;28mself\u001b[39m\u001b[38;5;241m.\u001b[39mget_primitive_batcher(primitive, frame)\n\u001b[1;32m--> 431\u001b[0m   val_out, dim_out \u001b[38;5;241m=\u001b[39m batched_primitive(vals_in, dims_in, \u001b[38;5;241m*\u001b[39m\u001b[38;5;241m*\u001b[39mparams)\n\u001b[0;32m    432\u001b[0m src \u001b[38;5;241m=\u001b[39m source_info_util\u001b[38;5;241m.\u001b[39mcurrent()\n\u001b[0;32m    433\u001b[0m \u001b[38;5;28;01mif\u001b[39;00m primitive\u001b[38;5;241m.\u001b[39mmultiple_results:\n",
      "File \u001b[1;32mc:\\Users\\nel_t\\anaconda3\\envs\\Optimal\\Lib\\site-packages\\jax\\_src\\lax\\slicing.py:2089\u001b[0m, in \u001b[0;36m_scatter_batching_rule\u001b[1;34m(scatter_op, batched_args, batch_dims, update_jaxpr, update_consts, dimension_numbers, indices_are_sorted, unique_indices, mode)\u001b[0m\n\u001b[0;32m   2084\u001b[0m   scatter_dims_to_operand_dims \u001b[38;5;241m=\u001b[39m \u001b[38;5;28mtuple\u001b[39m(np\u001b[38;5;241m.\u001b[39madd(\u001b[38;5;241m1\u001b[39m, dimension_numbers\u001b[38;5;241m.\u001b[39mscatter_dims_to_operand_dims))\n\u001b[0;32m   2085\u001b[0m   dnums \u001b[38;5;241m=\u001b[39m ScatterDimensionNumbers(\n\u001b[0;32m   2086\u001b[0m       update_window_dims\u001b[38;5;241m=\u001b[39mupdate_window_dims,\n\u001b[0;32m   2087\u001b[0m       inserted_window_dims\u001b[38;5;241m=\u001b[39minserted_window_dims,\n\u001b[0;32m   2088\u001b[0m       scatter_dims_to_operand_dims\u001b[38;5;241m=\u001b[39mscatter_dims_to_operand_dims)\n\u001b[1;32m-> 2089\u001b[0m   \u001b[38;5;28;01mreturn\u001b[39;00m scatter_op\u001b[38;5;241m.\u001b[39mbind(\n\u001b[0;32m   2090\u001b[0m     operand, indices, updates, dimension_numbers\u001b[38;5;241m=\u001b[39mdnums,\n\u001b[0;32m   2091\u001b[0m     indices_are_sorted\u001b[38;5;241m=\u001b[39mindices_are_sorted, unique_indices\u001b[38;5;241m=\u001b[39munique_indices,\n\u001b[0;32m   2092\u001b[0m     mode\u001b[38;5;241m=\u001b[39mmode, update_jaxpr\u001b[38;5;241m=\u001b[39mupdate_jaxpr, update_consts\u001b[38;5;241m=\u001b[39mupdate_consts), \u001b[38;5;241m0\u001b[39m\n\u001b[0;32m   2095\u001b[0m \u001b[38;5;66;03m# see the third case in _gather_batching_rule for comparison and comments\u001b[39;00m\n\u001b[0;32m   2096\u001b[0m indices \u001b[38;5;241m=\u001b[39m batching\u001b[38;5;241m.\u001b[39mbdim_at_front(indices, indices_bdim, size)\n",
      "File \u001b[1;32mc:\\Users\\nel_t\\anaconda3\\envs\\Optimal\\Lib\\site-packages\\jax\\_src\\core.py:386\u001b[0m, in \u001b[0;36mPrimitive.bind\u001b[1;34m(self, *args, **params)\u001b[0m\n\u001b[0;32m    383\u001b[0m \u001b[38;5;28;01mdef\u001b[39;00m \u001b[38;5;21mbind\u001b[39m(\u001b[38;5;28mself\u001b[39m, \u001b[38;5;241m*\u001b[39margs, \u001b[38;5;241m*\u001b[39m\u001b[38;5;241m*\u001b[39mparams):\n\u001b[0;32m    384\u001b[0m   \u001b[38;5;28;01massert\u001b[39;00m (\u001b[38;5;129;01mnot\u001b[39;00m config\u001b[38;5;241m.\u001b[39mjax_enable_checks \u001b[38;5;129;01mor\u001b[39;00m\n\u001b[0;32m    385\u001b[0m           \u001b[38;5;28mall\u001b[39m(\u001b[38;5;28misinstance\u001b[39m(arg, Tracer) \u001b[38;5;129;01mor\u001b[39;00m valid_jaxtype(arg) \u001b[38;5;28;01mfor\u001b[39;00m arg \u001b[38;5;129;01min\u001b[39;00m args)), args\n\u001b[1;32m--> 386\u001b[0m   \u001b[38;5;28;01mreturn\u001b[39;00m \u001b[38;5;28mself\u001b[39m\u001b[38;5;241m.\u001b[39mbind_with_trace(find_top_trace(args), args, params)\n",
      "File \u001b[1;32mc:\\Users\\nel_t\\anaconda3\\envs\\Optimal\\Lib\\site-packages\\jax\\_src\\core.py:389\u001b[0m, in \u001b[0;36mPrimitive.bind_with_trace\u001b[1;34m(self, trace, args, params)\u001b[0m\n\u001b[0;32m    388\u001b[0m \u001b[38;5;28;01mdef\u001b[39;00m \u001b[38;5;21mbind_with_trace\u001b[39m(\u001b[38;5;28mself\u001b[39m, trace, args, params):\n\u001b[1;32m--> 389\u001b[0m   out \u001b[38;5;241m=\u001b[39m trace\u001b[38;5;241m.\u001b[39mprocess_primitive(\u001b[38;5;28mself\u001b[39m, \u001b[38;5;28mmap\u001b[39m(trace\u001b[38;5;241m.\u001b[39mfull_raise, args), params)\n\u001b[0;32m    390\u001b[0m   \u001b[38;5;28;01mreturn\u001b[39;00m \u001b[38;5;28mmap\u001b[39m(full_lower, out) \u001b[38;5;28;01mif\u001b[39;00m \u001b[38;5;28mself\u001b[39m\u001b[38;5;241m.\u001b[39mmultiple_results \u001b[38;5;28;01melse\u001b[39;00m full_lower(out)\n",
      "File \u001b[1;32mc:\\Users\\nel_t\\anaconda3\\envs\\Optimal\\Lib\\site-packages\\jax\\_src\\core.py:821\u001b[0m, in \u001b[0;36mEvalTrace.process_primitive\u001b[1;34m(self, primitive, tracers, params)\u001b[0m\n\u001b[0;32m    820\u001b[0m \u001b[38;5;28;01mdef\u001b[39;00m \u001b[38;5;21mprocess_primitive\u001b[39m(\u001b[38;5;28mself\u001b[39m, primitive, tracers, params):\n\u001b[1;32m--> 821\u001b[0m   \u001b[38;5;28;01mreturn\u001b[39;00m primitive\u001b[38;5;241m.\u001b[39mimpl(\u001b[38;5;241m*\u001b[39mtracers, \u001b[38;5;241m*\u001b[39m\u001b[38;5;241m*\u001b[39mparams)\n",
      "File \u001b[1;32mc:\\Users\\nel_t\\anaconda3\\envs\\Optimal\\Lib\\site-packages\\jax\\_src\\dispatch.py:143\u001b[0m, in \u001b[0;36mapply_primitive\u001b[1;34m(prim, *args, **params)\u001b[0m\n\u001b[0;32m    139\u001b[0m   msg \u001b[38;5;241m=\u001b[39m pjit\u001b[38;5;241m.\u001b[39m_device_assignment_mismatch_error(\n\u001b[0;32m    140\u001b[0m       prim\u001b[38;5;241m.\u001b[39mname, fails, args, \u001b[38;5;124m'\u001b[39m\u001b[38;5;124mjit\u001b[39m\u001b[38;5;124m'\u001b[39m, arg_names)\n\u001b[0;32m    141\u001b[0m   \u001b[38;5;28;01mraise\u001b[39;00m \u001b[38;5;167;01mValueError\u001b[39;00m(msg) \u001b[38;5;28;01mfrom\u001b[39;00m \u001b[38;5;28;01mNone\u001b[39;00m\n\u001b[1;32m--> 143\u001b[0m \u001b[38;5;28;01mreturn\u001b[39;00m compiled_fun(\u001b[38;5;241m*\u001b[39margs)\n",
      "File \u001b[1;32mc:\\Users\\nel_t\\anaconda3\\envs\\Optimal\\Lib\\site-packages\\jax\\_src\\dispatch.py:226\u001b[0m, in \u001b[0;36mxla_primitive_callable.<locals>.<lambda>\u001b[1;34m(*args, **kw)\u001b[0m\n\u001b[0;32m    222\u001b[0m compiled \u001b[38;5;241m=\u001b[39m _xla_callable_uncached(\n\u001b[0;32m    223\u001b[0m     lu\u001b[38;5;241m.\u001b[39mwrap_init(prim_fun), prim\u001b[38;5;241m.\u001b[39mname, donated_invars, \u001b[38;5;28;01mFalse\u001b[39;00m, in_avals,\n\u001b[0;32m    224\u001b[0m     orig_in_shardings)\n\u001b[0;32m    225\u001b[0m \u001b[38;5;28;01mif\u001b[39;00m \u001b[38;5;129;01mnot\u001b[39;00m prim\u001b[38;5;241m.\u001b[39mmultiple_results:\n\u001b[1;32m--> 226\u001b[0m   \u001b[38;5;28;01mreturn\u001b[39;00m \u001b[38;5;28;01mlambda\u001b[39;00m \u001b[38;5;241m*\u001b[39margs, \u001b[38;5;241m*\u001b[39m\u001b[38;5;241m*\u001b[39mkw: compiled(\u001b[38;5;241m*\u001b[39margs, \u001b[38;5;241m*\u001b[39m\u001b[38;5;241m*\u001b[39mkw)[\u001b[38;5;241m0\u001b[39m]\n\u001b[0;32m    227\u001b[0m \u001b[38;5;28;01melse\u001b[39;00m:\n\u001b[0;32m    228\u001b[0m   \u001b[38;5;28;01mreturn\u001b[39;00m compiled\n",
      "File \u001b[1;32mc:\\Users\\nel_t\\anaconda3\\envs\\Optimal\\Lib\\site-packages\\jax\\_src\\profiler.py:314\u001b[0m, in \u001b[0;36mannotate_function.<locals>.wrapper\u001b[1;34m(*args, **kwargs)\u001b[0m\n\u001b[0;32m    311\u001b[0m \u001b[38;5;129m@wraps\u001b[39m(func)\n\u001b[0;32m    312\u001b[0m \u001b[38;5;28;01mdef\u001b[39;00m \u001b[38;5;21mwrapper\u001b[39m(\u001b[38;5;241m*\u001b[39margs, \u001b[38;5;241m*\u001b[39m\u001b[38;5;241m*\u001b[39mkwargs):\n\u001b[0;32m    313\u001b[0m   \u001b[38;5;28;01mwith\u001b[39;00m TraceAnnotation(name, \u001b[38;5;241m*\u001b[39m\u001b[38;5;241m*\u001b[39mdecorator_kwargs):\n\u001b[1;32m--> 314\u001b[0m     \u001b[38;5;28;01mreturn\u001b[39;00m func(\u001b[38;5;241m*\u001b[39margs, \u001b[38;5;241m*\u001b[39m\u001b[38;5;241m*\u001b[39mkwargs)\n\u001b[0;32m    315\u001b[0m   \u001b[38;5;28;01mreturn\u001b[39;00m wrapper\n",
      "File \u001b[1;32mc:\\Users\\nel_t\\anaconda3\\envs\\Optimal\\Lib\\site-packages\\jax\\_src\\interpreters\\pxla.py:1229\u001b[0m, in \u001b[0;36mExecuteReplicated.__call__\u001b[1;34m(self, *args)\u001b[0m\n\u001b[0;32m   1224\u001b[0m   \u001b[38;5;28mself\u001b[39m\u001b[38;5;241m.\u001b[39m_handle_token_bufs(\n\u001b[0;32m   1225\u001b[0m       results\u001b[38;5;241m.\u001b[39mdisassemble_prefix_into_single_device_arrays(\n\u001b[0;32m   1226\u001b[0m           \u001b[38;5;28mlen\u001b[39m(\u001b[38;5;28mself\u001b[39m\u001b[38;5;241m.\u001b[39mordered_effects)),\n\u001b[0;32m   1227\u001b[0m       results\u001b[38;5;241m.\u001b[39mconsume_token())\n\u001b[0;32m   1228\u001b[0m \u001b[38;5;28;01melse\u001b[39;00m:\n\u001b[1;32m-> 1229\u001b[0m   results \u001b[38;5;241m=\u001b[39m \u001b[38;5;28mself\u001b[39m\u001b[38;5;241m.\u001b[39mxla_executable\u001b[38;5;241m.\u001b[39mexecute_sharded(input_bufs)\n\u001b[0;32m   1230\u001b[0m \u001b[38;5;28;01mif\u001b[39;00m dispatch\u001b[38;5;241m.\u001b[39mneeds_check_special():\n\u001b[0;32m   1231\u001b[0m   out_arrays \u001b[38;5;241m=\u001b[39m results\u001b[38;5;241m.\u001b[39mdisassemble_into_single_device_arrays()\n",
      "\u001b[1;31mKeyboardInterrupt\u001b[0m: "
     ]
    }
   ],
   "source": [
    "S, I, R = test_asymmetric_beta_sweep()"
   ]
  },
  {
   "cell_type": "code",
   "execution_count": 23,
   "metadata": {},
   "outputs": [],
   "source": [
    "def run_all_tests():\n",
    "    # Test 1: Homophily sweep\n",
    "    print(\"Testing homophily sweep...\")\n",
    "    S_h, I_h, R_h = test_h_sweep(h_min=-5.0, h_max=5.0, n_h=10)\n",
    "    print(f\"Homophily sweep shapes: S:{S_h.shape}, I:{I_h.shape}, R:{R_h.shape}\")\n",
    "    \n",
    "    # Test 2: Susceptibility symmetric sweep\n",
    "    print(\"\\nTesting susceptibility symmetric sweep...\")\n",
    "    S_s, I_s, R_s = test_susceptibility_symmetric_sweep(\n",
    "        susc_min=0.1,\n",
    "        susc_max=0.9,\n",
    "        n_susc=5,\n",
    "        ab_min=1.0,\n",
    "        ab_max=4.0,\n",
    "        n_ab=5\n",
    "    )\n",
    "    print(f\"Susceptibility sweep shapes: S:{S_s.shape}, I:{I_s.shape}, R:{R_s.shape}\")\n",
    "    \n",
    "    # Test 3: Asymmetric beta sweep\n",
    "    print(\"\\nTesting asymmetric beta sweep...\")\n",
    "    S_b, I_b, R_b = test_asymmetric_beta_sweep(\n",
    "        a_min=1.0,\n",
    "        a_max=3.0,\n",
    "        n_a=5,\n",
    "        b_min=2.0,\n",
    "        b_max=4.0,\n",
    "        n_b=5\n",
    "    )\n",
    "    print(f\"Beta sweep shapes: S:{S_b.shape}, I:{I_b.shape}, R:{R_b.shape}\")\n",
    "    \n",
    "    # Basic validation checks\n",
    "    def validate_results(S, I, R, name):\n",
    "        print(f\"\\nValidating {name}...\")\n",
    "        # Check population conservation\n",
    "        total = S + I + R\n",
    "        is_conserved = np.allclose(total.sum(axis=-1), 1.0)\n",
    "        print(f\"Population conserved: {is_conserved}\")\n",
    "        \n",
    "        # Check non-negativity\n",
    "        non_negative = (S >= 0).all() and (I >= 0).all() and (R >= 0).all()\n",
    "        print(f\"All values non-negative: {non_negative}\")\n",
    "        \n",
    "        # Check final epidemic size\n",
    "        final_size = R[:, -1, :].sum(axis=-1)\n",
    "        print(f\"Range of final epidemic sizes: [{final_size.min():.3f}, {final_size.max():.3f}]\")\n",
    "    \n",
    "    validate_results(S_h, I_h, R_h, \"homophily sweep\")\n",
    "    validate_results(S_s, I_s, R_s, \"susceptibility sweep\")\n",
    "    validate_results(S_b, I_b, R_b, \"beta sweep\")"
   ]
  },
  {
   "cell_type": "code",
   "execution_count": 24,
   "metadata": {},
   "outputs": [
    {
     "name": "stdout",
     "output_type": "stream",
     "text": [
      "Testing homophily sweep...\n",
      "Homophily sweep shapes: S:(10, 101, 100), I:(10, 101, 100), R:(10, 101, 100)\n",
      "\n",
      "Testing susceptibility symmetric sweep...\n",
      "Susceptibility sweep shapes: S:(25, 101, 100), I:(25, 101, 100), R:(25, 101, 100)\n",
      "\n",
      "Testing asymmetric beta sweep...\n",
      "Beta sweep shapes: S:(25, 101, 100), I:(25, 101, 100), R:(25, 101, 100)\n",
      "\n",
      "Validating homophily sweep...\n",
      "Population conserved: True\n",
      "All values non-negative: True\n",
      "Range of final epidemic sizes: [0.006, 0.016]\n",
      "\n",
      "Validating susceptibility sweep...\n",
      "Population conserved: True\n",
      "All values non-negative: True\n",
      "Range of final epidemic sizes: [0.000, 0.184]\n",
      "\n",
      "Validating beta sweep...\n",
      "Population conserved: True\n",
      "All values non-negative: True\n",
      "Range of final epidemic sizes: [0.002, 0.151]\n"
     ]
    }
   ],
   "source": [
    "run_all_tests()"
   ]
  },
  {
   "cell_type": "code",
   "execution_count": 16,
   "metadata": {},
   "outputs": [
    {
     "data": {
      "text/plain": [
       "(10, 101, 100)"
      ]
     },
     "execution_count": 16,
     "metadata": {},
     "output_type": "execute_result"
    }
   ],
   "source": [
    "S_t = np.array(S_t)\n",
    "type(S_t)\n",
    "S_t.shape"
   ]
  },
  {
   "cell_type": "code",
   "execution_count": null,
   "metadata": {},
   "outputs": [],
   "source": [
    "test_susceptibility_symmetric_sweep(\n",
    "    susc_min=0.1,\n",
    "    susc_max=0.9,\n",
    "    n_susc=20,\n",
    "    ab_min=1.0,\n",
    "    ab_max=4.0,\n",
    "    n_ab=15\n",
    ")"
   ]
  },
  {
   "cell_type": "code",
   "execution_count": 27,
   "metadata": {},
   "outputs": [],
   "source": [
    "S_t, I_t, R_t = test_asymmetric_beta_sweep(\n",
    "    a_min=1.0,\n",
    "    a_max=3.0,\n",
    "    n_a=100,\n",
    "    b_min=2.0,\n",
    "    b_max=4.0,\n",
    "    n_b=100\n",
    ")"
   ]
  },
  {
   "cell_type": "code",
   "execution_count": null,
   "metadata": {},
   "outputs": [],
   "source": []
  }
 ],
 "metadata": {
  "kernelspec": {
   "display_name": "Optimal",
   "language": "python",
   "name": "python3"
  },
  "language_info": {
   "codemirror_mode": {
    "name": "ipython",
    "version": 3
   },
   "file_extension": ".py",
   "mimetype": "text/x-python",
   "name": "python",
   "nbconvert_exporter": "python",
   "pygments_lexer": "ipython3",
   "version": "3.11.4"
  }
 },
 "nbformat": 4,
 "nbformat_minor": 2
}
